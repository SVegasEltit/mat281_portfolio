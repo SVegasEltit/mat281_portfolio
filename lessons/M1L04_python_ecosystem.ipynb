{
 "cells": [
  {
   "cell_type": "markdown",
   "metadata": {},
   "source": [
    "# Ecosistema Python"
   ]
  },
  {
   "cell_type": "markdown",
   "metadata": {},
   "source": [
    "En la clase pasada hicimos un pequeño resumen de [Python](https://www.python.org/), pero ahora pondremos énfasis en su ecosistema y comunidad. Lo primoero, Python es un lenguaje de programación interpretado, cuya filosofía hace hincapié en una sintaxis muy limpia y un código legible. Aquí les presento una lista de razones para aprender Python.\n",
    "\n",
    "* Código abierto\n",
    "* Multiparadigma y Multiplataforma\n",
    "* Versatilidad a la hora de programar\n",
    "* Sintaxis amigable"
   ]
  },
  {
   "cell_type": "markdown",
   "metadata": {},
   "source": [
    "## Comunidad"
   ]
  },
  {
   "cell_type": "markdown",
   "metadata": {},
   "source": [
    "Desde 2012, Python ha crecido constantemente en popularidad, y es probable que la tendencia siga aumentando hasta que la comunidad migre a otro lenguaje.Según [Stack Overflow Developer Survey 2020](https://insights.stackoverflow.com/survey/2020#technology-most-loved-dreaded-and-wanted-languages-loved) se encuentra en los primeros lugares entre los lenguajes de programación más amados y buscados.\n",
    "\n",
    "Gracias a la popularidad de Python, es probable que encuentres una solución lista para usar en múltiples problemas que puedas estar enfrentando. La comunidad de Python es grande y están trabajando incansablemente para mejorar el lenguaje todos los días.\n",
    "\n",
    "Python también tiene una serie de patrocinadores corporativos, presionando para popularizar aún más el lenguaje. Entre ellos se encuentran gigantes tecnológicos como [Google](https://www.google.com/) o [NumFocus](https://numfocus.org/)."
   ]
  },
  {
   "cell_type": "markdown",
   "metadata": {},
   "source": [
    "![Ecosistema Científico](https://s3.amazonaws.com/media-p.slid.es/uploads/202361/images/2556567/PyData_Stack.png)\n",
    "\n",
    "\n",
    "Una gran ventaja de Python es la amplia selección de bibliotecas y _frameworks_ que ofrece. Hay una (o más) biblioteca(s) de Python para (casi) todo:\n",
    "\n",
    "* Visualización de datos,\n",
    "* Aprendizaje automático,\n",
    "* Ciencia de los datos,\n",
    "* Procesamiento natural del lenguaje,\n",
    "* Análisis de datos complejos.\n",
    "* Cálculo científico.\n",
    "\n",
    "Lo mismo es cierto para los _frameworks_, que ayudan a despegar su proyecto y le ahorran tiempo y esfuerzo. Hay una variedad de ellos para elegir, dependiendo de sus necesidades, tales como:\n",
    "\n",
    "* Django,\n",
    "* Flask,\n",
    "* Pyramid,\n",
    "* Twisted,\n",
    "* Falcon.\n",
    "\n",
    "En lo que respecta a este curso, hablaremos sobre todo de aquellas librerías pertenecientes al _stack_ científico."
   ]
  },
  {
   "cell_type": "markdown",
   "metadata": {},
   "source": [
    "## Performance"
   ]
  },
  {
   "cell_type": "markdown",
   "metadata": {},
   "source": [
    "Una de las mayores críticas de Python es el tiempo de ejecución, relativamente lento en comparación con otros lenguajes. Sin embargo, hay una solución alternativa a este desafío específico.\n",
    "\n",
    "Cuando el rendimiento tiene prioridad, Python le brinda la capacidad de integrar otros lenguajes de mayor rendimiento en su código. Cython es un buen ejemplo de tal solución. Optimiza su velocidad sin obligarlo a reescribir todo su código base desde cero.\n",
    "\n",
    "El recurso más caro no es el tiempo de CPU, sino el tiempo de tus desarrolladores. Por lo tanto, reducir el tiempo de comercialización siempre debe tener prioridad sobre la ejecución rápida del tiempo de ejecución. Puedes implementar rápidamente en Python y en el caso de necesitar más _performance_ es posible cambiar la implementación a lenguajes compilados como `C` o `Rust`.\n",
    "\n",
    "Python es intuitivo de leer, ya que se parece al inglés real, esto hace que el lenguaje sea fácil de descifrar y mantener. Además tiene una sintaxis clara y no requiere tantas líneas de código como `Java` o `C` para obtener resultados comparables."
   ]
  },
  {
   "cell_type": "markdown",
   "metadata": {},
   "source": [
    "## Zen de Python"
   ]
  },
  {
   "cell_type": "code",
   "execution_count": 1,
   "metadata": {},
   "outputs": [
    {
     "name": "stdout",
     "output_type": "stream",
     "text": [
      "The Zen of Python, by Tim Peters\n",
      "\n",
      "Beautiful is better than ugly.\n",
      "Explicit is better than implicit.\n",
      "Simple is better than complex.\n",
      "Complex is better than complicated.\n",
      "Flat is better than nested.\n",
      "Sparse is better than dense.\n",
      "Readability counts.\n",
      "Special cases aren't special enough to break the rules.\n",
      "Although practicality beats purity.\n",
      "Errors should never pass silently.\n",
      "Unless explicitly silenced.\n",
      "In the face of ambiguity, refuse the temptation to guess.\n",
      "There should be one-- and preferably only one --obvious way to do it.\n",
      "Although that way may not be obvious at first unless you're Dutch.\n",
      "Now is better than never.\n",
      "Although never is often better than *right* now.\n",
      "If the implementation is hard to explain, it's a bad idea.\n",
      "If the implementation is easy to explain, it may be a good idea.\n",
      "Namespaces are one honking great idea -- let's do more of those!\n"
     ]
    }
   ],
   "source": [
    "import this"
   ]
  },
  {
   "cell_type": "markdown",
   "metadata": {},
   "source": [
    "El **Zen** de Python te dará la guía para decidir sobre que hacer con tu código, no te dice como lo debes escribir, sino como debes pensar si estas programando en Python.\n",
    "\n",
    "Principios importantes:\n",
    "\n",
    "* **Explícito es mejor que implícito**: Que no se asuma nada, asegúrate que las cosas sean.\n",
    "* **Simple es mejor que complejo**: Evita código complejo, código espagueti o que hace mas cosas para poder hacer una simple tarea.\n",
    "* **Plano es mejor que anidado**: Si tu código tiene mas de 3 niveles de identación, deberías mover parte de ese código a una función.\n",
    "* **Los errores nunca deberían pasar silenciosamente**: No uses un Try/Except sin definir que tipo de error vas a cachar, viene de la mano con Explicito es mejor que implícito.\n",
    "* **Si la implementación es difícil de explicar, es mala idea**."
   ]
  },
  {
   "cell_type": "markdown",
   "metadata": {},
   "source": [
    "## Buenas Prácticas"
   ]
  },
  {
   "cell_type": "markdown",
   "metadata": {},
   "source": [
    "### Nombres de variables y comentarios"
   ]
  },
  {
   "cell_type": "markdown",
   "metadata": {},
   "source": [
    "Asigna nombres a las variables que tengan sentido o que puedan ser identificadas fácilmente, no importa que sean utilices más caracteres. Un mal ejemplo es el siguiente:"
   ]
  },
  {
   "cell_type": "code",
   "execution_count": 2,
   "metadata": {},
   "outputs": [
    {
     "name": "stdout",
     "output_type": "stream",
     "text": [
      "El área del triángulo es 17.5\n"
     ]
    }
   ],
   "source": [
    "a = 10.\n",
    "b = 3.5\n",
    "print(f\"El área del triángulo es {a * b / 2}\")"
   ]
  },
  {
   "cell_type": "markdown",
   "metadata": {},
   "source": [
    "¿Si otra persona lee este código puede saber qué significan `a` y  `b`? Lo puede saber por el comentario, pero sin embargo esas variables podrían ser utilizadas nuevamente y se perdería su significado al pasar las líneas de código. Recuerda, explícito es mejor que implícito."
   ]
  },
  {
   "cell_type": "code",
   "execution_count": 3,
   "metadata": {},
   "outputs": [
    {
     "name": "stdout",
     "output_type": "stream",
     "text": [
      "El área del triángulo es 17.5\n"
     ]
    }
   ],
   "source": [
    "altura = 10.\n",
    "base = 3.5\n",
    "print(f\"El área del triángulo es {altura * base / 2}\")"
   ]
  },
  {
   "cell_type": "markdown",
   "metadata": {},
   "source": [
    "Si con las nombres de las variables no basta, una buena práctica es comentar el código, ya sea antes de varías líneas o comentar una línea en particular."
   ]
  },
  {
   "cell_type": "code",
   "execution_count": 4,
   "metadata": {},
   "outputs": [
    {
     "name": "stdout",
     "output_type": "stream",
     "text": [
      "El área del triángulo es 17.5\n"
     ]
    }
   ],
   "source": [
    "# Se define la altura y base del triángulo\n",
    "altura = 10.  # en metros\n",
    "base = 3.5  # en metros\n",
    "# Se calcula el área del triángulo\n",
    "area = altura * base / 2\n",
    "print(f\"El área del triángulo es {area}\")"
   ]
  },
  {
   "cell_type": "markdown",
   "metadata": {},
   "source": [
    "### Documentación"
   ]
  },
  {
   "cell_type": "markdown",
   "metadata": {},
   "source": [
    "Casi tan importante como la escritura de código, es su correcta documentación, una parte fundamental de cualquier programa que a menudo se infravalora o simplemente se ignora. Aparte de los comentarios entre el código explicando cómo funciona, el elemento básico de documentación de Python es el Docstring o cadena de documentación, que ya hemos visto. Simplemente es una cadena de texto con triple comillas que se coloca justo después de la definición de función o clase que sirve de documentación a ese elemento."
   ]
  },
  {
   "cell_type": "code",
   "execution_count": 5,
   "metadata": {},
   "outputs": [],
   "source": [
    "def potencia(x, y):\n",
    "    \"\"\"\n",
    "    Calcula la potencia arbitraria de un numero\n",
    "    \"\"\"\n",
    "    return x ** y"
   ]
  },
  {
   "cell_type": "code",
   "execution_count": 6,
   "metadata": {},
   "outputs": [
    {
     "name": "stdout",
     "output_type": "stream",
     "text": [
      "\n",
      "    Calcula la potencia arbitraria de un numero\n",
      "    \n"
     ]
    }
   ],
   "source": [
    "# Acceso a la documentación\n",
    "print(potencia.__doc__)"
   ]
  },
  {
   "cell_type": "code",
   "execution_count": 7,
   "metadata": {},
   "outputs": [
    {
     "name": "stdout",
     "output_type": "stream",
     "text": [
      "Help on function potencia in module __main__:\n",
      "\n",
      "potencia(x, y)\n",
      "    Calcula la potencia arbitraria de un numero\n",
      "\n"
     ]
    }
   ],
   "source": [
    "# Acceso a la documentación\n",
    "help(potencia)"
   ]
  },
  {
   "cell_type": "code",
   "execution_count": 8,
   "metadata": {},
   "outputs": [
    {
     "data": {
      "text/plain": [
       "\u001b[0;31mSignature:\u001b[0m \u001b[0mpotencia\u001b[0m\u001b[0;34m(\u001b[0m\u001b[0mx\u001b[0m\u001b[0;34m,\u001b[0m \u001b[0my\u001b[0m\u001b[0;34m)\u001b[0m\u001b[0;34m\u001b[0m\u001b[0;34m\u001b[0m\u001b[0m\n",
       "\u001b[0;31mDocstring:\u001b[0m Calcula la potencia arbitraria de un numero\n",
       "\u001b[0;31mFile:\u001b[0m      ~/work/mat281_2020S2/lessons/<ipython-input-5-4239b553a9b4>\n",
       "\u001b[0;31mType:\u001b[0m      function\n"
      ]
     },
     "metadata": {},
     "output_type": "display_data"
    }
   ],
   "source": [
    "potencia?"
   ]
  },
  {
   "cell_type": "markdown",
   "metadata": {},
   "source": [
    "Lo correcto es detallar lo mejor posible en el *Docstring*, ya sea funcionamienot, parámetros, valores que retorna, etc.\n",
    "Veamos un ejemplo de la función `potencia` mejor documentada:"
   ]
  },
  {
   "cell_type": "code",
   "execution_count": 9,
   "metadata": {},
   "outputs": [],
   "source": [
    "def potencia(x, y):\n",
    "    \"\"\"\n",
    "    power(x1, x2[, out])\n",
    "\n",
    "    First array elements raised to powers from second array, element-wise.\n",
    "\n",
    "    Raise each base in `x1` to the positionally-corresponding power in\n",
    "    `x2`.  `x1` and `x2` must be broadcastable to the same shape. Note that an\n",
    "    integer type raised to a negative integer power will raise a ValueError.\n",
    "\n",
    "    Parameters\n",
    "    ----------\n",
    "    x1 : array_like\n",
    "        The bases.\n",
    "    x2 : array_like\n",
    "        The exponents.\n",
    "\n",
    "    Returns\n",
    "    -------\n",
    "    y : ndarray\n",
    "        The bases in `x1` raised to the exponents in `x2`.\n",
    "\n",
    "    See Also\n",
    "    --------\n",
    "    float_power : power function that promotes integers to float\n",
    "    \n",
    "    \n",
    "    Examples\n",
    "    --------\n",
    "    Cube each element in a list.\n",
    "\n",
    "    >>> x1 = range(6)\n",
    "    >>> x1\n",
    "    [0, 1, 2, 3, 4, 5]\n",
    "    >>> np.power(x1, 3)\n",
    "    array([  0,   1,   8,  27,  64, 125])\n",
    "\n",
    "    Raise the bases to different exponents.\n",
    "\n",
    "    >>> x2 = [1.0, 2.0, 3.0, 3.0, 2.0, 1.0]\n",
    "    >>> np.power(x1, x2)\n",
    "    array([  0.,   1.,   8.,  27.,  16.,   5.])\n",
    "\n",
    "    The effect of broadcasting.\n",
    "\n",
    "    >>> x2 = np.array([[1, 2, 3, 3, 2, 1], [1, 2, 3, 3, 2, 1]])\n",
    "    >>> x2\n",
    "    array([[1, 2, 3, 3, 2, 1],\n",
    "           [1, 2, 3, 3, 2, 1]])\n",
    "    >>> np.power(x1, x2)\n",
    "    array([[ 0,  1,  8, 27, 16,  5],\n",
    "           [ 0,  1,  8, 27, 16,  5]])\n",
    "       \n",
    "    \"\"\"\n",
    "    return x**y"
   ]
  },
  {
   "cell_type": "code",
   "execution_count": 10,
   "metadata": {},
   "outputs": [
    {
     "name": "stdout",
     "output_type": "stream",
     "text": [
      "\n",
      "    power(x1, x2[, out])\n",
      "\n",
      "    First array elements raised to powers from second array, element-wise.\n",
      "\n",
      "    Raise each base in `x1` to the positionally-corresponding power in\n",
      "    `x2`.  `x1` and `x2` must be broadcastable to the same shape. Note that an\n",
      "    integer type raised to a negative integer power will raise a ValueError.\n",
      "\n",
      "    Parameters\n",
      "    ----------\n",
      "    x1 : array_like\n",
      "        The bases.\n",
      "    x2 : array_like\n",
      "        The exponents.\n",
      "\n",
      "    Returns\n",
      "    -------\n",
      "    y : ndarray\n",
      "        The bases in `x1` raised to the exponents in `x2`.\n",
      "\n",
      "    See Also\n",
      "    --------\n",
      "    float_power : power function that promotes integers to float\n",
      "    \n",
      "    \n",
      "    Examples\n",
      "    --------\n",
      "    Cube each element in a list.\n",
      "\n",
      "    >>> x1 = range(6)\n",
      "    >>> x1\n",
      "    [0, 1, 2, 3, 4, 5]\n",
      "    >>> np.power(x1, 3)\n",
      "    array([  0,   1,   8,  27,  64, 125])\n",
      "\n",
      "    Raise the bases to different exponents.\n",
      "\n",
      "    >>> x2 = [1.0, 2.0, 3.0, 3.0, 2.0, 1.0]\n",
      "    >>> np.power(x1, x2)\n",
      "    array([  0.,   1.,   8.,  27.,  16.,   5.])\n",
      "\n",
      "    The effect of broadcasting.\n",
      "\n",
      "    >>> x2 = np.array([[1, 2, 3, 3, 2, 1], [1, 2, 3, 3, 2, 1]])\n",
      "    >>> x2\n",
      "    array([[1, 2, 3, 3, 2, 1],\n",
      "           [1, 2, 3, 3, 2, 1]])\n",
      "    >>> np.power(x1, x2)\n",
      "    array([[ 0,  1,  8, 27, 16,  5],\n",
      "           [ 0,  1,  8, 27, 16,  5]])\n",
      "       \n",
      "    \n"
     ]
    }
   ],
   "source": [
    "# Acceso a la documentación\n",
    "print(potencia.__doc__)"
   ]
  },
  {
   "cell_type": "code",
   "execution_count": 11,
   "metadata": {},
   "outputs": [
    {
     "name": "stdout",
     "output_type": "stream",
     "text": [
      "Help on function potencia in module __main__:\n",
      "\n",
      "potencia(x, y)\n",
      "    power(x1, x2[, out])\n",
      "    \n",
      "    First array elements raised to powers from second array, element-wise.\n",
      "    \n",
      "    Raise each base in `x1` to the positionally-corresponding power in\n",
      "    `x2`.  `x1` and `x2` must be broadcastable to the same shape. Note that an\n",
      "    integer type raised to a negative integer power will raise a ValueError.\n",
      "    \n",
      "    Parameters\n",
      "    ----------\n",
      "    x1 : array_like\n",
      "        The bases.\n",
      "    x2 : array_like\n",
      "        The exponents.\n",
      "    \n",
      "    Returns\n",
      "    -------\n",
      "    y : ndarray\n",
      "        The bases in `x1` raised to the exponents in `x2`.\n",
      "    \n",
      "    See Also\n",
      "    --------\n",
      "    float_power : power function that promotes integers to float\n",
      "    \n",
      "    \n",
      "    Examples\n",
      "    --------\n",
      "    Cube each element in a list.\n",
      "    \n",
      "    >>> x1 = range(6)\n",
      "    >>> x1\n",
      "    [0, 1, 2, 3, 4, 5]\n",
      "    >>> np.power(x1, 3)\n",
      "    array([  0,   1,   8,  27,  64, 125])\n",
      "    \n",
      "    Raise the bases to different exponents.\n",
      "    \n",
      "    >>> x2 = [1.0, 2.0, 3.0, 3.0, 2.0, 1.0]\n",
      "    >>> np.power(x1, x2)\n",
      "    array([  0.,   1.,   8.,  27.,  16.,   5.])\n",
      "    \n",
      "    The effect of broadcasting.\n",
      "    \n",
      "    >>> x2 = np.array([[1, 2, 3, 3, 2, 1], [1, 2, 3, 3, 2, 1]])\n",
      "    >>> x2\n",
      "    array([[1, 2, 3, 3, 2, 1],\n",
      "           [1, 2, 3, 3, 2, 1]])\n",
      "    >>> np.power(x1, x2)\n",
      "    array([[ 0,  1,  8, 27, 16,  5],\n",
      "           [ 0,  1,  8, 27, 16,  5]])\n",
      "\n"
     ]
    }
   ],
   "source": [
    "# Acceso a la documentación\n",
    "help(potencia)"
   ]
  },
  {
   "cell_type": "markdown",
   "metadata": {},
   "source": [
    "#### PEP8"
   ]
  },
  {
   "cell_type": "markdown",
   "metadata": {},
   "source": [
    "Además de una correcta y ordenada estructura general que deben tener los programa, es conveniente mantener ciertas buenas prácticas de codificación y el estilo de codificación recomendado. Estas normas no son obligatorias, como lo es la propia sintaxis del lenguaje, pero conviene [seguir las recomendaciones](https://legacy.python.org/dev/peps/pep-0008/) de los desarrolladores de Python para facilitar la lectura del programa y ayudar a encontrar posibles errores. Incluso dentro de PEP8 existen _\"sabores\"_ más estrictos, uno que ha ganado fama en el último tiempo es [Black](https://github.com/psf/black)."
   ]
  },
  {
   "cell_type": "markdown",
   "metadata": {},
   "source": [
    "### Manejo de excepciones"
   ]
  },
  {
   "cell_type": "markdown",
   "metadata": {},
   "source": [
    "Los errores que se producen en tiempo de ejecución se denominan excepciones. Ocurren, por ejemplo, cuando un archivo que intentamos abrir no existe *FileNotFoundError*, dividiendo un número por cero *ZeroDivisionError*, etc.\n",
    "\n",
    "Si no se manejan las excepciones, se escupe un mensaje de error y nuestro programa se detiene repentinamente e inesperadamente.\n",
    "\n",
    "En Python, las excepciones se pueden manejar usando la declaración try. Cuando se detectan excepciones, depende de ti qué operador realizar, pero siempre puedes _capturar_ todas las exepciones."
   ]
  },
  {
   "cell_type": "markdown",
   "metadata": {},
   "source": [
    "Ejemplo: Obtener el inverso multiplicativo de una lista de elementos."
   ]
  },
  {
   "cell_type": "code",
   "execution_count": 12,
   "metadata": {
    "tags": [
     "raises-exception"
    ]
   },
   "outputs": [
    {
     "name": "stdout",
     "output_type": "stream",
     "text": [
      "Intentando dividir 1 por 2\n",
      "1 dividido 2 es 0.5\n",
      "\n",
      "Intentando dividir 1 por 2.3\n",
      "1 dividido 2.3 es 0.4347826086956522\n",
      "\n",
      "Intentando dividir 1 por 0\n"
     ]
    },
    {
     "ename": "ZeroDivisionError",
     "evalue": "division by zero",
     "output_type": "error",
     "traceback": [
      "\u001b[0;31m---------------------------------------------------------------------------\u001b[0m",
      "\u001b[0;31mZeroDivisionError\u001b[0m                         Traceback (most recent call last)",
      "\u001b[0;32m<ipython-input-12-43d6566e765c>\u001b[0m in \u001b[0;36m<module>\u001b[0;34m\u001b[0m\n\u001b[1;32m      2\u001b[0m \u001b[0;32mfor\u001b[0m \u001b[0mx\u001b[0m \u001b[0;32min\u001b[0m \u001b[0mlista_con_errores\u001b[0m\u001b[0;34m:\u001b[0m\u001b[0;34m\u001b[0m\u001b[0;34m\u001b[0m\u001b[0m\n\u001b[1;32m      3\u001b[0m     \u001b[0mprint\u001b[0m\u001b[0;34m(\u001b[0m\u001b[0;34m\"Intentando dividir 1 por\"\u001b[0m\u001b[0;34m,\u001b[0m \u001b[0mx\u001b[0m\u001b[0;34m)\u001b[0m\u001b[0;34m\u001b[0m\u001b[0;34m\u001b[0m\u001b[0m\n\u001b[0;32m----> 4\u001b[0;31m     \u001b[0mr\u001b[0m \u001b[0;34m=\u001b[0m \u001b[0;36m1\u001b[0m \u001b[0;34m/\u001b[0m \u001b[0mx\u001b[0m\u001b[0;34m\u001b[0m\u001b[0;34m\u001b[0m\u001b[0m\n\u001b[0m\u001b[1;32m      5\u001b[0m     \u001b[0mprint\u001b[0m\u001b[0;34m(\u001b[0m\u001b[0;34mf\"1 dividido {x} es {r}\\n\"\u001b[0m\u001b[0;34m)\u001b[0m\u001b[0;34m\u001b[0m\u001b[0;34m\u001b[0m\u001b[0m\n",
      "\u001b[0;31mZeroDivisionError\u001b[0m: division by zero"
     ]
    }
   ],
   "source": [
    "lista_con_errores = [2, 2.3, 0, None, \"a\"]\n",
    "for x in lista_con_errores:\n",
    "    print(\"Intentando dividir 1 por\", x)\n",
    "    r = 1 / x\n",
    "    print(f\"1 dividido {x} es {r}\\n\")"
   ]
  },
  {
   "cell_type": "markdown",
   "metadata": {},
   "source": [
    "Problema! División por cero! La forma de caputar los errores es la siguiente:"
   ]
  },
  {
   "cell_type": "code",
   "execution_count": 13,
   "metadata": {},
   "outputs": [
    {
     "name": "stdout",
     "output_type": "stream",
     "text": [
      "Intentando dividir 1 por 2\n",
      "1 dividido 2 es 0.5\n",
      "\n",
      "Intentando dividir 1 por 2.3\n",
      "1 dividido 2.3 es 0.4347826086956522\n",
      "\n",
      "Intentando dividir 1 por 0\n",
      "Oops! Ocurrió una excepción del tipo: ZeroDivisionError y mensaje: division by zero\n",
      "\n",
      "Intentando dividir 1 por None\n",
      "Oops! Ocurrió una excepción del tipo: TypeError y mensaje: unsupported operand type(s) for /: 'int' and 'NoneType'\n",
      "\n",
      "Intentando dividir 1 por a\n",
      "Oops! Ocurrió una excepción del tipo: TypeError y mensaje: unsupported operand type(s) for /: 'int' and 'str'\n",
      "\n"
     ]
    }
   ],
   "source": [
    "import sys\n",
    "\n",
    "lista_con_errores = [2, 2.3, 0, None, \"a\"]\n",
    "for x in lista_con_errores:\n",
    "    try:\n",
    "        print(\"Intentando dividir 1 por\", x)\n",
    "        r = 1 / x\n",
    "        print(f\"1 dividido {x} es {r}\\n\")\n",
    "    except:\n",
    "        exc_type, exc_obj, exc_tb = sys.exc_info()\n",
    "        print(f\"Oops! Ocurrió una excepción del tipo: {exc_type.__name__} y mensaje: {exc_obj}\\n\")"
   ]
  },
  {
   "cell_type": "markdown",
   "metadata": {},
   "source": [
    "En proyectos más serios, se busca capturar cada tipo de excepción, por ejemplo:"
   ]
  },
  {
   "cell_type": "code",
   "execution_count": 14,
   "metadata": {},
   "outputs": [
    {
     "name": "stdout",
     "output_type": "stream",
     "text": [
      "Intentando dividir 1 por 2\n",
      "1 dividido 2 es 0.5\n",
      "\n",
      "Intentando dividir 1 por 2.3\n",
      "1 dividido 2.3 es 0.4347826086956522\n",
      "\n",
      "Intentando dividir 1 por 0\n",
      "division by zero\n",
      "No puedes dividir por cero!\n",
      "\n",
      "Intentando dividir 1 por None\n",
      "unsupported operand type(s) for /: 'int' and 'NoneType'\n",
      "No es posible dividir un 1 por un objeto de tipo NoneType!\n",
      "\n",
      "Intentando dividir 1 por a\n",
      "unsupported operand type(s) for /: 'int' and 'str'\n",
      "No es posible dividir un 1 por un objeto de tipo str!\n",
      "\n"
     ]
    }
   ],
   "source": [
    "lista_con_errores = [2, 2.3, 0, None, \"a\"]\n",
    "for x in lista_con_errores:\n",
    "    try:\n",
    "        print(\"Intentando dividir 1 por\", x)\n",
    "        r = 1 / x\n",
    "        print(f\"1 dividido {x} es {r}\\n\")\n",
    "    except ZeroDivisionError as e:\n",
    "        print(e)\n",
    "        print(\"No puedes dividir por cero!\\n\")\n",
    "    except TypeError as e:\n",
    "        print(e)\n",
    "        print(f\"No es posible dividir un 1 por un objeto de tipo {type(x).__name__}!\\n\")"
   ]
  },
  {
   "cell_type": "markdown",
   "metadata": {},
   "source": [
    "### Programación Orientada a Objetos"
   ]
  },
  {
   "cell_type": "markdown",
   "metadata": {},
   "source": [
    "Todo en Python es un objeto que incluye enteros, flotantes, funciones, clases y Ninguno. No nos centremos en por qué todo en Python es un objeto. Para eso, visite esta página. Más bien, esta sección se enfoca en crear sus propias clases y objetos.\n",
    "\n",
    "El objeto es simplemente una colección de datos (variables) y métodos (funciones) que actúan sobre los datos. Y, la clase es un modelo para el objeto.\n",
    "\n",
    "Tan pronto como defina una clase, se crea un nuevo objeto de clase con el mismo nombre. Este objeto de clase nos permite acceder a los diferentes atributos, así como crear instancias de nuevos objetos de esa clase."
   ]
  },
  {
   "cell_type": "code",
   "execution_count": 15,
   "metadata": {},
   "outputs": [
    {
     "name": "stdout",
     "output_type": "stream",
     "text": [
      "10\n",
      "<function Mi_clase.func at 0x7f73d843d8c0>\n",
      "Esta es mi clase\n"
     ]
    }
   ],
   "source": [
    "class Mi_clase:\n",
    "    \"Esta es mi clase\"\n",
    "    a = 10\n",
    "    def func(self):\n",
    "        print('hola')\n",
    "\n",
    "# Output: 10\n",
    "print(Mi_clase.a)\n",
    "\n",
    "# Output: <function 0x0000000003079bf8=\"\" at=\"\" myclass.func=\"\">\n",
    "print(Mi_clase.func)\n",
    "\n",
    "# Output: 'Esta es mi clase'\n",
    "print(Mi_clase.__doc__)"
   ]
  },
  {
   "cell_type": "markdown",
   "metadata": {},
   "source": [
    "Es posible que haya notado el parámetro *self* en la definición de la función dentro de la clase, pero llamamos al método simplemente como *ob.func()* sin ningún argumento. Aún funcionó.\n",
    "\n",
    "Esto se debe a que, cada vez que un objeto llama a su método, el objeto mismo se pasa como primer argumento. Entonces, *ob.func()* se traduce en *Mi_clase.func(ob)*."
   ]
  },
  {
   "cell_type": "markdown",
   "metadata": {},
   "source": [
    "Instanciar objetos también es muy sencillo."
   ]
  },
  {
   "cell_type": "code",
   "execution_count": 16,
   "metadata": {},
   "outputs": [
    {
     "name": "stdout",
     "output_type": "stream",
     "text": [
      "10\n",
      "15\n"
     ]
    }
   ],
   "source": [
    "obj1 = Mi_clase()\n",
    "print(obj1.a)        # Output: 10\n",
    " \n",
    "obj2 = Mi_clase()\n",
    "print(obj1.a + 5)    # Output: 15"
   ]
  },
  {
   "cell_type": "markdown",
   "metadata": {},
   "source": [
    "En Python, un método con el nombre *__init () __*  es un constructor. Este método se llama automáticamente cuando se instancia un objeto."
   ]
  },
  {
   "cell_type": "code",
   "execution_count": 38,
   "metadata": {},
   "outputs": [],
   "source": [
    "class NumerosComplejos:\n",
    "    \n",
    "    def __init__(self, r=0, i=0):  # constructor\n",
    "        self.real = r\n",
    "        self.imag = i\n",
    "\n",
    "    def obtener_representacion(self):\n",
    "        print(\"{0} + {1}j\".format(self.real, self.imag))"
   ]
  },
  {
   "cell_type": "code",
   "execution_count": 39,
   "metadata": {},
   "outputs": [
    {
     "name": "stdout",
     "output_type": "stream",
     "text": [
      "2 + 3j\n"
     ]
    }
   ],
   "source": [
    "c1 = NumerosComplejos(2,3) # crear el objeto NumerosComplejos\n",
    "c1.obtener_representacion() # Output: 2+3j"
   ]
  },
  {
   "cell_type": "code",
   "execution_count": 40,
   "metadata": {},
   "outputs": [
    {
     "name": "stdout",
     "output_type": "stream",
     "text": [
      "0 + 0j\n"
     ]
    }
   ],
   "source": [
    "c2 = NumerosComplejos() # crear un nuevo objeto NumerosComplejos\n",
    "c2.obtener_representacion() # Output: 0+0j"
   ]
  },
  {
   "cell_type": "markdown",
   "metadata": {},
   "source": [
    "La herencia se refiere a definir una nueva clase con poca o ninguna modificación a una clase existente. Tomemos un ejemplo:"
   ]
  },
  {
   "cell_type": "code",
   "execution_count": 29,
   "metadata": {},
   "outputs": [],
   "source": [
    "class Mamifero:\n",
    "\n",
    "    def __init__(self, nombre=\"Sin Nombre\"):\n",
    "        self.nombre = nombre\n",
    "\n",
    "    def caracteristicas(self):\n",
    "        print ('Los mamíferos son animales de sangre caliente')"
   ]
  },
  {
   "cell_type": "markdown",
   "metadata": {},
   "source": [
    "Derivemos una nueva clase Perro de esta clase *Mamifero*."
   ]
  },
  {
   "cell_type": "code",
   "execution_count": 44,
   "metadata": {},
   "outputs": [
    {
     "name": "stdout",
     "output_type": "stream",
     "text": [
      "Firulais: Guau!\n",
      "Firulais tiene 4 patas.\n",
      "Los mamíferos son animales de sangre caliente\n"
     ]
    }
   ],
   "source": [
    "class Perro(Mamifero):\n",
    "    \n",
    "    numero_patas = 4\n",
    "    \n",
    "    def ladrar(self):\n",
    "        print(f'{self.nombre}: Guau!')\n",
    "\n",
    "firulais = Perro(\"Firulais\")\n",
    "firulais.ladrar()\n",
    "print(f\"{firulais.nombre} tiene {firulais.numero_patas} patas.\")\n",
    "firulais.caracteristicas()"
   ]
  },
  {
   "cell_type": "markdown",
   "metadata": {},
   "source": [
    "Lo importante aquí es que notes que hay elementos que pertenecen a cada perro, como su nombre y la cantidad de patas. Pero también hay acciones que puede realizar un perro. En programación orientada a objetos, esto se conoce como atributos y métodos respectivamente."
   ]
  },
  {
   "cell_type": "markdown",
   "metadata": {},
   "source": [
    "#### Decoradores"
   ]
  },
  {
   "cell_type": "markdown",
   "metadata": {},
   "source": [
    "Python tiene una característica interesante llamada decoradores para agregar funcionalidad a un código existente.\n",
    "Esto también se llama metaprogramación ya que una parte del programa intenta modificar otra parte del programa en tiempo de compilación."
   ]
  },
  {
   "cell_type": "code",
   "execution_count": 22,
   "metadata": {},
   "outputs": [
    {
     "name": "stdout",
     "output_type": "stream",
     "text": [
      "La funcion Sumar es llamada!!!\n",
      "12\n"
     ]
    }
   ],
   "source": [
    "def debug(f):\n",
    "    def nueva_funcion(a, b):\n",
    "        print(\"La funcion Sumar es llamada!!!\")\n",
    "        return f(a, b)\n",
    "    return nueva_funcion\n",
    "\n",
    "\n",
    "@debug # decorador\n",
    "def Sumar(a, b):\n",
    "    return a + b\n",
    "print(Sumar(7, 5))"
   ]
  },
  {
   "cell_type": "markdown",
   "metadata": {},
   "source": [
    "Hay decoradores especiales que se utilizan al declarar clases, por ejemplo `classmethod`."
   ]
  },
  {
   "cell_type": "code",
   "execution_count": 36,
   "metadata": {},
   "outputs": [],
   "source": [
    "import random, string\n",
    "\n",
    "class Gato(Mamifero):\n",
    "\n",
    "    numero_patas = 4\n",
    "\n",
    "    def maullar(self):\n",
    "        print(f'{self.nombre}: Miau!')\n",
    "    \n",
    "    @classmethod\n",
    "    def random_name(cls, length=8):\n",
    "        letras = string.ascii_lowercase\n",
    "        nombre = ''.join(random.choice(letras) for i in range(length))\n",
    "        return cls(nombre=nombre)"
   ]
  },
  {
   "cell_type": "code",
   "execution_count": 34,
   "metadata": {},
   "outputs": [
    {
     "name": "stdout",
     "output_type": "stream",
     "text": [
      "Gañaña: Miau!\n"
     ]
    }
   ],
   "source": [
    "gañaña = Gato(nombre=\"Gañaña\")\n",
    "gañaña.maullar()"
   ]
  },
  {
   "cell_type": "code",
   "execution_count": 37,
   "metadata": {},
   "outputs": [
    {
     "name": "stdout",
     "output_type": "stream",
     "text": [
      "dbeaewjfiv: Miau!\n"
     ]
    }
   ],
   "source": [
    "random_gato = Gato.random_name(length=10)\n",
    "random_gato.maullar()"
   ]
  },
  {
   "cell_type": "markdown",
   "metadata": {},
   "source": [
    "No te preocupes si parece chino mandarín, en el curso no crearemos nuestras propias clases, si no que aprenderemos a leer documentación para utilizar las clases que ya han sido implementadas."
   ]
  }
 ],
 "metadata": {
  "kernelspec": {
   "display_name": "Python 3",
   "language": "python",
   "name": "python3"
  },
  "language_info": {
   "codemirror_mode": {
    "name": "ipython",
    "version": 3
   },
   "file_extension": ".py",
   "mimetype": "text/x-python",
   "name": "python",
   "nbconvert_exporter": "python",
   "pygments_lexer": "ipython3",
   "version": "3.7.6"
  }
 },
 "nbformat": 4,
 "nbformat_minor": 4
}
