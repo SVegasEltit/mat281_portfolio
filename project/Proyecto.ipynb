{
 "cells": [
  {
   "cell_type": "markdown",
   "metadata": {},
   "source": [
    "# Exoplanetas"
   ]
  },
  {
   "cell_type": "markdown",
   "metadata": {},
   "source": [
    "<img src=https://www.hpcf.upr.edu/~abel/phl/hec2/images/HEC_All_Distance.jpg>\n"
   ]
  },
  {
   "cell_type": "markdown",
   "metadata": {},
   "source": [
    "**Miembros:**\n",
    "- Roberto González\n",
    "- Emilio Oyanedel\n",
    "- Sebastián Vegas\n"
   ]
  },
  {
   "cell_type": "markdown",
   "metadata": {},
   "source": [
    "## Definición del problema "
   ]
  },
  {
   "cell_type": "markdown",
   "metadata": {},
   "source": [
    "El observatorio espacial Kepler es un satélite construido por la NASA que fue lanzado el año 2009 dedicado a la búsqueda de exoplanetas en sistemas de estrellas cercanas a la nuestra, con el objetivo de posiblemente encontrar otro planeta habitable cercano al nuestro. La misión original terminó en 2013 por fallas mecánicas, sin embargo desde 2014 ha seguido funcionando.\n",
    "\n",
    "Este dataset es un registro acumulado de las observaciones de objetos de interés de Kepler (en adelante KOI).\n",
    "\n",
    "Actualmente, utilizando los datos del telescopio, resulta difícil determinar cuales de las observaciones corresponden efectivamente a exoplanetas, es por esto que la NASA utiliza 3 categorías, confirmados, candidatos y falsos positivos. Sin embargo, la categoría de candidatos no es de nuestro interés, por tanto nuestro objetivo será clasificar los datos como confirmado o falsos positivos"
   ]
  },
  {
   "cell_type": "markdown",
   "metadata": {},
   "source": [
    "## Estadística descriptiva "
   ]
  },
  {
   "cell_type": "code",
   "execution_count": 1,
   "metadata": {},
   "outputs": [],
   "source": [
    "import pandas as pd\n",
    "import numpy as np\n",
    "import matplotlib\n",
    "import matplotlib.pyplot as plt\n",
    "# from mlxtend.plotting import plot_decision_regions\n",
    "import altair as alt\n",
    "import os\n",
    "from timeit import timeit\n",
    "pd.set_option('display.max_columns', 999)\n",
    "alt.data_transformers.enable('data_server')\n",
    "%matplotlib inline\n",
    "matplotlib.rcParams['figure.figsize'] = [20, 20]"
   ]
  },
  {
   "cell_type": "code",
   "execution_count": 2,
   "metadata": {},
   "outputs": [],
   "source": [
    "exoplanets= pd.read_csv(os.path.join( \"cumulative.csv\"))"
   ]
  },
  {
   "cell_type": "code",
   "execution_count": 3,
   "metadata": {},
   "outputs": [
    {
     "data": {
      "text/html": [
       "<div>\n",
       "<style scoped>\n",
       "    .dataframe tbody tr th:only-of-type {\n",
       "        vertical-align: middle;\n",
       "    }\n",
       "\n",
       "    .dataframe tbody tr th {\n",
       "        vertical-align: top;\n",
       "    }\n",
       "\n",
       "    .dataframe thead th {\n",
       "        text-align: right;\n",
       "    }\n",
       "</style>\n",
       "<table border=\"1\" class=\"dataframe\">\n",
       "  <thead>\n",
       "    <tr style=\"text-align: right;\">\n",
       "      <th></th>\n",
       "      <th>rowid</th>\n",
       "      <th>kepid</th>\n",
       "      <th>kepoi_name</th>\n",
       "      <th>kepler_name</th>\n",
       "      <th>koi_disposition</th>\n",
       "      <th>koi_pdisposition</th>\n",
       "      <th>koi_score</th>\n",
       "      <th>koi_fpflag_nt</th>\n",
       "      <th>koi_fpflag_ss</th>\n",
       "      <th>koi_fpflag_co</th>\n",
       "      <th>koi_fpflag_ec</th>\n",
       "      <th>koi_period</th>\n",
       "      <th>koi_period_err1</th>\n",
       "      <th>koi_period_err2</th>\n",
       "      <th>koi_time0bk</th>\n",
       "      <th>koi_time0bk_err1</th>\n",
       "      <th>koi_time0bk_err2</th>\n",
       "      <th>koi_impact</th>\n",
       "      <th>koi_impact_err1</th>\n",
       "      <th>koi_impact_err2</th>\n",
       "      <th>koi_duration</th>\n",
       "      <th>koi_duration_err1</th>\n",
       "      <th>koi_duration_err2</th>\n",
       "      <th>koi_depth</th>\n",
       "      <th>koi_depth_err1</th>\n",
       "      <th>koi_depth_err2</th>\n",
       "      <th>koi_prad</th>\n",
       "      <th>koi_prad_err1</th>\n",
       "      <th>koi_prad_err2</th>\n",
       "      <th>koi_teq</th>\n",
       "      <th>koi_teq_err1</th>\n",
       "      <th>koi_teq_err2</th>\n",
       "      <th>koi_insol</th>\n",
       "      <th>koi_insol_err1</th>\n",
       "      <th>koi_insol_err2</th>\n",
       "      <th>koi_model_snr</th>\n",
       "      <th>koi_tce_plnt_num</th>\n",
       "      <th>koi_tce_delivname</th>\n",
       "      <th>koi_steff</th>\n",
       "      <th>koi_steff_err1</th>\n",
       "      <th>koi_steff_err2</th>\n",
       "      <th>koi_slogg</th>\n",
       "      <th>koi_slogg_err1</th>\n",
       "      <th>koi_slogg_err2</th>\n",
       "      <th>koi_srad</th>\n",
       "      <th>koi_srad_err1</th>\n",
       "      <th>koi_srad_err2</th>\n",
       "      <th>ra</th>\n",
       "      <th>dec</th>\n",
       "      <th>koi_kepmag</th>\n",
       "    </tr>\n",
       "  </thead>\n",
       "  <tbody>\n",
       "    <tr>\n",
       "      <th>0</th>\n",
       "      <td>1</td>\n",
       "      <td>10797460</td>\n",
       "      <td>K00752.01</td>\n",
       "      <td>Kepler-227 b</td>\n",
       "      <td>CONFIRMED</td>\n",
       "      <td>CANDIDATE</td>\n",
       "      <td>1.000</td>\n",
       "      <td>0</td>\n",
       "      <td>0</td>\n",
       "      <td>0</td>\n",
       "      <td>0</td>\n",
       "      <td>9.488036</td>\n",
       "      <td>2.775000e-05</td>\n",
       "      <td>-2.775000e-05</td>\n",
       "      <td>170.538750</td>\n",
       "      <td>0.002160</td>\n",
       "      <td>-0.002160</td>\n",
       "      <td>0.146</td>\n",
       "      <td>0.318</td>\n",
       "      <td>-0.146</td>\n",
       "      <td>2.95750</td>\n",
       "      <td>0.08190</td>\n",
       "      <td>-0.08190</td>\n",
       "      <td>615.8</td>\n",
       "      <td>19.5</td>\n",
       "      <td>-19.5</td>\n",
       "      <td>2.26</td>\n",
       "      <td>0.26</td>\n",
       "      <td>-0.15</td>\n",
       "      <td>793.0</td>\n",
       "      <td>NaN</td>\n",
       "      <td>NaN</td>\n",
       "      <td>93.59</td>\n",
       "      <td>29.45</td>\n",
       "      <td>-16.65</td>\n",
       "      <td>35.8</td>\n",
       "      <td>1.0</td>\n",
       "      <td>q1_q17_dr25_tce</td>\n",
       "      <td>5455.0</td>\n",
       "      <td>81.0</td>\n",
       "      <td>-81.0</td>\n",
       "      <td>4.467</td>\n",
       "      <td>0.064</td>\n",
       "      <td>-0.096</td>\n",
       "      <td>0.927</td>\n",
       "      <td>0.105</td>\n",
       "      <td>-0.061</td>\n",
       "      <td>291.93423</td>\n",
       "      <td>48.141651</td>\n",
       "      <td>15.347</td>\n",
       "    </tr>\n",
       "    <tr>\n",
       "      <th>1</th>\n",
       "      <td>2</td>\n",
       "      <td>10797460</td>\n",
       "      <td>K00752.02</td>\n",
       "      <td>Kepler-227 c</td>\n",
       "      <td>CONFIRMED</td>\n",
       "      <td>CANDIDATE</td>\n",
       "      <td>0.969</td>\n",
       "      <td>0</td>\n",
       "      <td>0</td>\n",
       "      <td>0</td>\n",
       "      <td>0</td>\n",
       "      <td>54.418383</td>\n",
       "      <td>2.479000e-04</td>\n",
       "      <td>-2.479000e-04</td>\n",
       "      <td>162.513840</td>\n",
       "      <td>0.003520</td>\n",
       "      <td>-0.003520</td>\n",
       "      <td>0.586</td>\n",
       "      <td>0.059</td>\n",
       "      <td>-0.443</td>\n",
       "      <td>4.50700</td>\n",
       "      <td>0.11600</td>\n",
       "      <td>-0.11600</td>\n",
       "      <td>874.8</td>\n",
       "      <td>35.5</td>\n",
       "      <td>-35.5</td>\n",
       "      <td>2.83</td>\n",
       "      <td>0.32</td>\n",
       "      <td>-0.19</td>\n",
       "      <td>443.0</td>\n",
       "      <td>NaN</td>\n",
       "      <td>NaN</td>\n",
       "      <td>9.11</td>\n",
       "      <td>2.87</td>\n",
       "      <td>-1.62</td>\n",
       "      <td>25.8</td>\n",
       "      <td>2.0</td>\n",
       "      <td>q1_q17_dr25_tce</td>\n",
       "      <td>5455.0</td>\n",
       "      <td>81.0</td>\n",
       "      <td>-81.0</td>\n",
       "      <td>4.467</td>\n",
       "      <td>0.064</td>\n",
       "      <td>-0.096</td>\n",
       "      <td>0.927</td>\n",
       "      <td>0.105</td>\n",
       "      <td>-0.061</td>\n",
       "      <td>291.93423</td>\n",
       "      <td>48.141651</td>\n",
       "      <td>15.347</td>\n",
       "    </tr>\n",
       "    <tr>\n",
       "      <th>2</th>\n",
       "      <td>3</td>\n",
       "      <td>10811496</td>\n",
       "      <td>K00753.01</td>\n",
       "      <td>NaN</td>\n",
       "      <td>FALSE POSITIVE</td>\n",
       "      <td>FALSE POSITIVE</td>\n",
       "      <td>0.000</td>\n",
       "      <td>0</td>\n",
       "      <td>1</td>\n",
       "      <td>0</td>\n",
       "      <td>0</td>\n",
       "      <td>19.899140</td>\n",
       "      <td>1.494000e-05</td>\n",
       "      <td>-1.494000e-05</td>\n",
       "      <td>175.850252</td>\n",
       "      <td>0.000581</td>\n",
       "      <td>-0.000581</td>\n",
       "      <td>0.969</td>\n",
       "      <td>5.126</td>\n",
       "      <td>-0.077</td>\n",
       "      <td>1.78220</td>\n",
       "      <td>0.03410</td>\n",
       "      <td>-0.03410</td>\n",
       "      <td>10829.0</td>\n",
       "      <td>171.0</td>\n",
       "      <td>-171.0</td>\n",
       "      <td>14.60</td>\n",
       "      <td>3.92</td>\n",
       "      <td>-1.31</td>\n",
       "      <td>638.0</td>\n",
       "      <td>NaN</td>\n",
       "      <td>NaN</td>\n",
       "      <td>39.30</td>\n",
       "      <td>31.04</td>\n",
       "      <td>-10.49</td>\n",
       "      <td>76.3</td>\n",
       "      <td>1.0</td>\n",
       "      <td>q1_q17_dr25_tce</td>\n",
       "      <td>5853.0</td>\n",
       "      <td>158.0</td>\n",
       "      <td>-176.0</td>\n",
       "      <td>4.544</td>\n",
       "      <td>0.044</td>\n",
       "      <td>-0.176</td>\n",
       "      <td>0.868</td>\n",
       "      <td>0.233</td>\n",
       "      <td>-0.078</td>\n",
       "      <td>297.00482</td>\n",
       "      <td>48.134129</td>\n",
       "      <td>15.436</td>\n",
       "    </tr>\n",
       "    <tr>\n",
       "      <th>3</th>\n",
       "      <td>4</td>\n",
       "      <td>10848459</td>\n",
       "      <td>K00754.01</td>\n",
       "      <td>NaN</td>\n",
       "      <td>FALSE POSITIVE</td>\n",
       "      <td>FALSE POSITIVE</td>\n",
       "      <td>0.000</td>\n",
       "      <td>0</td>\n",
       "      <td>1</td>\n",
       "      <td>0</td>\n",
       "      <td>0</td>\n",
       "      <td>1.736952</td>\n",
       "      <td>2.630000e-07</td>\n",
       "      <td>-2.630000e-07</td>\n",
       "      <td>170.307565</td>\n",
       "      <td>0.000115</td>\n",
       "      <td>-0.000115</td>\n",
       "      <td>1.276</td>\n",
       "      <td>0.115</td>\n",
       "      <td>-0.092</td>\n",
       "      <td>2.40641</td>\n",
       "      <td>0.00537</td>\n",
       "      <td>-0.00537</td>\n",
       "      <td>8079.2</td>\n",
       "      <td>12.8</td>\n",
       "      <td>-12.8</td>\n",
       "      <td>33.46</td>\n",
       "      <td>8.50</td>\n",
       "      <td>-2.83</td>\n",
       "      <td>1395.0</td>\n",
       "      <td>NaN</td>\n",
       "      <td>NaN</td>\n",
       "      <td>891.96</td>\n",
       "      <td>668.95</td>\n",
       "      <td>-230.35</td>\n",
       "      <td>505.6</td>\n",
       "      <td>1.0</td>\n",
       "      <td>q1_q17_dr25_tce</td>\n",
       "      <td>5805.0</td>\n",
       "      <td>157.0</td>\n",
       "      <td>-174.0</td>\n",
       "      <td>4.564</td>\n",
       "      <td>0.053</td>\n",
       "      <td>-0.168</td>\n",
       "      <td>0.791</td>\n",
       "      <td>0.201</td>\n",
       "      <td>-0.067</td>\n",
       "      <td>285.53461</td>\n",
       "      <td>48.285210</td>\n",
       "      <td>15.597</td>\n",
       "    </tr>\n",
       "    <tr>\n",
       "      <th>4</th>\n",
       "      <td>5</td>\n",
       "      <td>10854555</td>\n",
       "      <td>K00755.01</td>\n",
       "      <td>Kepler-664 b</td>\n",
       "      <td>CONFIRMED</td>\n",
       "      <td>CANDIDATE</td>\n",
       "      <td>1.000</td>\n",
       "      <td>0</td>\n",
       "      <td>0</td>\n",
       "      <td>0</td>\n",
       "      <td>0</td>\n",
       "      <td>2.525592</td>\n",
       "      <td>3.761000e-06</td>\n",
       "      <td>-3.761000e-06</td>\n",
       "      <td>171.595550</td>\n",
       "      <td>0.001130</td>\n",
       "      <td>-0.001130</td>\n",
       "      <td>0.701</td>\n",
       "      <td>0.235</td>\n",
       "      <td>-0.478</td>\n",
       "      <td>1.65450</td>\n",
       "      <td>0.04200</td>\n",
       "      <td>-0.04200</td>\n",
       "      <td>603.3</td>\n",
       "      <td>16.9</td>\n",
       "      <td>-16.9</td>\n",
       "      <td>2.75</td>\n",
       "      <td>0.88</td>\n",
       "      <td>-0.35</td>\n",
       "      <td>1406.0</td>\n",
       "      <td>NaN</td>\n",
       "      <td>NaN</td>\n",
       "      <td>926.16</td>\n",
       "      <td>874.33</td>\n",
       "      <td>-314.24</td>\n",
       "      <td>40.9</td>\n",
       "      <td>1.0</td>\n",
       "      <td>q1_q17_dr25_tce</td>\n",
       "      <td>6031.0</td>\n",
       "      <td>169.0</td>\n",
       "      <td>-211.0</td>\n",
       "      <td>4.438</td>\n",
       "      <td>0.070</td>\n",
       "      <td>-0.210</td>\n",
       "      <td>1.046</td>\n",
       "      <td>0.334</td>\n",
       "      <td>-0.133</td>\n",
       "      <td>288.75488</td>\n",
       "      <td>48.226200</td>\n",
       "      <td>15.509</td>\n",
       "    </tr>\n",
       "    <tr>\n",
       "      <th>...</th>\n",
       "      <td>...</td>\n",
       "      <td>...</td>\n",
       "      <td>...</td>\n",
       "      <td>...</td>\n",
       "      <td>...</td>\n",
       "      <td>...</td>\n",
       "      <td>...</td>\n",
       "      <td>...</td>\n",
       "      <td>...</td>\n",
       "      <td>...</td>\n",
       "      <td>...</td>\n",
       "      <td>...</td>\n",
       "      <td>...</td>\n",
       "      <td>...</td>\n",
       "      <td>...</td>\n",
       "      <td>...</td>\n",
       "      <td>...</td>\n",
       "      <td>...</td>\n",
       "      <td>...</td>\n",
       "      <td>...</td>\n",
       "      <td>...</td>\n",
       "      <td>...</td>\n",
       "      <td>...</td>\n",
       "      <td>...</td>\n",
       "      <td>...</td>\n",
       "      <td>...</td>\n",
       "      <td>...</td>\n",
       "      <td>...</td>\n",
       "      <td>...</td>\n",
       "      <td>...</td>\n",
       "      <td>...</td>\n",
       "      <td>...</td>\n",
       "      <td>...</td>\n",
       "      <td>...</td>\n",
       "      <td>...</td>\n",
       "      <td>...</td>\n",
       "      <td>...</td>\n",
       "      <td>...</td>\n",
       "      <td>...</td>\n",
       "      <td>...</td>\n",
       "      <td>...</td>\n",
       "      <td>...</td>\n",
       "      <td>...</td>\n",
       "      <td>...</td>\n",
       "      <td>...</td>\n",
       "      <td>...</td>\n",
       "      <td>...</td>\n",
       "      <td>...</td>\n",
       "      <td>...</td>\n",
       "      <td>...</td>\n",
       "    </tr>\n",
       "    <tr>\n",
       "      <th>9559</th>\n",
       "      <td>9560</td>\n",
       "      <td>10031643</td>\n",
       "      <td>K07984.01</td>\n",
       "      <td>NaN</td>\n",
       "      <td>FALSE POSITIVE</td>\n",
       "      <td>FALSE POSITIVE</td>\n",
       "      <td>0.000</td>\n",
       "      <td>0</td>\n",
       "      <td>0</td>\n",
       "      <td>0</td>\n",
       "      <td>1</td>\n",
       "      <td>8.589871</td>\n",
       "      <td>1.846000e-04</td>\n",
       "      <td>-1.846000e-04</td>\n",
       "      <td>132.016100</td>\n",
       "      <td>0.015700</td>\n",
       "      <td>-0.015700</td>\n",
       "      <td>0.765</td>\n",
       "      <td>0.023</td>\n",
       "      <td>-0.541</td>\n",
       "      <td>4.80600</td>\n",
       "      <td>0.63400</td>\n",
       "      <td>-0.63400</td>\n",
       "      <td>87.7</td>\n",
       "      <td>13.0</td>\n",
       "      <td>-13.0</td>\n",
       "      <td>1.11</td>\n",
       "      <td>0.32</td>\n",
       "      <td>-0.23</td>\n",
       "      <td>929.0</td>\n",
       "      <td>NaN</td>\n",
       "      <td>NaN</td>\n",
       "      <td>176.40</td>\n",
       "      <td>152.77</td>\n",
       "      <td>-77.60</td>\n",
       "      <td>8.4</td>\n",
       "      <td>1.0</td>\n",
       "      <td>q1_q17_dr25_tce</td>\n",
       "      <td>5638.0</td>\n",
       "      <td>169.0</td>\n",
       "      <td>-152.0</td>\n",
       "      <td>4.296</td>\n",
       "      <td>0.231</td>\n",
       "      <td>-0.189</td>\n",
       "      <td>1.088</td>\n",
       "      <td>0.313</td>\n",
       "      <td>-0.228</td>\n",
       "      <td>298.74921</td>\n",
       "      <td>46.973351</td>\n",
       "      <td>14.478</td>\n",
       "    </tr>\n",
       "    <tr>\n",
       "      <th>9560</th>\n",
       "      <td>9561</td>\n",
       "      <td>10090151</td>\n",
       "      <td>K07985.01</td>\n",
       "      <td>NaN</td>\n",
       "      <td>FALSE POSITIVE</td>\n",
       "      <td>FALSE POSITIVE</td>\n",
       "      <td>0.000</td>\n",
       "      <td>0</td>\n",
       "      <td>1</td>\n",
       "      <td>1</td>\n",
       "      <td>0</td>\n",
       "      <td>0.527699</td>\n",
       "      <td>1.160000e-07</td>\n",
       "      <td>-1.160000e-07</td>\n",
       "      <td>131.705093</td>\n",
       "      <td>0.000170</td>\n",
       "      <td>-0.000170</td>\n",
       "      <td>1.252</td>\n",
       "      <td>0.051</td>\n",
       "      <td>-0.049</td>\n",
       "      <td>3.22210</td>\n",
       "      <td>0.01740</td>\n",
       "      <td>-0.01740</td>\n",
       "      <td>1579.2</td>\n",
       "      <td>4.6</td>\n",
       "      <td>-4.6</td>\n",
       "      <td>29.35</td>\n",
       "      <td>7.70</td>\n",
       "      <td>-2.57</td>\n",
       "      <td>2088.0</td>\n",
       "      <td>NaN</td>\n",
       "      <td>NaN</td>\n",
       "      <td>4500.53</td>\n",
       "      <td>3406.38</td>\n",
       "      <td>-1175.26</td>\n",
       "      <td>453.3</td>\n",
       "      <td>1.0</td>\n",
       "      <td>q1_q17_dr25_tce</td>\n",
       "      <td>5638.0</td>\n",
       "      <td>139.0</td>\n",
       "      <td>-166.0</td>\n",
       "      <td>4.529</td>\n",
       "      <td>0.035</td>\n",
       "      <td>-0.196</td>\n",
       "      <td>0.903</td>\n",
       "      <td>0.237</td>\n",
       "      <td>-0.079</td>\n",
       "      <td>297.18875</td>\n",
       "      <td>47.093819</td>\n",
       "      <td>14.082</td>\n",
       "    </tr>\n",
       "    <tr>\n",
       "      <th>9561</th>\n",
       "      <td>9562</td>\n",
       "      <td>10128825</td>\n",
       "      <td>K07986.01</td>\n",
       "      <td>NaN</td>\n",
       "      <td>CANDIDATE</td>\n",
       "      <td>CANDIDATE</td>\n",
       "      <td>0.497</td>\n",
       "      <td>0</td>\n",
       "      <td>0</td>\n",
       "      <td>0</td>\n",
       "      <td>0</td>\n",
       "      <td>1.739849</td>\n",
       "      <td>1.780000e-05</td>\n",
       "      <td>-1.780000e-05</td>\n",
       "      <td>133.001270</td>\n",
       "      <td>0.007690</td>\n",
       "      <td>-0.007690</td>\n",
       "      <td>0.043</td>\n",
       "      <td>0.423</td>\n",
       "      <td>-0.043</td>\n",
       "      <td>3.11400</td>\n",
       "      <td>0.22900</td>\n",
       "      <td>-0.22900</td>\n",
       "      <td>48.5</td>\n",
       "      <td>5.4</td>\n",
       "      <td>-5.4</td>\n",
       "      <td>0.72</td>\n",
       "      <td>0.24</td>\n",
       "      <td>-0.08</td>\n",
       "      <td>1608.0</td>\n",
       "      <td>NaN</td>\n",
       "      <td>NaN</td>\n",
       "      <td>1585.81</td>\n",
       "      <td>1537.86</td>\n",
       "      <td>-502.22</td>\n",
       "      <td>10.6</td>\n",
       "      <td>1.0</td>\n",
       "      <td>q1_q17_dr25_tce</td>\n",
       "      <td>6119.0</td>\n",
       "      <td>165.0</td>\n",
       "      <td>-220.0</td>\n",
       "      <td>4.444</td>\n",
       "      <td>0.056</td>\n",
       "      <td>-0.224</td>\n",
       "      <td>1.031</td>\n",
       "      <td>0.341</td>\n",
       "      <td>-0.114</td>\n",
       "      <td>286.50937</td>\n",
       "      <td>47.163219</td>\n",
       "      <td>14.757</td>\n",
       "    </tr>\n",
       "    <tr>\n",
       "      <th>9562</th>\n",
       "      <td>9563</td>\n",
       "      <td>10147276</td>\n",
       "      <td>K07987.01</td>\n",
       "      <td>NaN</td>\n",
       "      <td>FALSE POSITIVE</td>\n",
       "      <td>FALSE POSITIVE</td>\n",
       "      <td>0.021</td>\n",
       "      <td>0</td>\n",
       "      <td>0</td>\n",
       "      <td>1</td>\n",
       "      <td>0</td>\n",
       "      <td>0.681402</td>\n",
       "      <td>2.434000e-06</td>\n",
       "      <td>-2.434000e-06</td>\n",
       "      <td>132.181750</td>\n",
       "      <td>0.002850</td>\n",
       "      <td>-0.002850</td>\n",
       "      <td>0.147</td>\n",
       "      <td>0.309</td>\n",
       "      <td>-0.147</td>\n",
       "      <td>0.86500</td>\n",
       "      <td>0.16200</td>\n",
       "      <td>-0.16200</td>\n",
       "      <td>103.6</td>\n",
       "      <td>14.7</td>\n",
       "      <td>-14.7</td>\n",
       "      <td>1.07</td>\n",
       "      <td>0.36</td>\n",
       "      <td>-0.11</td>\n",
       "      <td>2218.0</td>\n",
       "      <td>NaN</td>\n",
       "      <td>NaN</td>\n",
       "      <td>5713.41</td>\n",
       "      <td>5675.74</td>\n",
       "      <td>-1836.94</td>\n",
       "      <td>12.3</td>\n",
       "      <td>1.0</td>\n",
       "      <td>q1_q17_dr25_tce</td>\n",
       "      <td>6173.0</td>\n",
       "      <td>193.0</td>\n",
       "      <td>-236.0</td>\n",
       "      <td>4.447</td>\n",
       "      <td>0.056</td>\n",
       "      <td>-0.224</td>\n",
       "      <td>1.041</td>\n",
       "      <td>0.341</td>\n",
       "      <td>-0.114</td>\n",
       "      <td>294.16489</td>\n",
       "      <td>47.176281</td>\n",
       "      <td>15.385</td>\n",
       "    </tr>\n",
       "    <tr>\n",
       "      <th>9563</th>\n",
       "      <td>9564</td>\n",
       "      <td>10156110</td>\n",
       "      <td>K07989.01</td>\n",
       "      <td>NaN</td>\n",
       "      <td>FALSE POSITIVE</td>\n",
       "      <td>FALSE POSITIVE</td>\n",
       "      <td>0.000</td>\n",
       "      <td>0</td>\n",
       "      <td>0</td>\n",
       "      <td>1</td>\n",
       "      <td>1</td>\n",
       "      <td>4.856035</td>\n",
       "      <td>6.356000e-05</td>\n",
       "      <td>-6.356000e-05</td>\n",
       "      <td>135.993300</td>\n",
       "      <td>0.010800</td>\n",
       "      <td>-0.010800</td>\n",
       "      <td>0.134</td>\n",
       "      <td>0.323</td>\n",
       "      <td>-0.134</td>\n",
       "      <td>3.07800</td>\n",
       "      <td>0.28300</td>\n",
       "      <td>-0.28300</td>\n",
       "      <td>76.7</td>\n",
       "      <td>10.8</td>\n",
       "      <td>-10.8</td>\n",
       "      <td>1.05</td>\n",
       "      <td>0.36</td>\n",
       "      <td>-0.12</td>\n",
       "      <td>1266.0</td>\n",
       "      <td>NaN</td>\n",
       "      <td>NaN</td>\n",
       "      <td>607.42</td>\n",
       "      <td>600.39</td>\n",
       "      <td>-194.33</td>\n",
       "      <td>8.2</td>\n",
       "      <td>1.0</td>\n",
       "      <td>q1_q17_dr25_tce</td>\n",
       "      <td>6469.0</td>\n",
       "      <td>158.0</td>\n",
       "      <td>-225.0</td>\n",
       "      <td>4.385</td>\n",
       "      <td>0.054</td>\n",
       "      <td>-0.216</td>\n",
       "      <td>1.193</td>\n",
       "      <td>0.410</td>\n",
       "      <td>-0.137</td>\n",
       "      <td>297.00977</td>\n",
       "      <td>47.121021</td>\n",
       "      <td>14.826</td>\n",
       "    </tr>\n",
       "  </tbody>\n",
       "</table>\n",
       "<p>9564 rows × 50 columns</p>\n",
       "</div>"
      ],
      "text/plain": [
       "      rowid     kepid kepoi_name   kepler_name koi_disposition  \\\n",
       "0         1  10797460  K00752.01  Kepler-227 b       CONFIRMED   \n",
       "1         2  10797460  K00752.02  Kepler-227 c       CONFIRMED   \n",
       "2         3  10811496  K00753.01           NaN  FALSE POSITIVE   \n",
       "3         4  10848459  K00754.01           NaN  FALSE POSITIVE   \n",
       "4         5  10854555  K00755.01  Kepler-664 b       CONFIRMED   \n",
       "...     ...       ...        ...           ...             ...   \n",
       "9559   9560  10031643  K07984.01           NaN  FALSE POSITIVE   \n",
       "9560   9561  10090151  K07985.01           NaN  FALSE POSITIVE   \n",
       "9561   9562  10128825  K07986.01           NaN       CANDIDATE   \n",
       "9562   9563  10147276  K07987.01           NaN  FALSE POSITIVE   \n",
       "9563   9564  10156110  K07989.01           NaN  FALSE POSITIVE   \n",
       "\n",
       "     koi_pdisposition  koi_score  koi_fpflag_nt  koi_fpflag_ss  koi_fpflag_co  \\\n",
       "0           CANDIDATE      1.000              0              0              0   \n",
       "1           CANDIDATE      0.969              0              0              0   \n",
       "2      FALSE POSITIVE      0.000              0              1              0   \n",
       "3      FALSE POSITIVE      0.000              0              1              0   \n",
       "4           CANDIDATE      1.000              0              0              0   \n",
       "...               ...        ...            ...            ...            ...   \n",
       "9559   FALSE POSITIVE      0.000              0              0              0   \n",
       "9560   FALSE POSITIVE      0.000              0              1              1   \n",
       "9561        CANDIDATE      0.497              0              0              0   \n",
       "9562   FALSE POSITIVE      0.021              0              0              1   \n",
       "9563   FALSE POSITIVE      0.000              0              0              1   \n",
       "\n",
       "      koi_fpflag_ec  koi_period  koi_period_err1  koi_period_err2  \\\n",
       "0                 0    9.488036     2.775000e-05    -2.775000e-05   \n",
       "1                 0   54.418383     2.479000e-04    -2.479000e-04   \n",
       "2                 0   19.899140     1.494000e-05    -1.494000e-05   \n",
       "3                 0    1.736952     2.630000e-07    -2.630000e-07   \n",
       "4                 0    2.525592     3.761000e-06    -3.761000e-06   \n",
       "...             ...         ...              ...              ...   \n",
       "9559              1    8.589871     1.846000e-04    -1.846000e-04   \n",
       "9560              0    0.527699     1.160000e-07    -1.160000e-07   \n",
       "9561              0    1.739849     1.780000e-05    -1.780000e-05   \n",
       "9562              0    0.681402     2.434000e-06    -2.434000e-06   \n",
       "9563              1    4.856035     6.356000e-05    -6.356000e-05   \n",
       "\n",
       "      koi_time0bk  koi_time0bk_err1  koi_time0bk_err2  koi_impact  \\\n",
       "0      170.538750          0.002160         -0.002160       0.146   \n",
       "1      162.513840          0.003520         -0.003520       0.586   \n",
       "2      175.850252          0.000581         -0.000581       0.969   \n",
       "3      170.307565          0.000115         -0.000115       1.276   \n",
       "4      171.595550          0.001130         -0.001130       0.701   \n",
       "...           ...               ...               ...         ...   \n",
       "9559   132.016100          0.015700         -0.015700       0.765   \n",
       "9560   131.705093          0.000170         -0.000170       1.252   \n",
       "9561   133.001270          0.007690         -0.007690       0.043   \n",
       "9562   132.181750          0.002850         -0.002850       0.147   \n",
       "9563   135.993300          0.010800         -0.010800       0.134   \n",
       "\n",
       "      koi_impact_err1  koi_impact_err2  koi_duration  koi_duration_err1  \\\n",
       "0               0.318           -0.146       2.95750            0.08190   \n",
       "1               0.059           -0.443       4.50700            0.11600   \n",
       "2               5.126           -0.077       1.78220            0.03410   \n",
       "3               0.115           -0.092       2.40641            0.00537   \n",
       "4               0.235           -0.478       1.65450            0.04200   \n",
       "...               ...              ...           ...                ...   \n",
       "9559            0.023           -0.541       4.80600            0.63400   \n",
       "9560            0.051           -0.049       3.22210            0.01740   \n",
       "9561            0.423           -0.043       3.11400            0.22900   \n",
       "9562            0.309           -0.147       0.86500            0.16200   \n",
       "9563            0.323           -0.134       3.07800            0.28300   \n",
       "\n",
       "      koi_duration_err2  koi_depth  koi_depth_err1  koi_depth_err2  koi_prad  \\\n",
       "0              -0.08190      615.8            19.5           -19.5      2.26   \n",
       "1              -0.11600      874.8            35.5           -35.5      2.83   \n",
       "2              -0.03410    10829.0           171.0          -171.0     14.60   \n",
       "3              -0.00537     8079.2            12.8           -12.8     33.46   \n",
       "4              -0.04200      603.3            16.9           -16.9      2.75   \n",
       "...                 ...        ...             ...             ...       ...   \n",
       "9559           -0.63400       87.7            13.0           -13.0      1.11   \n",
       "9560           -0.01740     1579.2             4.6            -4.6     29.35   \n",
       "9561           -0.22900       48.5             5.4            -5.4      0.72   \n",
       "9562           -0.16200      103.6            14.7           -14.7      1.07   \n",
       "9563           -0.28300       76.7            10.8           -10.8      1.05   \n",
       "\n",
       "      koi_prad_err1  koi_prad_err2  koi_teq  koi_teq_err1  koi_teq_err2  \\\n",
       "0              0.26          -0.15    793.0           NaN           NaN   \n",
       "1              0.32          -0.19    443.0           NaN           NaN   \n",
       "2              3.92          -1.31    638.0           NaN           NaN   \n",
       "3              8.50          -2.83   1395.0           NaN           NaN   \n",
       "4              0.88          -0.35   1406.0           NaN           NaN   \n",
       "...             ...            ...      ...           ...           ...   \n",
       "9559           0.32          -0.23    929.0           NaN           NaN   \n",
       "9560           7.70          -2.57   2088.0           NaN           NaN   \n",
       "9561           0.24          -0.08   1608.0           NaN           NaN   \n",
       "9562           0.36          -0.11   2218.0           NaN           NaN   \n",
       "9563           0.36          -0.12   1266.0           NaN           NaN   \n",
       "\n",
       "      koi_insol  koi_insol_err1  koi_insol_err2  koi_model_snr  \\\n",
       "0         93.59           29.45          -16.65           35.8   \n",
       "1          9.11            2.87           -1.62           25.8   \n",
       "2         39.30           31.04          -10.49           76.3   \n",
       "3        891.96          668.95         -230.35          505.6   \n",
       "4        926.16          874.33         -314.24           40.9   \n",
       "...         ...             ...             ...            ...   \n",
       "9559     176.40          152.77          -77.60            8.4   \n",
       "9560    4500.53         3406.38        -1175.26          453.3   \n",
       "9561    1585.81         1537.86         -502.22           10.6   \n",
       "9562    5713.41         5675.74        -1836.94           12.3   \n",
       "9563     607.42          600.39         -194.33            8.2   \n",
       "\n",
       "      koi_tce_plnt_num koi_tce_delivname  koi_steff  koi_steff_err1  \\\n",
       "0                  1.0   q1_q17_dr25_tce     5455.0            81.0   \n",
       "1                  2.0   q1_q17_dr25_tce     5455.0            81.0   \n",
       "2                  1.0   q1_q17_dr25_tce     5853.0           158.0   \n",
       "3                  1.0   q1_q17_dr25_tce     5805.0           157.0   \n",
       "4                  1.0   q1_q17_dr25_tce     6031.0           169.0   \n",
       "...                ...               ...        ...             ...   \n",
       "9559               1.0   q1_q17_dr25_tce     5638.0           169.0   \n",
       "9560               1.0   q1_q17_dr25_tce     5638.0           139.0   \n",
       "9561               1.0   q1_q17_dr25_tce     6119.0           165.0   \n",
       "9562               1.0   q1_q17_dr25_tce     6173.0           193.0   \n",
       "9563               1.0   q1_q17_dr25_tce     6469.0           158.0   \n",
       "\n",
       "      koi_steff_err2  koi_slogg  koi_slogg_err1  koi_slogg_err2  koi_srad  \\\n",
       "0              -81.0      4.467           0.064          -0.096     0.927   \n",
       "1              -81.0      4.467           0.064          -0.096     0.927   \n",
       "2             -176.0      4.544           0.044          -0.176     0.868   \n",
       "3             -174.0      4.564           0.053          -0.168     0.791   \n",
       "4             -211.0      4.438           0.070          -0.210     1.046   \n",
       "...              ...        ...             ...             ...       ...   \n",
       "9559          -152.0      4.296           0.231          -0.189     1.088   \n",
       "9560          -166.0      4.529           0.035          -0.196     0.903   \n",
       "9561          -220.0      4.444           0.056          -0.224     1.031   \n",
       "9562          -236.0      4.447           0.056          -0.224     1.041   \n",
       "9563          -225.0      4.385           0.054          -0.216     1.193   \n",
       "\n",
       "      koi_srad_err1  koi_srad_err2         ra        dec  koi_kepmag  \n",
       "0             0.105         -0.061  291.93423  48.141651      15.347  \n",
       "1             0.105         -0.061  291.93423  48.141651      15.347  \n",
       "2             0.233         -0.078  297.00482  48.134129      15.436  \n",
       "3             0.201         -0.067  285.53461  48.285210      15.597  \n",
       "4             0.334         -0.133  288.75488  48.226200      15.509  \n",
       "...             ...            ...        ...        ...         ...  \n",
       "9559          0.313         -0.228  298.74921  46.973351      14.478  \n",
       "9560          0.237         -0.079  297.18875  47.093819      14.082  \n",
       "9561          0.341         -0.114  286.50937  47.163219      14.757  \n",
       "9562          0.341         -0.114  294.16489  47.176281      15.385  \n",
       "9563          0.410         -0.137  297.00977  47.121021      14.826  \n",
       "\n",
       "[9564 rows x 50 columns]"
      ]
     },
     "execution_count": 3,
     "metadata": {},
     "output_type": "execute_result"
    }
   ],
   "source": [
    "exoplanets"
   ]
  },
  {
   "cell_type": "code",
   "execution_count": 4,
   "metadata": {},
   "outputs": [
    {
     "data": {
      "text/plain": [
       "(9564, 50)"
      ]
     },
     "execution_count": 4,
     "metadata": {},
     "output_type": "execute_result"
    }
   ],
   "source": [
    "exoplanets.shape"
   ]
  },
  {
   "cell_type": "code",
   "execution_count": 5,
   "metadata": {},
   "outputs": [
    {
     "name": "stdout",
     "output_type": "stream",
     "text": [
      "<class 'pandas.core.frame.DataFrame'>\n",
      "RangeIndex: 9564 entries, 0 to 9563\n",
      "Data columns (total 50 columns):\n",
      " #   Column             Non-Null Count  Dtype  \n",
      "---  ------             --------------  -----  \n",
      " 0   rowid              9564 non-null   int64  \n",
      " 1   kepid              9564 non-null   int64  \n",
      " 2   kepoi_name         9564 non-null   object \n",
      " 3   kepler_name        2294 non-null   object \n",
      " 4   koi_disposition    9564 non-null   object \n",
      " 5   koi_pdisposition   9564 non-null   object \n",
      " 6   koi_score          8054 non-null   float64\n",
      " 7   koi_fpflag_nt      9564 non-null   int64  \n",
      " 8   koi_fpflag_ss      9564 non-null   int64  \n",
      " 9   koi_fpflag_co      9564 non-null   int64  \n",
      " 10  koi_fpflag_ec      9564 non-null   int64  \n",
      " 11  koi_period         9564 non-null   float64\n",
      " 12  koi_period_err1    9110 non-null   float64\n",
      " 13  koi_period_err2    9110 non-null   float64\n",
      " 14  koi_time0bk        9564 non-null   float64\n",
      " 15  koi_time0bk_err1   9110 non-null   float64\n",
      " 16  koi_time0bk_err2   9110 non-null   float64\n",
      " 17  koi_impact         9201 non-null   float64\n",
      " 18  koi_impact_err1    9110 non-null   float64\n",
      " 19  koi_impact_err2    9110 non-null   float64\n",
      " 20  koi_duration       9564 non-null   float64\n",
      " 21  koi_duration_err1  9110 non-null   float64\n",
      " 22  koi_duration_err2  9110 non-null   float64\n",
      " 23  koi_depth          9201 non-null   float64\n",
      " 24  koi_depth_err1     9110 non-null   float64\n",
      " 25  koi_depth_err2     9110 non-null   float64\n",
      " 26  koi_prad           9201 non-null   float64\n",
      " 27  koi_prad_err1      9201 non-null   float64\n",
      " 28  koi_prad_err2      9201 non-null   float64\n",
      " 29  koi_teq            9201 non-null   float64\n",
      " 30  koi_teq_err1       0 non-null      float64\n",
      " 31  koi_teq_err2       0 non-null      float64\n",
      " 32  koi_insol          9243 non-null   float64\n",
      " 33  koi_insol_err1     9243 non-null   float64\n",
      " 34  koi_insol_err2     9243 non-null   float64\n",
      " 35  koi_model_snr      9201 non-null   float64\n",
      " 36  koi_tce_plnt_num   9218 non-null   float64\n",
      " 37  koi_tce_delivname  9218 non-null   object \n",
      " 38  koi_steff          9201 non-null   float64\n",
      " 39  koi_steff_err1     9096 non-null   float64\n",
      " 40  koi_steff_err2     9081 non-null   float64\n",
      " 41  koi_slogg          9201 non-null   float64\n",
      " 42  koi_slogg_err1     9096 non-null   float64\n",
      " 43  koi_slogg_err2     9096 non-null   float64\n",
      " 44  koi_srad           9201 non-null   float64\n",
      " 45  koi_srad_err1      9096 non-null   float64\n",
      " 46  koi_srad_err2      9096 non-null   float64\n",
      " 47  ra                 9564 non-null   float64\n",
      " 48  dec                9564 non-null   float64\n",
      " 49  koi_kepmag         9563 non-null   float64\n",
      "dtypes: float64(39), int64(6), object(5)\n",
      "memory usage: 3.6+ MB\n"
     ]
    }
   ],
   "source": [
    "exoplanets.info()"
   ]
  },
  {
   "cell_type": "markdown",
   "metadata": {},
   "source": [
    "Eliminaremos:\n",
    "* `koi_teq_err1` ,`koi_teq_err2` : Columnas vacías \n",
    "* `rowid`, `kepid`, `kepoi_name`, `kepler_name` : Columnas de nombres\n",
    "* `koi_pdisposition` :  Disposición usando datos del Kepler\n",
    "* `koi_score` : Indica el grado de confianza en la clasificación KOI\n",
    "* `koi_fpflag_nt`, `koi_fpflag_ss` ,`koi_fpflag_co`, `koi_fpflag_ec` : Tipo de falso positivo\n",
    "* `koi_period_err2`,`koi_time0bk_err2` ,`koi_duration_err2`, `koi_depth_err2` : Errores repetidos\n",
    "\n",
    "y dropeamos filas con nulos"
   ]
  },
  {
   "cell_type": "code",
   "execution_count": 6,
   "metadata": {},
   "outputs": [],
   "source": [
    "exoplanets=(exoplanets.drop([\"koi_fpflag_nt\", \"koi_fpflag_ss\", \"koi_fpflag_co\", \"koi_fpflag_ec\",'koi_score',\n",
    "                             'rowid','kepid','kepoi_name','kepler_name','koi_pdisposition','koi_tce_delivname',\n",
    "                             'koi_teq_err1',\"koi_teq_err2\",\"koi_time0bk_err2\",\"koi_period_err2\",\"koi_depth_err2\",\"koi_duration_err2\" ], axis=1)  #Drop de etiquetas\n",
    "\n",
    ").dropna()"
   ]
  },
  {
   "cell_type": "code",
   "execution_count": 7,
   "metadata": {},
   "outputs": [
    {
     "data": {
      "text/plain": [
       "(8744, 33)"
      ]
     },
     "execution_count": 7,
     "metadata": {},
     "output_type": "execute_result"
    }
   ],
   "source": [
    "exoplanets.shape"
   ]
  },
  {
   "cell_type": "code",
   "execution_count": 8,
   "metadata": {},
   "outputs": [
    {
     "data": {
      "text/html": [
       "<div>\n",
       "<style scoped>\n",
       "    .dataframe tbody tr th:only-of-type {\n",
       "        vertical-align: middle;\n",
       "    }\n",
       "\n",
       "    .dataframe tbody tr th {\n",
       "        vertical-align: top;\n",
       "    }\n",
       "\n",
       "    .dataframe thead th {\n",
       "        text-align: right;\n",
       "    }\n",
       "</style>\n",
       "<table border=\"1\" class=\"dataframe\">\n",
       "  <thead>\n",
       "    <tr style=\"text-align: right;\">\n",
       "      <th></th>\n",
       "      <th>count</th>\n",
       "      <th>mean</th>\n",
       "      <th>std</th>\n",
       "      <th>min</th>\n",
       "      <th>25%</th>\n",
       "      <th>50%</th>\n",
       "      <th>75%</th>\n",
       "      <th>max</th>\n",
       "    </tr>\n",
       "  </thead>\n",
       "  <tbody>\n",
       "    <tr>\n",
       "      <th>koi_period</th>\n",
       "      <td>8744.0</td>\n",
       "      <td>56.080618</td>\n",
       "      <td>117.385280</td>\n",
       "      <td>2.598197e-01</td>\n",
       "      <td>2.667824</td>\n",
       "      <td>8.970985</td>\n",
       "      <td>34.190033</td>\n",
       "      <td>1.071233e+03</td>\n",
       "    </tr>\n",
       "    <tr>\n",
       "      <th>koi_period_err1</th>\n",
       "      <td>8744.0</td>\n",
       "      <td>0.001840</td>\n",
       "      <td>0.007277</td>\n",
       "      <td>1.100000e-08</td>\n",
       "      <td>0.000005</td>\n",
       "      <td>0.000033</td>\n",
       "      <td>0.000246</td>\n",
       "      <td>1.568000e-01</td>\n",
       "    </tr>\n",
       "    <tr>\n",
       "      <th>koi_time0bk</th>\n",
       "      <td>8744.0</td>\n",
       "      <td>164.563271</td>\n",
       "      <td>66.476457</td>\n",
       "      <td>1.205159e+02</td>\n",
       "      <td>132.729408</td>\n",
       "      <td>136.910235</td>\n",
       "      <td>169.975942</td>\n",
       "      <td>1.472522e+03</td>\n",
       "    </tr>\n",
       "    <tr>\n",
       "      <th>koi_time0bk_err1</th>\n",
       "      <td>8744.0</td>\n",
       "      <td>0.009300</td>\n",
       "      <td>0.021662</td>\n",
       "      <td>8.700000e-06</td>\n",
       "      <td>0.001200</td>\n",
       "      <td>0.004020</td>\n",
       "      <td>0.010000</td>\n",
       "      <td>5.690000e-01</td>\n",
       "    </tr>\n",
       "    <tr>\n",
       "      <th>koi_impact</th>\n",
       "      <td>8744.0</td>\n",
       "      <td>0.718315</td>\n",
       "      <td>3.176618</td>\n",
       "      <td>0.000000e+00</td>\n",
       "      <td>0.197000</td>\n",
       "      <td>0.540500</td>\n",
       "      <td>0.889000</td>\n",
       "      <td>1.008060e+02</td>\n",
       "    </tr>\n",
       "    <tr>\n",
       "      <th>koi_impact_err1</th>\n",
       "      <td>8744.0</td>\n",
       "      <td>1.972656</td>\n",
       "      <td>9.464462</td>\n",
       "      <td>0.000000e+00</td>\n",
       "      <td>0.040000</td>\n",
       "      <td>0.192000</td>\n",
       "      <td>0.378850</td>\n",
       "      <td>8.554000e+01</td>\n",
       "    </tr>\n",
       "    <tr>\n",
       "      <th>koi_impact_err2</th>\n",
       "      <td>8744.0</td>\n",
       "      <td>-0.330185</td>\n",
       "      <td>1.227048</td>\n",
       "      <td>-5.932000e+01</td>\n",
       "      <td>-0.447000</td>\n",
       "      <td>-0.207000</td>\n",
       "      <td>-0.045000</td>\n",
       "      <td>0.000000e+00</td>\n",
       "    </tr>\n",
       "    <tr>\n",
       "      <th>koi_duration</th>\n",
       "      <td>8744.0</td>\n",
       "      <td>5.521409</td>\n",
       "      <td>6.318934</td>\n",
       "      <td>1.670000e-01</td>\n",
       "      <td>2.437750</td>\n",
       "      <td>3.778935</td>\n",
       "      <td>6.172000</td>\n",
       "      <td>1.385400e+02</td>\n",
       "    </tr>\n",
       "    <tr>\n",
       "      <th>koi_duration_err1</th>\n",
       "      <td>8744.0</td>\n",
       "      <td>0.317958</td>\n",
       "      <td>0.641691</td>\n",
       "      <td>0.000000e+00</td>\n",
       "      <td>0.050275</td>\n",
       "      <td>0.137500</td>\n",
       "      <td>0.331000</td>\n",
       "      <td>2.020000e+01</td>\n",
       "    </tr>\n",
       "    <tr>\n",
       "      <th>koi_depth</th>\n",
       "      <td>8744.0</td>\n",
       "      <td>23556.894636</td>\n",
       "      <td>81879.981741</td>\n",
       "      <td>4.500000e+00</td>\n",
       "      <td>160.600000</td>\n",
       "      <td>421.850000</td>\n",
       "      <td>1462.875000</td>\n",
       "      <td>1.541400e+06</td>\n",
       "    </tr>\n",
       "    <tr>\n",
       "      <th>koi_depth_err1</th>\n",
       "      <td>8744.0</td>\n",
       "      <td>119.695174</td>\n",
       "      <td>4196.518567</td>\n",
       "      <td>0.000000e+00</td>\n",
       "      <td>9.475000</td>\n",
       "      <td>20.200000</td>\n",
       "      <td>47.600000</td>\n",
       "      <td>3.886000e+05</td>\n",
       "    </tr>\n",
       "    <tr>\n",
       "      <th>koi_prad</th>\n",
       "      <td>8744.0</td>\n",
       "      <td>103.932190</td>\n",
       "      <td>3151.780687</td>\n",
       "      <td>1.400000e-01</td>\n",
       "      <td>1.400000</td>\n",
       "      <td>2.400000</td>\n",
       "      <td>14.872500</td>\n",
       "      <td>2.003460e+05</td>\n",
       "    </tr>\n",
       "    <tr>\n",
       "      <th>koi_prad_err1</th>\n",
       "      <td>8744.0</td>\n",
       "      <td>17.553652</td>\n",
       "      <td>395.040369</td>\n",
       "      <td>0.000000e+00</td>\n",
       "      <td>0.240000</td>\n",
       "      <td>0.510000</td>\n",
       "      <td>2.542500</td>\n",
       "      <td>2.164000e+04</td>\n",
       "    </tr>\n",
       "    <tr>\n",
       "      <th>koi_prad_err2</th>\n",
       "      <td>8744.0</td>\n",
       "      <td>-34.046233</td>\n",
       "      <td>1223.495531</td>\n",
       "      <td>-7.718000e+04</td>\n",
       "      <td>-2.032500</td>\n",
       "      <td>-0.310000</td>\n",
       "      <td>-0.140000</td>\n",
       "      <td>0.000000e+00</td>\n",
       "    </tr>\n",
       "    <tr>\n",
       "      <th>koi_teq</th>\n",
       "      <td>8744.0</td>\n",
       "      <td>1087.503545</td>\n",
       "      <td>839.110779</td>\n",
       "      <td>9.200000e+01</td>\n",
       "      <td>551.000000</td>\n",
       "      <td>884.000000</td>\n",
       "      <td>1381.000000</td>\n",
       "      <td>1.466700e+04</td>\n",
       "    </tr>\n",
       "    <tr>\n",
       "      <th>koi_insol</th>\n",
       "      <td>8744.0</td>\n",
       "      <td>7237.635154</td>\n",
       "      <td>159096.580227</td>\n",
       "      <td>2.000000e-02</td>\n",
       "      <td>21.815000</td>\n",
       "      <td>144.625000</td>\n",
       "      <td>859.585000</td>\n",
       "      <td>1.094755e+07</td>\n",
       "    </tr>\n",
       "    <tr>\n",
       "      <th>koi_insol_err1</th>\n",
       "      <td>8744.0</td>\n",
       "      <td>3387.183186</td>\n",
       "      <td>51204.499604</td>\n",
       "      <td>0.000000e+00</td>\n",
       "      <td>11.100000</td>\n",
       "      <td>78.215000</td>\n",
       "      <td>530.435000</td>\n",
       "      <td>3.617133e+06</td>\n",
       "    </tr>\n",
       "    <tr>\n",
       "      <th>koi_insol_err2</th>\n",
       "      <td>8744.0</td>\n",
       "      <td>-3775.831237</td>\n",
       "      <td>88918.094914</td>\n",
       "      <td>-5.600031e+06</td>\n",
       "      <td>-294.427500</td>\n",
       "      <td>-43.890000</td>\n",
       "      <td>-6.280000</td>\n",
       "      <td>0.000000e+00</td>\n",
       "    </tr>\n",
       "    <tr>\n",
       "      <th>koi_model_snr</th>\n",
       "      <td>8744.0</td>\n",
       "      <td>268.401315</td>\n",
       "      <td>811.988767</td>\n",
       "      <td>1.600000e+00</td>\n",
       "      <td>12.400000</td>\n",
       "      <td>23.650000</td>\n",
       "      <td>79.300000</td>\n",
       "      <td>9.054700e+03</td>\n",
       "    </tr>\n",
       "    <tr>\n",
       "      <th>koi_tce_plnt_num</th>\n",
       "      <td>8744.0</td>\n",
       "      <td>1.240279</td>\n",
       "      <td>0.654931</td>\n",
       "      <td>1.000000e+00</td>\n",
       "      <td>1.000000</td>\n",
       "      <td>1.000000</td>\n",
       "      <td>1.000000</td>\n",
       "      <td>8.000000e+00</td>\n",
       "    </tr>\n",
       "    <tr>\n",
       "      <th>koi_steff</th>\n",
       "      <td>8744.0</td>\n",
       "      <td>5698.246569</td>\n",
       "      <td>797.953594</td>\n",
       "      <td>2.661000e+03</td>\n",
       "      <td>5296.000000</td>\n",
       "      <td>5757.000000</td>\n",
       "      <td>6109.000000</td>\n",
       "      <td>1.589600e+04</td>\n",
       "    </tr>\n",
       "    <tr>\n",
       "      <th>koi_steff_err1</th>\n",
       "      <td>8744.0</td>\n",
       "      <td>144.103500</td>\n",
       "      <td>47.284063</td>\n",
       "      <td>0.000000e+00</td>\n",
       "      <td>105.000000</td>\n",
       "      <td>157.000000</td>\n",
       "      <td>174.000000</td>\n",
       "      <td>6.760000e+02</td>\n",
       "    </tr>\n",
       "    <tr>\n",
       "      <th>koi_steff_err2</th>\n",
       "      <td>8744.0</td>\n",
       "      <td>-161.354758</td>\n",
       "      <td>72.986448</td>\n",
       "      <td>-1.762000e+03</td>\n",
       "      <td>-197.000000</td>\n",
       "      <td>-159.000000</td>\n",
       "      <td>-112.000000</td>\n",
       "      <td>0.000000e+00</td>\n",
       "    </tr>\n",
       "    <tr>\n",
       "      <th>koi_slogg</th>\n",
       "      <td>8744.0</td>\n",
       "      <td>4.310223</td>\n",
       "      <td>0.431557</td>\n",
       "      <td>4.700000e-02</td>\n",
       "      <td>4.215750</td>\n",
       "      <td>4.439000</td>\n",
       "      <td>4.544000</td>\n",
       "      <td>5.364000e+00</td>\n",
       "    </tr>\n",
       "    <tr>\n",
       "      <th>koi_slogg_err1</th>\n",
       "      <td>8744.0</td>\n",
       "      <td>0.120733</td>\n",
       "      <td>0.132813</td>\n",
       "      <td>0.000000e+00</td>\n",
       "      <td>0.043000</td>\n",
       "      <td>0.070000</td>\n",
       "      <td>0.149000</td>\n",
       "      <td>1.472000e+00</td>\n",
       "    </tr>\n",
       "    <tr>\n",
       "      <th>koi_slogg_err2</th>\n",
       "      <td>8744.0</td>\n",
       "      <td>-0.140411</td>\n",
       "      <td>0.082936</td>\n",
       "      <td>-1.207000e+00</td>\n",
       "      <td>-0.195000</td>\n",
       "      <td>-0.127000</td>\n",
       "      <td>-0.087000</td>\n",
       "      <td>0.000000e+00</td>\n",
       "    </tr>\n",
       "    <tr>\n",
       "      <th>koi_srad</th>\n",
       "      <td>8744.0</td>\n",
       "      <td>1.704566</td>\n",
       "      <td>5.682429</td>\n",
       "      <td>1.090000e-01</td>\n",
       "      <td>0.826000</td>\n",
       "      <td>0.997000</td>\n",
       "      <td>1.346250</td>\n",
       "      <td>1.800130e+02</td>\n",
       "    </tr>\n",
       "    <tr>\n",
       "      <th>koi_srad_err1</th>\n",
       "      <td>8744.0</td>\n",
       "      <td>0.352884</td>\n",
       "      <td>0.906364</td>\n",
       "      <td>0.000000e+00</td>\n",
       "      <td>0.125750</td>\n",
       "      <td>0.246000</td>\n",
       "      <td>0.356000</td>\n",
       "      <td>3.309100e+01</td>\n",
       "    </tr>\n",
       "    <tr>\n",
       "      <th>koi_srad_err2</th>\n",
       "      <td>8744.0</td>\n",
       "      <td>-0.379933</td>\n",
       "      <td>1.810943</td>\n",
       "      <td>-1.038250e+02</td>\n",
       "      <td>-0.247000</td>\n",
       "      <td>-0.111000</td>\n",
       "      <td>-0.069000</td>\n",
       "      <td>0.000000e+00</td>\n",
       "    </tr>\n",
       "    <tr>\n",
       "      <th>ra</th>\n",
       "      <td>8744.0</td>\n",
       "      <td>292.075061</td>\n",
       "      <td>4.772918</td>\n",
       "      <td>2.798527e+02</td>\n",
       "      <td>288.670237</td>\n",
       "      <td>292.285005</td>\n",
       "      <td>295.900510</td>\n",
       "      <td>3.017208e+02</td>\n",
       "    </tr>\n",
       "    <tr>\n",
       "      <th>dec</th>\n",
       "      <td>8744.0</td>\n",
       "      <td>43.828259</td>\n",
       "      <td>3.599786</td>\n",
       "      <td>3.657738e+01</td>\n",
       "      <td>40.805911</td>\n",
       "      <td>43.703989</td>\n",
       "      <td>46.722135</td>\n",
       "      <td>5.233601e+01</td>\n",
       "    </tr>\n",
       "    <tr>\n",
       "      <th>koi_kepmag</th>\n",
       "      <td>8744.0</td>\n",
       "      <td>14.273969</td>\n",
       "      <td>1.343509</td>\n",
       "      <td>6.966000e+00</td>\n",
       "      <td>13.474000</td>\n",
       "      <td>14.534000</td>\n",
       "      <td>15.318250</td>\n",
       "      <td>1.906500e+01</td>\n",
       "    </tr>\n",
       "  </tbody>\n",
       "</table>\n",
       "</div>"
      ],
      "text/plain": [
       "                    count          mean            std           min  \\\n",
       "koi_period         8744.0     56.080618     117.385280  2.598197e-01   \n",
       "koi_period_err1    8744.0      0.001840       0.007277  1.100000e-08   \n",
       "koi_time0bk        8744.0    164.563271      66.476457  1.205159e+02   \n",
       "koi_time0bk_err1   8744.0      0.009300       0.021662  8.700000e-06   \n",
       "koi_impact         8744.0      0.718315       3.176618  0.000000e+00   \n",
       "koi_impact_err1    8744.0      1.972656       9.464462  0.000000e+00   \n",
       "koi_impact_err2    8744.0     -0.330185       1.227048 -5.932000e+01   \n",
       "koi_duration       8744.0      5.521409       6.318934  1.670000e-01   \n",
       "koi_duration_err1  8744.0      0.317958       0.641691  0.000000e+00   \n",
       "koi_depth          8744.0  23556.894636   81879.981741  4.500000e+00   \n",
       "koi_depth_err1     8744.0    119.695174    4196.518567  0.000000e+00   \n",
       "koi_prad           8744.0    103.932190    3151.780687  1.400000e-01   \n",
       "koi_prad_err1      8744.0     17.553652     395.040369  0.000000e+00   \n",
       "koi_prad_err2      8744.0    -34.046233    1223.495531 -7.718000e+04   \n",
       "koi_teq            8744.0   1087.503545     839.110779  9.200000e+01   \n",
       "koi_insol          8744.0   7237.635154  159096.580227  2.000000e-02   \n",
       "koi_insol_err1     8744.0   3387.183186   51204.499604  0.000000e+00   \n",
       "koi_insol_err2     8744.0  -3775.831237   88918.094914 -5.600031e+06   \n",
       "koi_model_snr      8744.0    268.401315     811.988767  1.600000e+00   \n",
       "koi_tce_plnt_num   8744.0      1.240279       0.654931  1.000000e+00   \n",
       "koi_steff          8744.0   5698.246569     797.953594  2.661000e+03   \n",
       "koi_steff_err1     8744.0    144.103500      47.284063  0.000000e+00   \n",
       "koi_steff_err2     8744.0   -161.354758      72.986448 -1.762000e+03   \n",
       "koi_slogg          8744.0      4.310223       0.431557  4.700000e-02   \n",
       "koi_slogg_err1     8744.0      0.120733       0.132813  0.000000e+00   \n",
       "koi_slogg_err2     8744.0     -0.140411       0.082936 -1.207000e+00   \n",
       "koi_srad           8744.0      1.704566       5.682429  1.090000e-01   \n",
       "koi_srad_err1      8744.0      0.352884       0.906364  0.000000e+00   \n",
       "koi_srad_err2      8744.0     -0.379933       1.810943 -1.038250e+02   \n",
       "ra                 8744.0    292.075061       4.772918  2.798527e+02   \n",
       "dec                8744.0     43.828259       3.599786  3.657738e+01   \n",
       "koi_kepmag         8744.0     14.273969       1.343509  6.966000e+00   \n",
       "\n",
       "                           25%          50%          75%           max  \n",
       "koi_period            2.667824     8.970985    34.190033  1.071233e+03  \n",
       "koi_period_err1       0.000005     0.000033     0.000246  1.568000e-01  \n",
       "koi_time0bk         132.729408   136.910235   169.975942  1.472522e+03  \n",
       "koi_time0bk_err1      0.001200     0.004020     0.010000  5.690000e-01  \n",
       "koi_impact            0.197000     0.540500     0.889000  1.008060e+02  \n",
       "koi_impact_err1       0.040000     0.192000     0.378850  8.554000e+01  \n",
       "koi_impact_err2      -0.447000    -0.207000    -0.045000  0.000000e+00  \n",
       "koi_duration          2.437750     3.778935     6.172000  1.385400e+02  \n",
       "koi_duration_err1     0.050275     0.137500     0.331000  2.020000e+01  \n",
       "koi_depth           160.600000   421.850000  1462.875000  1.541400e+06  \n",
       "koi_depth_err1        9.475000    20.200000    47.600000  3.886000e+05  \n",
       "koi_prad              1.400000     2.400000    14.872500  2.003460e+05  \n",
       "koi_prad_err1         0.240000     0.510000     2.542500  2.164000e+04  \n",
       "koi_prad_err2        -2.032500    -0.310000    -0.140000  0.000000e+00  \n",
       "koi_teq             551.000000   884.000000  1381.000000  1.466700e+04  \n",
       "koi_insol            21.815000   144.625000   859.585000  1.094755e+07  \n",
       "koi_insol_err1       11.100000    78.215000   530.435000  3.617133e+06  \n",
       "koi_insol_err2     -294.427500   -43.890000    -6.280000  0.000000e+00  \n",
       "koi_model_snr        12.400000    23.650000    79.300000  9.054700e+03  \n",
       "koi_tce_plnt_num      1.000000     1.000000     1.000000  8.000000e+00  \n",
       "koi_steff          5296.000000  5757.000000  6109.000000  1.589600e+04  \n",
       "koi_steff_err1      105.000000   157.000000   174.000000  6.760000e+02  \n",
       "koi_steff_err2     -197.000000  -159.000000  -112.000000  0.000000e+00  \n",
       "koi_slogg             4.215750     4.439000     4.544000  5.364000e+00  \n",
       "koi_slogg_err1        0.043000     0.070000     0.149000  1.472000e+00  \n",
       "koi_slogg_err2       -0.195000    -0.127000    -0.087000  0.000000e+00  \n",
       "koi_srad              0.826000     0.997000     1.346250  1.800130e+02  \n",
       "koi_srad_err1         0.125750     0.246000     0.356000  3.309100e+01  \n",
       "koi_srad_err2        -0.247000    -0.111000    -0.069000  0.000000e+00  \n",
       "ra                  288.670237   292.285005   295.900510  3.017208e+02  \n",
       "dec                  40.805911    43.703989    46.722135  5.233601e+01  \n",
       "koi_kepmag           13.474000    14.534000    15.318250  1.906500e+01  "
      ]
     },
     "execution_count": 8,
     "metadata": {},
     "output_type": "execute_result"
    }
   ],
   "source": [
    "exoplanets.describe().T"
   ]
  },
  {
   "cell_type": "markdown",
   "metadata": {},
   "source": [
    "## Visualización descriptiva "
   ]
  },
  {
   "cell_type": "markdown",
   "metadata": {},
   "source": [
    "Observemos como se comportan las correlaciones entre las categorías"
   ]
  },
  {
   "cell_type": "code",
   "execution_count": 9,
   "metadata": {},
   "outputs": [
    {
     "data": {
      "image/png": "[encoded data removed]",
      "text/plain": [
       "<Figure size 1440x1440 with 2 Axes>"
      ]
     },
     "metadata": {
      "needs_background": "light"
     },
     "output_type": "display_data"
    }
   ],
   "source": [
    "corr = exoplanets.corr()\n",
    "# display(corr)\n",
    "fig = plt.figure()\n",
    "ax = fig.add_subplot(111)\n",
    "cax = ax.matshow(corr,cmap='coolwarm', vmin=-1, vmax=1)\n",
    "fig.colorbar(cax)\n",
    "ticks = np.arange(0,len(corr))\n",
    "ax.set_xticks(ticks)\n",
    "plt.xticks(rotation=90)\n",
    "ax.set_yticks(ticks)\n",
    "ax.set_xticklabels(corr.columns)\n",
    "ax.set_yticklabels(corr.columns)\n",
    "plt.show()\n"
   ]
  },
  {
   "cell_type": "markdown",
   "metadata": {},
   "source": [
    "Veamos como es el promedio de las features para cada categoría"
   ]
  },
  {
   "cell_type": "code",
   "execution_count": 10,
   "metadata": {},
   "outputs": [
    {
     "data": {
      "text/html": [
       "\n",
       "<div id=\"altair-viz-45f08aa4b61e404d89e708383afedaf7\"></div>\n",
       "<script type=\"text/javascript\">\n",
       "  (function(spec, embedOpt){\n",
       "    let outputDiv = document.currentScript.previousElementSibling;\n",
       "    if (outputDiv.id !== \"altair-viz-45f08aa4b61e404d89e708383afedaf7\") {\n",
       "      outputDiv = document.getElementById(\"altair-viz-45f08aa4b61e404d89e708383afedaf7\");\n",
       "    }\n",
       "    const paths = {\n",
       "      \"vega\": \"https://cdn.jsdelivr.net/npm//vega@5?noext\",\n",
       "      \"vega-lib\": \"https://cdn.jsdelivr.net/npm//vega-lib?noext\",\n",
       "      \"vega-lite\": \"https://cdn.jsdelivr.net/npm//vega-lite@4.8.1?noext\",\n",
       "      \"vega-embed\": \"https://cdn.jsdelivr.net/npm//vega-embed@6?noext\",\n",
       "    };\n",
       "\n",
       "    function loadScript(lib) {\n",
       "      return new Promise(function(resolve, reject) {\n",
       "        var s = document.createElement('script');\n",
       "        s.src = paths[lib];\n",
       "        s.async = true;\n",
       "        s.onload = () => resolve(paths[lib]);\n",
       "        s.onerror = () => reject(`Error loading script: ${paths[lib]}`);\n",
       "        document.getElementsByTagName(\"head\")[0].appendChild(s);\n",
       "      });\n",
       "    }\n",
       "\n",
       "    function showError(err) {\n",
       "      outputDiv.innerHTML = `<div class=\"error\" style=\"color:red;\">${err}</div>`;\n",
       "      throw err;\n",
       "    }\n",
       "\n",
       "    function displayChart(vegaEmbed) {\n",
       "      vegaEmbed(outputDiv, spec, embedOpt)\n",
       "        .catch(err => showError(`Javascript Error: ${err.message}<br>This usually means there's a typo in your chart specification. See the javascript console for the full traceback.`));\n",
       "    }\n",
       "\n",
       "    if(typeof define === \"function\" && define.amd) {\n",
       "      requirejs.config({paths});\n",
       "      require([\"vega-embed\"], displayChart, err => showError(`Error loading script: ${err.message}`));\n",
       "    } else if (typeof vegaEmbed === \"function\") {\n",
       "      displayChart(vegaEmbed);\n",
       "    } else {\n",
       "      loadScript(\"vega\")\n",
       "        .then(() => loadScript(\"vega-lite\"))\n",
       "        .then(() => loadScript(\"vega-embed\"))\n",
       "        .catch(showError)\n",
       "        .then(() => displayChart(vegaEmbed));\n",
       "    }\n",
       "  })({\"config\": {\"view\": {\"continuousWidth\": 400, \"continuousHeight\": 300}}, \"repeat\": {\"column\": [\"koi_period\", \"koi_period_err1\", \"koi_time0bk\", \"koi_time0bk_err1\"]}, \"spec\": {\"data\": {\"url\": \"http://localhost:21177/0756d011a72d14ecf3b7f6932f4ee58f.json\"}, \"mark\": \"bar\", \"encoding\": {\"x\": {\"type\": \"nominal\", \"field\": \"koi_disposition\", \"title\": \"Disposici\\u00f3n KOI\"}, \"y\": {\"type\": \"quantitative\", \"aggregate\": \"mean\", \"field\": {\"repeat\": \"column\"}}}, \"height\": 400, \"width\": 300}, \"$schema\": \"https://vega.github.io/schema/vega-lite/v4.8.1.json\"}, {\"mode\": \"vega-lite\"});\n",
       "</script>"
      ],
      "text/plain": [
       "alt.RepeatChart(...)"
      ]
     },
     "execution_count": 10,
     "metadata": {},
     "output_type": "execute_result"
    }
   ],
   "source": [
    "alt.Chart(exoplanets).mark_bar().encode(\n",
    "    alt.X('koi_disposition' , title=\"Disposición KOI\"),\n",
    "    alt.Y(alt.repeat(\"column\"), aggregate=\"mean\", type='quantitative')\n",
    ").properties( \n",
    "    width=300,\n",
    "    height=400\n",
    ").repeat(\n",
    "    column=exoplanets.columns.to_numpy()[1:5]\n",
    ")"
   ]
  },
  {
   "cell_type": "markdown",
   "metadata": {},
   "source": [
    "Podemos identificar diferencias notorias en algunas categorías entre los falsos negativos y confirmados."
   ]
  },
  {
   "cell_type": "markdown",
   "metadata": {},
   "source": [
    "Veamos que pasa al ver los histogramas para algunas categoría"
   ]
  },
  {
   "cell_type": "code",
   "execution_count": 11,
   "metadata": {},
   "outputs": [
    {
     "data": {
      "text/html": [
       "\n",
       "<div id=\"altair-viz-3bb800edfd95470181e869366e55fc21\"></div>\n",
       "<script type=\"text/javascript\">\n",
       "  (function(spec, embedOpt){\n",
       "    let outputDiv = document.currentScript.previousElementSibling;\n",
       "    if (outputDiv.id !== \"altair-viz-3bb800edfd95470181e869366e55fc21\") {\n",
       "      outputDiv = document.getElementById(\"altair-viz-3bb800edfd95470181e869366e55fc21\");\n",
       "    }\n",
       "    const paths = {\n",
       "      \"vega\": \"https://cdn.jsdelivr.net/npm//vega@5?noext\",\n",
       "      \"vega-lib\": \"https://cdn.jsdelivr.net/npm//vega-lib?noext\",\n",
       "      \"vega-lite\": \"https://cdn.jsdelivr.net/npm//vega-lite@4.8.1?noext\",\n",
       "      \"vega-embed\": \"https://cdn.jsdelivr.net/npm//vega-embed@6?noext\",\n",
       "    };\n",
       "\n",
       "    function loadScript(lib) {\n",
       "      return new Promise(function(resolve, reject) {\n",
       "        var s = document.createElement('script');\n",
       "        s.src = paths[lib];\n",
       "        s.async = true;\n",
       "        s.onload = () => resolve(paths[lib]);\n",
       "        s.onerror = () => reject(`Error loading script: ${paths[lib]}`);\n",
       "        document.getElementsByTagName(\"head\")[0].appendChild(s);\n",
       "      });\n",
       "    }\n",
       "\n",
       "    function showError(err) {\n",
       "      outputDiv.innerHTML = `<div class=\"error\" style=\"color:red;\">${err}</div>`;\n",
       "      throw err;\n",
       "    }\n",
       "\n",
       "    function displayChart(vegaEmbed) {\n",
       "      vegaEmbed(outputDiv, spec, embedOpt)\n",
       "        .catch(err => showError(`Javascript Error: ${err.message}<br>This usually means there's a typo in your chart specification. See the javascript console for the full traceback.`));\n",
       "    }\n",
       "\n",
       "    if(typeof define === \"function\" && define.amd) {\n",
       "      requirejs.config({paths});\n",
       "      require([\"vega-embed\"], displayChart, err => showError(`Error loading script: ${err.message}`));\n",
       "    } else if (typeof vegaEmbed === \"function\") {\n",
       "      displayChart(vegaEmbed);\n",
       "    } else {\n",
       "      loadScript(\"vega\")\n",
       "        .then(() => loadScript(\"vega-lite\"))\n",
       "        .then(() => loadScript(\"vega-embed\"))\n",
       "        .catch(showError)\n",
       "        .then(() => displayChart(vegaEmbed));\n",
       "    }\n",
       "  })({\"config\": {\"view\": {\"continuousWidth\": 400, \"continuousHeight\": 300}}, \"repeat\": {\"row\": [\"koi_steff\", \"koi_steff_err1\", \"koi_steff_err2\", \"koi_slogg\", \"ra\", \"dec\", \"koi_prad\"]}, \"spec\": {\"data\": {\"url\": \"http://localhost:21177/0756d011a72d14ecf3b7f6932f4ee58f.json\"}, \"mark\": {\"type\": \"area\", \"interpolate\": \"step\", \"opacity\": 0.3}, \"encoding\": {\"color\": {\"type\": \"nominal\", \"field\": \"koi_disposition\"}, \"x\": {\"type\": \"quantitative\", \"bin\": {\"maxbins\": 100}, \"field\": {\"repeat\": \"row\"}}, \"y\": {\"type\": \"quantitative\", \"aggregate\": \"count\", \"stack\": null}}, \"height\": 550, \"width\": 700}, \"$schema\": \"https://vega.github.io/schema/vega-lite/v4.8.1.json\"}, {\"mode\": \"vega-lite\"});\n",
       "</script>"
      ],
      "text/plain": [
       "alt.RepeatChart(...)"
      ]
     },
     "execution_count": 11,
     "metadata": {},
     "output_type": "execute_result"
    }
   ],
   "source": [
    "alt.Chart(exoplanets).mark_area(\n",
    "    opacity=0.3,\n",
    "    interpolate='step'\n",
    ").encode(\n",
    "    alt.X(alt.repeat(\"row\"), type='quantitative', bin=alt.Bin(maxbins=100)),\n",
    "    alt.Y('count()', stack=None),\n",
    "    alt.Color('koi_disposition:N')\n",
    ").properties( \n",
    "    width=700,\n",
    "    height=550\n",
    ").repeat(\n",
    "    row=[\"koi_steff\",\"koi_steff_err1\",\"koi_steff_err2\",\"koi_slogg\",\"ra\",\"dec\",\"koi_prad\"]\n",
    ")"
   ]
  },
  {
   "cell_type": "markdown",
   "metadata": {},
   "source": [
    "Podemos ver que en estas categorías no se pueden ver diferencias notorias entre exoplanetas confirmados, candidatos y falsos positivos.\n",
    "\n",
    "Pero por ejemplo para lo siguiente"
   ]
  },
  {
   "cell_type": "code",
   "execution_count": 12,
   "metadata": {},
   "outputs": [
    {
     "data": {
      "text/html": [
       "\n",
       "<div id=\"altair-viz-09a548f749484a1ea624b7dd6718d094\"></div>\n",
       "<script type=\"text/javascript\">\n",
       "  (function(spec, embedOpt){\n",
       "    let outputDiv = document.currentScript.previousElementSibling;\n",
       "    if (outputDiv.id !== \"altair-viz-09a548f749484a1ea624b7dd6718d094\") {\n",
       "      outputDiv = document.getElementById(\"altair-viz-09a548f749484a1ea624b7dd6718d094\");\n",
       "    }\n",
       "    const paths = {\n",
       "      \"vega\": \"https://cdn.jsdelivr.net/npm//vega@5?noext\",\n",
       "      \"vega-lib\": \"https://cdn.jsdelivr.net/npm//vega-lib?noext\",\n",
       "      \"vega-lite\": \"https://cdn.jsdelivr.net/npm//vega-lite@4.8.1?noext\",\n",
       "      \"vega-embed\": \"https://cdn.jsdelivr.net/npm//vega-embed@6?noext\",\n",
       "    };\n",
       "\n",
       "    function loadScript(lib) {\n",
       "      return new Promise(function(resolve, reject) {\n",
       "        var s = document.createElement('script');\n",
       "        s.src = paths[lib];\n",
       "        s.async = true;\n",
       "        s.onload = () => resolve(paths[lib]);\n",
       "        s.onerror = () => reject(`Error loading script: ${paths[lib]}`);\n",
       "        document.getElementsByTagName(\"head\")[0].appendChild(s);\n",
       "      });\n",
       "    }\n",
       "\n",
       "    function showError(err) {\n",
       "      outputDiv.innerHTML = `<div class=\"error\" style=\"color:red;\">${err}</div>`;\n",
       "      throw err;\n",
       "    }\n",
       "\n",
       "    function displayChart(vegaEmbed) {\n",
       "      vegaEmbed(outputDiv, spec, embedOpt)\n",
       "        .catch(err => showError(`Javascript Error: ${err.message}<br>This usually means there's a typo in your chart specification. See the javascript console for the full traceback.`));\n",
       "    }\n",
       "\n",
       "    if(typeof define === \"function\" && define.amd) {\n",
       "      requirejs.config({paths});\n",
       "      require([\"vega-embed\"], displayChart, err => showError(`Error loading script: ${err.message}`));\n",
       "    } else if (typeof vegaEmbed === \"function\") {\n",
       "      displayChart(vegaEmbed);\n",
       "    } else {\n",
       "      loadScript(\"vega\")\n",
       "        .then(() => loadScript(\"vega-lite\"))\n",
       "        .then(() => loadScript(\"vega-embed\"))\n",
       "        .catch(showError)\n",
       "        .then(() => displayChart(vegaEmbed));\n",
       "    }\n",
       "  })({\"config\": {\"view\": {\"continuousWidth\": 400, \"continuousHeight\": 300}}, \"data\": {\"url\": \"http://localhost:21177/028c143ab9feb58a64148ef37c1be046.json\"}, \"mark\": {\"type\": \"circle\", \"opacity\": 0.35}, \"encoding\": {\"x\": {\"type\": \"quantitative\", \"field\": \"koi_srad\", \"scale\": {\"domain\": [0, 180]}, \"title\": \"Radio estelar\"}, \"y\": {\"type\": \"quantitative\", \"field\": \"koi_slogg\", \"title\": \"Gravedad de la superficie estelar\"}}, \"height\": 400, \"title\": \"CONFIRMED\", \"width\": 700, \"$schema\": \"https://vega.github.io/schema/vega-lite/v4.8.1.json\"}, {\"mode\": \"vega-lite\"});\n",
       "</script>"
      ],
      "text/plain": [
       "alt.Chart(...)"
      ]
     },
     "metadata": {},
     "output_type": "display_data"
    },
    {
     "data": {
      "text/html": [
       "\n",
       "<div id=\"altair-viz-fd70d6c20afc43df8a65bb9fd710e71c\"></div>\n",
       "<script type=\"text/javascript\">\n",
       "  (function(spec, embedOpt){\n",
       "    let outputDiv = document.currentScript.previousElementSibling;\n",
       "    if (outputDiv.id !== \"altair-viz-fd70d6c20afc43df8a65bb9fd710e71c\") {\n",
       "      outputDiv = document.getElementById(\"altair-viz-fd70d6c20afc43df8a65bb9fd710e71c\");\n",
       "    }\n",
       "    const paths = {\n",
       "      \"vega\": \"https://cdn.jsdelivr.net/npm//vega@5?noext\",\n",
       "      \"vega-lib\": \"https://cdn.jsdelivr.net/npm//vega-lib?noext\",\n",
       "      \"vega-lite\": \"https://cdn.jsdelivr.net/npm//vega-lite@4.8.1?noext\",\n",
       "      \"vega-embed\": \"https://cdn.jsdelivr.net/npm//vega-embed@6?noext\",\n",
       "    };\n",
       "\n",
       "    function loadScript(lib) {\n",
       "      return new Promise(function(resolve, reject) {\n",
       "        var s = document.createElement('script');\n",
       "        s.src = paths[lib];\n",
       "        s.async = true;\n",
       "        s.onload = () => resolve(paths[lib]);\n",
       "        s.onerror = () => reject(`Error loading script: ${paths[lib]}`);\n",
       "        document.getElementsByTagName(\"head\")[0].appendChild(s);\n",
       "      });\n",
       "    }\n",
       "\n",
       "    function showError(err) {\n",
       "      outputDiv.innerHTML = `<div class=\"error\" style=\"color:red;\">${err}</div>`;\n",
       "      throw err;\n",
       "    }\n",
       "\n",
       "    function displayChart(vegaEmbed) {\n",
       "      vegaEmbed(outputDiv, spec, embedOpt)\n",
       "        .catch(err => showError(`Javascript Error: ${err.message}<br>This usually means there's a typo in your chart specification. See the javascript console for the full traceback.`));\n",
       "    }\n",
       "\n",
       "    if(typeof define === \"function\" && define.amd) {\n",
       "      requirejs.config({paths});\n",
       "      require([\"vega-embed\"], displayChart, err => showError(`Error loading script: ${err.message}`));\n",
       "    } else if (typeof vegaEmbed === \"function\") {\n",
       "      displayChart(vegaEmbed);\n",
       "    } else {\n",
       "      loadScript(\"vega\")\n",
       "        .then(() => loadScript(\"vega-lite\"))\n",
       "        .then(() => loadScript(\"vega-embed\"))\n",
       "        .catch(showError)\n",
       "        .then(() => displayChart(vegaEmbed));\n",
       "    }\n",
       "  })({\"config\": {\"view\": {\"continuousWidth\": 400, \"continuousHeight\": 300}}, \"data\": {\"url\": \"http://localhost:21177/d0cdaa259002bd34d0777a04e5fd3b18.json\"}, \"mark\": {\"type\": \"circle\", \"opacity\": 0.35}, \"encoding\": {\"x\": {\"type\": \"quantitative\", \"field\": \"koi_srad\", \"scale\": {\"domain\": [0, 180]}, \"title\": \"Radio estelar\"}, \"y\": {\"type\": \"quantitative\", \"field\": \"koi_slogg\", \"title\": \"Gravedad de la superficie estelar\"}}, \"height\": 400, \"title\": \"FALSE POSITIVE\", \"width\": 700, \"$schema\": \"https://vega.github.io/schema/vega-lite/v4.8.1.json\"}, {\"mode\": \"vega-lite\"});\n",
       "</script>"
      ],
      "text/plain": [
       "alt.Chart(...)"
      ]
     },
     "metadata": {},
     "output_type": "display_data"
    },
    {
     "data": {
      "text/html": [
       "\n",
       "<div id=\"altair-viz-929d8b6e395b4fca887bdf88b4e33615\"></div>\n",
       "<script type=\"text/javascript\">\n",
       "  (function(spec, embedOpt){\n",
       "    let outputDiv = document.currentScript.previousElementSibling;\n",
       "    if (outputDiv.id !== \"altair-viz-929d8b6e395b4fca887bdf88b4e33615\") {\n",
       "      outputDiv = document.getElementById(\"altair-viz-929d8b6e395b4fca887bdf88b4e33615\");\n",
       "    }\n",
       "    const paths = {\n",
       "      \"vega\": \"https://cdn.jsdelivr.net/npm//vega@5?noext\",\n",
       "      \"vega-lib\": \"https://cdn.jsdelivr.net/npm//vega-lib?noext\",\n",
       "      \"vega-lite\": \"https://cdn.jsdelivr.net/npm//vega-lite@4.8.1?noext\",\n",
       "      \"vega-embed\": \"https://cdn.jsdelivr.net/npm//vega-embed@6?noext\",\n",
       "    };\n",
       "\n",
       "    function loadScript(lib) {\n",
       "      return new Promise(function(resolve, reject) {\n",
       "        var s = document.createElement('script');\n",
       "        s.src = paths[lib];\n",
       "        s.async = true;\n",
       "        s.onload = () => resolve(paths[lib]);\n",
       "        s.onerror = () => reject(`Error loading script: ${paths[lib]}`);\n",
       "        document.getElementsByTagName(\"head\")[0].appendChild(s);\n",
       "      });\n",
       "    }\n",
       "\n",
       "    function showError(err) {\n",
       "      outputDiv.innerHTML = `<div class=\"error\" style=\"color:red;\">${err}</div>`;\n",
       "      throw err;\n",
       "    }\n",
       "\n",
       "    function displayChart(vegaEmbed) {\n",
       "      vegaEmbed(outputDiv, spec, embedOpt)\n",
       "        .catch(err => showError(`Javascript Error: ${err.message}<br>This usually means there's a typo in your chart specification. See the javascript console for the full traceback.`));\n",
       "    }\n",
       "\n",
       "    if(typeof define === \"function\" && define.amd) {\n",
       "      requirejs.config({paths});\n",
       "      require([\"vega-embed\"], displayChart, err => showError(`Error loading script: ${err.message}`));\n",
       "    } else if (typeof vegaEmbed === \"function\") {\n",
       "      displayChart(vegaEmbed);\n",
       "    } else {\n",
       "      loadScript(\"vega\")\n",
       "        .then(() => loadScript(\"vega-lite\"))\n",
       "        .then(() => loadScript(\"vega-embed\"))\n",
       "        .catch(showError)\n",
       "        .then(() => displayChart(vegaEmbed));\n",
       "    }\n",
       "  })({\"config\": {\"view\": {\"continuousWidth\": 400, \"continuousHeight\": 300}}, \"data\": {\"url\": \"http://localhost:21177/7940533d312dc8fb3fb4afe97acaff98.json\"}, \"mark\": {\"type\": \"circle\", \"opacity\": 0.35}, \"encoding\": {\"x\": {\"type\": \"quantitative\", \"field\": \"koi_srad\", \"scale\": {\"domain\": [0, 180]}, \"title\": \"Radio estelar\"}, \"y\": {\"type\": \"quantitative\", \"field\": \"koi_slogg\", \"title\": \"Gravedad de la superficie estelar\"}}, \"height\": 400, \"title\": \"CANDIDATE\", \"width\": 700, \"$schema\": \"https://vega.github.io/schema/vega-lite/v4.8.1.json\"}, {\"mode\": \"vega-lite\"});\n",
       "</script>"
      ],
      "text/plain": [
       "alt.Chart(...)"
      ]
     },
     "metadata": {},
     "output_type": "display_data"
    }
   ],
   "source": [
    "for cat in exoplanets.koi_disposition.unique():\n",
    "    alt.Chart(exoplanets[exoplanets['koi_disposition']==cat],title=cat).mark_circle(opacity=0.35).encode(\n",
    "    alt.X('koi_srad', type='quantitative',scale=alt.Scale(domain=[0, 180]) , title=\"Radio estelar\"),\n",
    "    alt.Y('koi_slogg', type='quantitative', title= \"Gravedad de la superficie estelar\")    \n",
    "    ).properties(\n",
    "    width=700,\n",
    "    height=400\n",
    ").display()\n"
   ]
  },
  {
   "cell_type": "markdown",
   "metadata": {},
   "source": [
    "Se puede ver una diferencia entre confirmados y falsos positivos."
   ]
  },
  {
   "cell_type": "markdown",
   "metadata": {},
   "source": [
    "# Balanceo de datos"
   ]
  },
  {
   "cell_type": "code",
   "execution_count": 13,
   "metadata": {},
   "outputs": [
    {
     "data": {
      "text/plain": [
       "FALSE POSITIVE    4358\n",
       "CONFIRMED         2272\n",
       "CANDIDATE         2114\n",
       "Name: koi_disposition, dtype: int64"
      ]
     },
     "execution_count": 13,
     "metadata": {},
     "output_type": "execute_result"
    }
   ],
   "source": [
    "exoplanets[\"koi_disposition\"].value_counts()"
   ]
  },
  {
   "cell_type": "code",
   "execution_count": 14,
   "metadata": {},
   "outputs": [
    {
     "data": {
      "text/html": [
       "\n",
       "<div id=\"altair-viz-1c5e6568c9604c349b0e5e8f3e982ba5\"></div>\n",
       "<script type=\"text/javascript\">\n",
       "  (function(spec, embedOpt){\n",
       "    let outputDiv = document.currentScript.previousElementSibling;\n",
       "    if (outputDiv.id !== \"altair-viz-1c5e6568c9604c349b0e5e8f3e982ba5\") {\n",
       "      outputDiv = document.getElementById(\"altair-viz-1c5e6568c9604c349b0e5e8f3e982ba5\");\n",
       "    }\n",
       "    const paths = {\n",
       "      \"vega\": \"https://cdn.jsdelivr.net/npm//vega@5?noext\",\n",
       "      \"vega-lib\": \"https://cdn.jsdelivr.net/npm//vega-lib?noext\",\n",
       "      \"vega-lite\": \"https://cdn.jsdelivr.net/npm//vega-lite@4.8.1?noext\",\n",
       "      \"vega-embed\": \"https://cdn.jsdelivr.net/npm//vega-embed@6?noext\",\n",
       "    };\n",
       "\n",
       "    function loadScript(lib) {\n",
       "      return new Promise(function(resolve, reject) {\n",
       "        var s = document.createElement('script');\n",
       "        s.src = paths[lib];\n",
       "        s.async = true;\n",
       "        s.onload = () => resolve(paths[lib]);\n",
       "        s.onerror = () => reject(`Error loading script: ${paths[lib]}`);\n",
       "        document.getElementsByTagName(\"head\")[0].appendChild(s);\n",
       "      });\n",
       "    }\n",
       "\n",
       "    function showError(err) {\n",
       "      outputDiv.innerHTML = `<div class=\"error\" style=\"color:red;\">${err}</div>`;\n",
       "      throw err;\n",
       "    }\n",
       "\n",
       "    function displayChart(vegaEmbed) {\n",
       "      vegaEmbed(outputDiv, spec, embedOpt)\n",
       "        .catch(err => showError(`Javascript Error: ${err.message}<br>This usually means there's a typo in your chart specification. See the javascript console for the full traceback.`));\n",
       "    }\n",
       "\n",
       "    if(typeof define === \"function\" && define.amd) {\n",
       "      requirejs.config({paths});\n",
       "      require([\"vega-embed\"], displayChart, err => showError(`Error loading script: ${err.message}`));\n",
       "    } else if (typeof vegaEmbed === \"function\") {\n",
       "      displayChart(vegaEmbed);\n",
       "    } else {\n",
       "      loadScript(\"vega\")\n",
       "        .then(() => loadScript(\"vega-lite\"))\n",
       "        .then(() => loadScript(\"vega-embed\"))\n",
       "        .catch(showError)\n",
       "        .then(() => displayChart(vegaEmbed));\n",
       "    }\n",
       "  })({\"config\": {\"view\": {\"continuousWidth\": 400, \"continuousHeight\": 300}}, \"data\": {\"url\": \"http://localhost:21177/0756d011a72d14ecf3b7f6932f4ee58f.json\"}, \"mark\": \"bar\", \"encoding\": {\"x\": {\"type\": \"nominal\", \"field\": \"koi_disposition\"}, \"y\": {\"type\": \"nominal\", \"aggregate\": \"count\", \"field\": \"koi_disposition\", \"title\": \"Cantidad\"}}, \"height\": 350, \"width\": 220, \"$schema\": \"https://vega.github.io/schema/vega-lite/v4.8.1.json\"}, {\"mode\": \"vega-lite\"});\n",
       "</script>"
      ],
      "text/plain": [
       "alt.Chart(...)"
      ]
     },
     "execution_count": 14,
     "metadata": {},
     "output_type": "execute_result"
    }
   ],
   "source": [
    "alt.Chart(exoplanets).mark_bar().encode(\n",
    "    x='koi_disposition',\n",
    "    y=alt.Y('count(koi_disposition)', title= \"Cantidad\") \n",
    ").properties(\n",
    "    width=220,\n",
    "    height=350\n",
    ")"
   ]
  },
  {
   "cell_type": "code",
   "execution_count": 15,
   "metadata": {},
   "outputs": [],
   "source": [
    "from sklearn.utils import resample\n",
    "\n",
    "confirmado = exoplanets[exoplanets.koi_disposition   =='CONFIRMED']\n",
    "falso = exoplanets[exoplanets.koi_disposition   =='FALSE POSITIVE']\n",
    "candidato=exoplanets[exoplanets.koi_disposition   =='CANDIDATE']"
   ]
  },
  {
   "cell_type": "code",
   "execution_count": 16,
   "metadata": {},
   "outputs": [],
   "source": [
    "# # Upsample minority class\n",
    "confirmado_upsampled = resample(confirmado, \n",
    "                                 replace=True,     # sample with replacement\n",
    "                                 n_samples=len(falso),    # to match majority class\n",
    "                                 random_state=42) # reproducible results"
   ]
  },
  {
   "cell_type": "code",
   "execution_count": 17,
   "metadata": {},
   "outputs": [],
   "source": [
    "exoplanets= pd.concat([falso,confirmado_upsampled])"
   ]
  },
  {
   "cell_type": "code",
   "execution_count": 18,
   "metadata": {},
   "outputs": [
    {
     "data": {
      "text/html": [
       "\n",
       "<div id=\"altair-viz-0c04ac9588294c7f97daef11ce440462\"></div>\n",
       "<script type=\"text/javascript\">\n",
       "  (function(spec, embedOpt){\n",
       "    let outputDiv = document.currentScript.previousElementSibling;\n",
       "    if (outputDiv.id !== \"altair-viz-0c04ac9588294c7f97daef11ce440462\") {\n",
       "      outputDiv = document.getElementById(\"altair-viz-0c04ac9588294c7f97daef11ce440462\");\n",
       "    }\n",
       "    const paths = {\n",
       "      \"vega\": \"https://cdn.jsdelivr.net/npm//vega@5?noext\",\n",
       "      \"vega-lib\": \"https://cdn.jsdelivr.net/npm//vega-lib?noext\",\n",
       "      \"vega-lite\": \"https://cdn.jsdelivr.net/npm//vega-lite@4.8.1?noext\",\n",
       "      \"vega-embed\": \"https://cdn.jsdelivr.net/npm//vega-embed@6?noext\",\n",
       "    };\n",
       "\n",
       "    function loadScript(lib) {\n",
       "      return new Promise(function(resolve, reject) {\n",
       "        var s = document.createElement('script');\n",
       "        s.src = paths[lib];\n",
       "        s.async = true;\n",
       "        s.onload = () => resolve(paths[lib]);\n",
       "        s.onerror = () => reject(`Error loading script: ${paths[lib]}`);\n",
       "        document.getElementsByTagName(\"head\")[0].appendChild(s);\n",
       "      });\n",
       "    }\n",
       "\n",
       "    function showError(err) {\n",
       "      outputDiv.innerHTML = `<div class=\"error\" style=\"color:red;\">${err}</div>`;\n",
       "      throw err;\n",
       "    }\n",
       "\n",
       "    function displayChart(vegaEmbed) {\n",
       "      vegaEmbed(outputDiv, spec, embedOpt)\n",
       "        .catch(err => showError(`Javascript Error: ${err.message}<br>This usually means there's a typo in your chart specification. See the javascript console for the full traceback.`));\n",
       "    }\n",
       "\n",
       "    if(typeof define === \"function\" && define.amd) {\n",
       "      requirejs.config({paths});\n",
       "      require([\"vega-embed\"], displayChart, err => showError(`Error loading script: ${err.message}`));\n",
       "    } else if (typeof vegaEmbed === \"function\") {\n",
       "      displayChart(vegaEmbed);\n",
       "    } else {\n",
       "      loadScript(\"vega\")\n",
       "        .then(() => loadScript(\"vega-lite\"))\n",
       "        .then(() => loadScript(\"vega-embed\"))\n",
       "        .catch(showError)\n",
       "        .then(() => displayChart(vegaEmbed));\n",
       "    }\n",
       "  })({\"config\": {\"view\": {\"continuousWidth\": 400, \"continuousHeight\": 300}}, \"data\": {\"url\": \"http://localhost:21177/8f0556e67c85586b11fbfb27f4e10777.json\"}, \"mark\": \"bar\", \"encoding\": {\"x\": {\"type\": \"nominal\", \"field\": \"koi_disposition\"}, \"y\": {\"type\": \"nominal\", \"aggregate\": \"count\", \"field\": \"koi_disposition\"}}, \"height\": 350, \"width\": 220, \"$schema\": \"https://vega.github.io/schema/vega-lite/v4.8.1.json\"}, {\"mode\": \"vega-lite\"});\n",
       "</script>"
      ],
      "text/plain": [
       "alt.Chart(...)"
      ]
     },
     "execution_count": 18,
     "metadata": {},
     "output_type": "execute_result"
    }
   ],
   "source": [
    "alt.Chart(exoplanets).mark_bar().encode(\n",
    "    x='koi_disposition',\n",
    "    y='count(koi_disposition)'\n",
    ").properties(\n",
    "    width=220,\n",
    "    height=350\n",
    ")"
   ]
  },
  {
   "cell_type": "code",
   "execution_count": 19,
   "metadata": {},
   "outputs": [],
   "source": [
    "X=exoplanets.drop('koi_disposition', axis =1)\n",
    "y=exoplanets['koi_disposition']\n",
    "from sklearn.model_selection import train_test_split\n",
    "\n",
    "X_train, X_test, y_train, y_test = train_test_split(X, y, random_state=42, stratify=y)"
   ]
  },
  {
   "cell_type": "code",
   "execution_count": 47,
   "metadata": {},
   "outputs": [],
   "source": [
    "from sklearn.preprocessing import MinMaxScaler\n",
    "# define min max scaler\n",
    "X_scaler = MinMaxScaler().fit(X_train)\n",
    "X_train_scaled = X_scaler.transform(X_train)\n",
    "X_test_scaled = X_scaler.transform(X_test)"
   ]
  },
  {
   "cell_type": "markdown",
   "metadata": {},
   "source": [
    "## Selección de modelo "
   ]
  },
  {
   "cell_type": "markdown",
   "metadata": {},
   "source": [
    "### k-Nearest Neighbors (k-NN)"
   ]
  },
  {
   "cell_type": "code",
   "execution_count": 61,
   "metadata": {},
   "outputs": [],
   "source": [
    "from sklearn.neighbors import KNeighborsClassifier\n",
    "from sklearn.model_selection import GridSearchCV\n",
    "knn = KNeighborsClassifier()\n",
    "knn_grid = {\"n_neighbors\": np.arange(2, 20)}\n",
    "\n",
    "knn_cv = GridSearchCV(\n",
    "    estimator=knn,\n",
    "    param_grid=knn_grid,\n",
    "    n_jobs=-1\n",
    ")"
   ]
  },
  {
   "cell_type": "code",
   "execution_count": 62,
   "metadata": {},
   "outputs": [
    {
     "data": {
      "text/plain": [
       "GridSearchCV(estimator=KNeighborsClassifier(), n_jobs=-1,\n",
       "             param_grid={'n_neighbors': array([ 2,  3,  4,  5,  6,  7,  8,  9, 10, 11, 12, 13, 14, 15, 16, 17, 18,\n",
       "       19])})"
      ]
     },
     "execution_count": 62,
     "metadata": {},
     "output_type": "execute_result"
    }
   ],
   "source": [
    "knn_cv.fit(X_train_scaled, y_train)         "
   ]
  },
  {
   "cell_type": "code",
   "execution_count": 63,
   "metadata": {},
   "outputs": [
    {
     "name": "stdout",
     "output_type": "stream",
     "text": [
      "0.8516137523427135\n"
     ]
    }
   ],
   "source": [
    "print(knn_cv.best_score_)"
   ]
  },
  {
   "cell_type": "code",
   "execution_count": 64,
   "metadata": {},
   "outputs": [
    {
     "name": "stdout",
     "output_type": "stream",
     "text": [
      "{'n_neighbors': 3}\n"
     ]
    }
   ],
   "source": [
    "print(knn_cv.best_params_)"
   ]
  },
  {
   "cell_type": "code",
   "execution_count": 65,
   "metadata": {},
   "outputs": [
    {
     "data": {
      "text/plain": [
       "Text(0.5, 1.0, 'Matriz de confusión K-NN')"
      ]
     },
     "execution_count": 65,
     "metadata": {},
     "output_type": "execute_result"
    },
    {
     "data": {
      "image/png": "[encoded data removed]",
      "text/plain": [
       "<Figure size 1080x1080 with 2 Axes>"
      ]
     },
     "metadata": {
      "needs_background": "light"
     },
     "output_type": "display_data"
    }
   ],
   "source": [
    "from sklearn.metrics import confusion_matrix,plot_confusion_matrix\n",
    "y_pred=knn_cv.predict(X_test_scaled)\n",
    "fig, ax = plt.subplots(figsize=(15, 15))\n",
    "plot_confusion_matrix(knn_cv,X_test_scaled,y_test, ax=ax).ax_.set_title(\"Matriz de confusión K-NN\")"
   ]
  },
  {
   "cell_type": "code",
   "execution_count": 66,
   "metadata": {},
   "outputs": [
    {
     "name": "stdout",
     "output_type": "stream",
     "text": [
      "                precision    recall  f1-score   support\n",
      "\n",
      "     CONFIRMED       0.83      0.94      0.88      1090\n",
      "FALSE POSITIVE       0.93      0.81      0.87      1089\n",
      "\n",
      "      accuracy                           0.88      2179\n",
      "     macro avg       0.88      0.88      0.88      2179\n",
      "  weighted avg       0.88      0.88      0.88      2179\n",
      "\n"
     ]
    }
   ],
   "source": [
    "from sklearn.metrics import classification_report\n",
    "print(classification_report(y_test, y_pred))"
   ]
  },
  {
   "cell_type": "markdown",
   "metadata": {},
   "source": [
    "### Support-vector machines (SVM)"
   ]
  },
  {
   "cell_type": "code",
   "execution_count": 55,
   "metadata": {},
   "outputs": [
    {
     "data": {
      "text/plain": [
       "SVC()"
      ]
     },
     "execution_count": 55,
     "metadata": {},
     "output_type": "execute_result"
    }
   ],
   "source": [
    "from sklearn.preprocessing import MinMaxScaler\n",
    "from sklearn.svm import SVC\n",
    "\n",
    "model_svc = SVC(kernel='rbf')\n",
    "model_svc.fit(X_train_scaled, y_train)"
   ]
  },
  {
   "cell_type": "code",
   "execution_count": 56,
   "metadata": {},
   "outputs": [],
   "source": [
    "from sklearn.model_selection import GridSearchCV\n",
    "param_grid_svc = {'C': [1, 5, 10, 50,100,1000],\n",
    "                 'gamma': [0.0001, 0.0005, 0.001, 0.005,0.01,0.1]}\n",
    "grid_search_svc = GridSearchCV(model_svc, param_grid_svc, verbose=3,n_jobs=-1)"
   ]
  },
  {
   "cell_type": "code",
   "execution_count": 57,
   "metadata": {},
   "outputs": [
    {
     "name": "stdout",
     "output_type": "stream",
     "text": [
      "Fitting 5 folds for each of 36 candidates, totalling 180 fits\n"
     ]
    },
    {
     "name": "stderr",
     "output_type": "stream",
     "text": [
      "[Parallel(n_jobs=-1)]: Using backend LokyBackend with 8 concurrent workers.\n",
      "[Parallel(n_jobs=-1)]: Done  16 tasks      | elapsed:    6.6s\n",
      "[Parallel(n_jobs=-1)]: Done 112 tasks      | elapsed:   36.0s\n",
      "[Parallel(n_jobs=-1)]: Done 180 out of 180 | elapsed:   50.1s finished\n"
     ]
    },
    {
     "data": {
      "text/plain": [
       "GridSearchCV(estimator=SVC(), n_jobs=-1,\n",
       "             param_grid={'C': [1, 5, 10, 50, 100, 1000],\n",
       "                         'gamma': [0.0001, 0.0005, 0.001, 0.005, 0.01, 0.1]},\n",
       "             verbose=3)"
      ]
     },
     "execution_count": 57,
     "metadata": {},
     "output_type": "execute_result"
    }
   ],
   "source": [
    "grid_search_svc.fit(X_train_scaled, y_train)"
   ]
  },
  {
   "cell_type": "code",
   "execution_count": 58,
   "metadata": {},
   "outputs": [
    {
     "name": "stdout",
     "output_type": "stream",
     "text": [
      "0.9224411484619399\n"
     ]
    }
   ],
   "source": [
    "print(grid_search_svc.best_score_)"
   ]
  },
  {
   "cell_type": "code",
   "execution_count": 59,
   "metadata": {},
   "outputs": [
    {
     "name": "stdout",
     "output_type": "stream",
     "text": [
      "{'C': 1000, 'gamma': 0.1}\n"
     ]
    }
   ],
   "source": [
    "print(grid_search_svc.best_params_)"
   ]
  },
  {
   "cell_type": "code",
   "execution_count": 60,
   "metadata": {},
   "outputs": [
    {
     "data": {
      "text/plain": [
       "Text(0.5, 1.0, 'Matriz de confusión SVM')"
      ]
     },
     "execution_count": 60,
     "metadata": {},
     "output_type": "execute_result"
    },
    {
     "data": {
      "image/png": "[encoded data removed]",
      "text/plain": [
       "<Figure size 1080x1080 with 2 Axes>"
      ]
     },
     "metadata": {
      "needs_background": "light"
     },
     "output_type": "display_data"
    }
   ],
   "source": [
    "from sklearn.metrics import confusion_matrix,plot_confusion_matrix\n",
    "y_pred=grid_search_svc.predict(X_test_scaled)\n",
    "fig, ax = plt.subplots(figsize=(15, 15))\n",
    "plot_confusion_matrix(grid_search_svc,X_test_scaled,y_test , ax=ax).ax_.set_title(\"Matriz de confusión SVM\")"
   ]
  },
  {
   "cell_type": "code",
   "execution_count": 61,
   "metadata": {},
   "outputs": [
    {
     "name": "stdout",
     "output_type": "stream",
     "text": [
      "                precision    recall  f1-score   support\n",
      "\n",
      "     CONFIRMED       0.92      0.94      0.93      1090\n",
      "FALSE POSITIVE       0.94      0.91      0.93      1089\n",
      "\n",
      "      accuracy                           0.93      2179\n",
      "     macro avg       0.93      0.93      0.93      2179\n",
      "  weighted avg       0.93      0.93      0.93      2179\n",
      "\n"
     ]
    }
   ],
   "source": [
    "# Make predictions with the hypertuned model\n",
    "predictions = grid_search_svc.predict(X_test_scaled)\n",
    "\n",
    "# Calculate classification report\n",
    "from sklearn.metrics import classification_report\n",
    "print(classification_report(y_test, predictions))"
   ]
  },
  {
   "cell_type": "markdown",
   "metadata": {},
   "source": [
    "### Random forest"
   ]
  },
  {
   "cell_type": "code",
   "execution_count": 82,
   "metadata": {},
   "outputs": [],
   "source": [
    "from sklearn.ensemble import RandomForestClassifier\n",
    "randomf=RandomForestClassifier()\n",
    "randomf_grid = {\n",
    "    'max_depth': [110, 150, 200, 250],\n",
    "    'n_estimators': [250, 300, 350, 500]\n",
    "}\n",
    "randomf_search = GridSearchCV(randomf, randomf_grid,  cv = 3, n_jobs = -1, verbose = 2)"
   ]
  },
  {
   "cell_type": "code",
   "execution_count": 83,
   "metadata": {},
   "outputs": [
    {
     "name": "stdout",
     "output_type": "stream",
     "text": [
      "Fitting 3 folds for each of 16 candidates, totalling 48 fits\n"
     ]
    },
    {
     "name": "stderr",
     "output_type": "stream",
     "text": [
      "[Parallel(n_jobs=-1)]: Using backend LokyBackend with 8 concurrent workers.\n",
      "[Parallel(n_jobs=-1)]: Done  25 tasks      | elapsed:   25.1s\n",
      "[Parallel(n_jobs=-1)]: Done  48 out of  48 | elapsed:   46.4s finished\n"
     ]
    },
    {
     "data": {
      "text/plain": [
       "GridSearchCV(cv=3, estimator=RandomForestClassifier(), n_jobs=-1,\n",
       "             param_grid={'max_depth': [110, 150, 200, 250],\n",
       "                         'n_estimators': [250, 300, 350, 500]},\n",
       "             verbose=2)"
      ]
     },
     "execution_count": 83,
     "metadata": {},
     "output_type": "execute_result"
    }
   ],
   "source": [
    "randomf_search.fit(X_train_scaled, y_train)"
   ]
  },
  {
   "cell_type": "code",
   "execution_count": 80,
   "metadata": {},
   "outputs": [
    {
     "data": {
      "text/plain": [
       "0.9593085513232369"
      ]
     },
     "execution_count": 80,
     "metadata": {},
     "output_type": "execute_result"
    }
   ],
   "source": [
    "randomf_search.best_score_"
   ]
  },
  {
   "cell_type": "code",
   "execution_count": 81,
   "metadata": {},
   "outputs": [
    {
     "name": "stdout",
     "output_type": "stream",
     "text": [
      "{'max_depth': 200, 'n_estimators': 500}\n"
     ]
    }
   ],
   "source": [
    "print(randomf_search.best_params_)"
   ]
  },
  {
   "cell_type": "code",
   "execution_count": 66,
   "metadata": {},
   "outputs": [
    {
     "data": {
      "text/plain": [
       "Text(0.5, 1.0, 'Matriz de confusión Random Forest')"
      ]
     },
     "execution_count": 66,
     "metadata": {},
     "output_type": "execute_result"
    },
    {
     "data": {
      "image/png": "[encoded data removed]",
      "text/plain": [
       "<Figure size 1080x1080 with 2 Axes>"
      ]
     },
     "metadata": {
      "needs_background": "light"
     },
     "output_type": "display_data"
    }
   ],
   "source": [
    "from sklearn.metrics import confusion_matrix,plot_confusion_matrix\n",
    "y_pred=randomf_search.predict(X_test_scaled)\n",
    "fig, ax = plt.subplots(figsize=(15, 15))\n",
    "confusion_matrix(y_test, y_pred)  #\n",
    "plot_confusion_matrix(randomf_search,X_test_scaled,y_test, ax=ax).ax_.set_title(\"Matriz de confusión Random Forest\")"
   ]
  },
  {
   "cell_type": "code",
   "execution_count": 67,
   "metadata": {},
   "outputs": [
    {
     "name": "stdout",
     "output_type": "stream",
     "text": [
      "                precision    recall  f1-score   support\n",
      "\n",
      "     CONFIRMED       0.96      0.98      0.97      1090\n",
      "FALSE POSITIVE       0.98      0.96      0.97      1089\n",
      "\n",
      "      accuracy                           0.97      2179\n",
      "     macro avg       0.97      0.97      0.97      2179\n",
      "  weighted avg       0.97      0.97      0.97      2179\n",
      "\n"
     ]
    }
   ],
   "source": [
    "print(classification_report(y_test, y_pred))"
   ]
  },
  {
   "cell_type": "code",
   "execution_count": 80,
   "metadata": {},
   "outputs": [
    {
     "data": {
      "image/png": "[encoded data removed]",
      "text/plain": [
       "<Figure size 1584x936 with 1 Axes>"
      ]
     },
     "metadata": {
      "needs_background": "light"
     },
     "output_type": "display_data"
    }
   ],
   "source": [
    "D=dict(zip(X.columns,randomf_search.best_estimator_.feature_importances_))\n",
    "\n",
    "fig=plt.figure(figsize=(22,13))\n",
    "plt.barh(range(len(D)), list(D.values()), align='center')\n",
    "plt.yticks(range(len(D)), list(D.keys()))\n",
    "plt.xlabel(\"Importancia de las categorías para random forest\")\n",
    "plt.show()"
   ]
  },
  {
   "cell_type": "markdown",
   "metadata": {},
   "source": [
    "### Gradient boosting"
   ]
  },
  {
   "cell_type": "code",
   "execution_count": 81,
   "metadata": {},
   "outputs": [],
   "source": [
    "from sklearn.ensemble import GradientBoostingClassifier\n",
    "gradient= GradientBoostingClassifier(random_state=42)\n",
    "gradient_grid =  {\n",
    "    'max_features':[2,3,4,5,6,7],\n",
    "    'learning_rate': [0.001,0.1, 0.05, 0.01,0.2],\n",
    "    'subsample': [0.8],\n",
    "    'n_estimators': [100,250, 300, 500,1000]\n",
    "}\n",
    "\n",
    "gradient_cv = GridSearchCV(\n",
    "    estimator=gradient,\n",
    "    param_grid=gradient_grid,\n",
    "    n_jobs=-1\n",
    ")"
   ]
  },
  {
   "cell_type": "code",
   "execution_count": 82,
   "metadata": {},
   "outputs": [
    {
     "data": {
      "text/plain": [
       "GridSearchCV(estimator=GradientBoostingClassifier(random_state=42), n_jobs=-1,\n",
       "             param_grid={'learning_rate': [0.001, 0.1, 0.05, 0.01, 0.2],\n",
       "                         'max_features': [2, 3, 4, 5, 6, 7],\n",
       "                         'n_estimators': [100, 250, 300, 500, 1000],\n",
       "                         'subsample': [0.8]})"
      ]
     },
     "execution_count": 82,
     "metadata": {},
     "output_type": "execute_result"
    }
   ],
   "source": [
    "gradient_cv.fit(X_train_scaled, y_train)"
   ]
  },
  {
   "cell_type": "code",
   "execution_count": 83,
   "metadata": {},
   "outputs": [
    {
     "name": "stdout",
     "output_type": "stream",
     "text": [
      "0.9642040389434449\n"
     ]
    }
   ],
   "source": [
    "print(gradient_cv.best_score_)"
   ]
  },
  {
   "cell_type": "code",
   "execution_count": 84,
   "metadata": {},
   "outputs": [
    {
     "name": "stdout",
     "output_type": "stream",
     "text": [
      "{'learning_rate': 0.2, 'max_features': 7, 'n_estimators': 1000, 'subsample': 0.8}\n"
     ]
    }
   ],
   "source": [
    "print(gradient_cv.best_params_)"
   ]
  },
  {
   "cell_type": "code",
   "execution_count": 85,
   "metadata": {},
   "outputs": [
    {
     "data": {
      "text/plain": [
       "Text(0.5, 1.0, 'Matriz de confusión Gradient boosting')"
      ]
     },
     "execution_count": 85,
     "metadata": {},
     "output_type": "execute_result"
    },
    {
     "data": {
      "image/png": "[encoded data removed]",
      "text/plain": [
       "<Figure size 1080x1080 with 2 Axes>"
      ]
     },
     "metadata": {
      "needs_background": "light"
     },
     "output_type": "display_data"
    }
   ],
   "source": [
    "from sklearn.metrics import confusion_matrix,plot_confusion_matrix\n",
    "y_pred=gradient_cv.predict(X_test_scaled)\n",
    "fig, ax = plt.subplots(figsize=(15, 15))\n",
    "confusion_matrix(y_test, y_pred)\n",
    "plot_confusion_matrix(gradient_cv,X_test_scaled,y_test, ax=ax).ax_.set_title(\"Matriz de confusión Gradient boosting\")"
   ]
  },
  {
   "cell_type": "code",
   "execution_count": 86,
   "metadata": {},
   "outputs": [
    {
     "name": "stdout",
     "output_type": "stream",
     "text": [
      "                precision    recall  f1-score   support\n",
      "\n",
      "     CONFIRMED       0.95      0.98      0.97      1090\n",
      "FALSE POSITIVE       0.98      0.95      0.96      1089\n",
      "\n",
      "      accuracy                           0.97      2179\n",
      "     macro avg       0.97      0.97      0.97      2179\n",
      "  weighted avg       0.97      0.97      0.97      2179\n",
      "\n"
     ]
    }
   ],
   "source": [
    "print(classification_report(y_test, y_pred))"
   ]
  },
  {
   "cell_type": "code",
   "execution_count": 87,
   "metadata": {},
   "outputs": [
    {
     "data": {
      "image/png": "[encoded data removed]",
      "text/plain": [
       "<Figure size 1584x936 with 1 Axes>"
      ]
     },
     "metadata": {
      "needs_background": "light"
     },
     "output_type": "display_data"
    }
   ],
   "source": [
    "D=dict(zip(X.columns,gradient_cv.best_estimator_.feature_importances_))\n",
    "\n",
    "fig=plt.figure(figsize=(22,13))\n",
    "plt.barh(range(len(D)), list(D.values()), align='center')\n",
    "plt.yticks(range(len(D)), list(D.keys()))\n",
    "plt.xlabel(\"Importancia de las categorías para gradient boosting\")\n",
    "\n",
    "\n",
    "plt.show()"
   ]
  },
  {
   "cell_type": "markdown",
   "metadata": {},
   "source": [
    "## Conclusiones "
   ]
  },
  {
   "cell_type": "markdown",
   "metadata": {},
   "source": [
    "* El método que tuvo el mejor score fue Gradient Boosting\n",
    "* La diferencia entre los métodos de ensamble y el resto es clara\n",
    "* Estos métodos poseen un \"score\" asociado\n",
    "* Este score puede ser útil para tener una idea en el estudio de los candidatos\n",
    "* A pesar de que gradient boosting fuera el método mejor calificado, su tiempo de ejecución y uso de recursos es considerablemente mayor en comparación a los otros modelos. Como por ejemplo random forest que tiene un desempeño similar con un menor tiempo de ejecución.  \n",
    "\n",
    "A pesar de las altas precisiones entregadas por los modelos, sobre todo de gradient boosting y random forest, para los estándares de la NASA esto es insuficiente, ya que para ellos, un nuevo descubrimiento debe tener un nivel de confianza mínimo de 99,9999%."
   ]
  },
  {
   "cell_type": "markdown",
   "metadata": {},
   "source": [
    "## Bibliografía"
   ]
  },
  {
   "cell_type": "markdown",
   "metadata": {},
   "source": [
    "* https://www.kaggle.com/nasa/kepler-exoplanet-search-results/\n",
    "* https://exoplanetarchive.ipac.caltech.edu/docs/API_kepcandidate_columns.html"
   ]
  }
 ],
 "metadata": {
  "kernelspec": {
   "display_name": "Python 3",
   "language": "python",
   "name": "python3"
  },
  "language_info": {
   "codemirror_mode": {
    "name": "ipython",
    "version": 3
   },
   "file_extension": ".py",
   "mimetype": "text/x-python",
   "name": "python",
   "nbconvert_exporter": "python",
   "pygments_lexer": "ipython3",
   "version": "3.7.8"
  }
 },
 "nbformat": 4,
 "nbformat_minor": 4
}
