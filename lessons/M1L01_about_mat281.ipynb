{
 "cells": [
  {
   "cell_type": "markdown",
   "metadata": {
    "slideshow": {
     "slide_type": "slide"
    }
   },
   "source": [
    "# Acerca de MAT281"
   ]
  },
  {
   "cell_type": "markdown",
   "metadata": {
    "slideshow": {
     "slide_type": "slide"
    }
   },
   "source": [
    "## Objetivos\n",
    "\n",
    "* Presentarnos\n",
    "* Motivar el curso\n",
    "* Servicios de utilidad pública"
   ]
  },
  {
   "cell_type": "markdown",
   "metadata": {
    "slideshow": {
     "slide_type": "slide"
    }
   },
   "source": [
    "## Presentación"
   ]
  },
  {
   "cell_type": "markdown",
   "metadata": {
    "slideshow": {
     "slide_type": "slide"
    }
   },
   "source": [
    "**Profesor Casa Central:** Alonso Ogueda Oliva \n",
    "* Ingeniero Civil Matemático - UTFSM, Chile (2011-2018)\n",
    "    - Mención Estadística Aplicada\n",
    "* Actualmente:\n",
    "    - Estudiante de Magíster en Ciencias mención Matemática - UTFSM, Chile (2019-2020?)\n",
    "    - Data Scientist @ u-planner (2017-??)\n",
    "* Intereses: Ciencia, educación, estadística, naturaleza, memes, innovación y aprender.\n",
    "* Contacto:\n",
    "    - Correo Electrónico: alonso.ogueda@usm.com\n",
    "    - _\"Oficina\"_: Sala 3, Tercer Piso, DMAT (Edificio F)"
   ]
  },
  {
   "cell_type": "markdown",
   "metadata": {},
   "source": [
    "**Ayudante:** _Undefined_ \n",
    "\n"
   ]
  },
  {
   "cell_type": "markdown",
   "metadata": {},
   "source": [
    "**Ustedes!**\n",
    "\n",
    "* ¿Cuál es tu nombre, carrera, año, etc?\n",
    "* ¿Qué te han dicho de este curso?\n",
    "* ¿Qué esperas del curso?"
   ]
  },
  {
   "cell_type": "markdown",
   "metadata": {
    "slideshow": {
     "slide_type": "slide"
    }
   },
   "source": [
    "## Contenidos del Curso\n",
    "\n",
    "El programa de la asignatura entrega la siguiente **descripción**:\n",
    "\n",
    "*El estudiante adquiere competencias específicas relevantes para la modelación matemática de problemas de ingeniería, que incluyen elementos básicos del análisis de datos, y uso de programas computacionales especializados. Se analizan problemas provenientes de la ingeniería.*\n",
    "\n",
    "* **Requisitos de entrada**:\n",
    "    1. Utiliza herramientas básicas de ecuaciones diferenciales, probabilidad y estadística y análisis numérico.\n",
    "    1. Conocimiento de algún lenguaje de programación.\n",
    "* **Contribución al perfil de egreso**:\n",
    "    1. Comprende los principales conceptos y fenómenos de la física, la química y las ciencias de la ingeniería.\n",
    "    1. Aplica los conceptos y técnicas de la programación.\n",
    "    1. Resuelve ecuaciones algebraicas y diferenciales mediante técnicas de aproximación, interpolación, integración y cálculo numérico.\n",
    "    1. Expone hechos, ideas y argumentos de manera clara, ante grupos pequeños y medianos.\n",
    "    1. Extrae y procesa datos para obtener información cualitativa de procesos y sistemas.\n",
    "* **Resultados de aprendizaje**\n",
    "    1. Analiza el concepto de adimensionalización, determinando variables adimensionales en ecuaciones diferenciales.\n",
    "    1. Evalúa el grado de una aproximación en un modelo matemático, utilizando métodos de cálculo del error.\n",
    "    1. Determina la complejidad del análisis de grandes volúmenes de datos, aplicando técnicas matemáticas para su estudio.\n",
    "    1. Diseña el esquema básico de un proyecto para resolver un problema dado, distinguiendo los principales elementos de un proyecto de ingeniería.\n",
    "* **Contenidos temáticos**:\n",
    "    1. Herramientas transversales en ingeniería: aproximaciones, adimensionalización, lenguajes de programación.\n",
    "    1. Modelación matemática.\n",
    "    1. Introducción a Data Science.\n",
    "    1. Introducción a proyectos en ingeniería.\n",
    "    1. Considerando MAT282."
   ]
  },
  {
   "cell_type": "markdown",
   "metadata": {},
   "source": [
    "## Motivación\n",
    "\n",
    "Ingeniería busca:\n",
    "* Mejor utilización de recursos.\n",
    "* Garantizar calidad y reproducibilidad.\n",
    "* Detectar malas prácticas e ineficiencias.\n",
    "* Utilizar las mejores herramientas para el problema.\n",
    "* Definir métricas para determinar, controlar y mejorar el estado de un sistema."
   ]
  },
  {
   "cell_type": "markdown",
   "metadata": {
    "slideshow": {
     "slide_type": "slide"
    }
   },
   "source": [
    "## Programa del curso (Tentativo)\n",
    "\n",
    "**Módulo 1 - Introducción** [2 semanas]: Planificación del curso, reglas, herramientas, setup, consejos y otros temas introductorios.\n",
    "\n",
    "1. Acerca del curso\n",
    "1. Toolkit & Setup\n",
    "1. Recordando Python\n",
    "1. Ecosistema de Python\n",
    " \n",
    "**Módulo 2 - Análisis de Datos** [3 semanas]: Tipos de datos, obtención de datos, detección de errores, análisis.\n",
    "\n",
    "1. Introducción cálculo científico\n",
    "1. Numpy para matemáticos\n",
    "1. Manipulación de datos\n",
    "1. Combinando datos\n",
    "1. Agregando datos\n",
    "1. Análisis exploratorio de datos \n",
    "\n",
    "**Módulo 3 - Visualización:** [2 semanas]:  Tipos de visualización, librerías más comunes, graficos dinámicos, etc.\n",
    "\n",
    "1. Teoría de visualización\n",
    "1. Visualización imperativa\n",
    "1. Visualización declarativa\n",
    "1. Visualización interativa\n",
    "\n",
    "**Módulo 4 - Machine Learning** [4 semanas]: Datasets, métricas, algoritmos de clasificación, clustering y regresión.  \n",
    "\n",
    "1. Modelamiento\n",
    "1. Regresión lineal\n",
    "1. Clasificación I\n",
    "1. Clasificación II\n",
    "1. Clustering\n",
    "1. Selección de modelos\n",
    "1. Preprocesamiento\n",
    "1. Reducción de dimensionalidad\n",
    "\n",
    "**Módulo 5 - Data Science** [4 semanas]: Proyectos y mundo laboral.\n",
    "\n",
    "1. Data Science 101\n",
    "1. Trabajando en el mundo laboral\n",
    "1. Ética en los datos y modelos\n",
    "1. Siguientes pasos en tu vida\n",
    "1. Proyecto final I\n",
    "1. Proyecto final II\n",
    "1. Proyecto final III\n",
    "1. Proyecto final IV"
   ]
  },
  {
   "cell_type": "markdown",
   "metadata": {},
   "source": [
    "### Justificación\n",
    "\n",
    "* Alta demanda de profesionales con capacidades en matemática, estadística, programación y visualización. \n",
    "    - Por ejemplo, [esto](https://www.linkedin.com/jobs/search/?keywords=data%20scientist&originalSubdomain=cl) arroja la búsqueda de _data scientists_ en LinkedIn.\n",
    "* El mundo académico y científico cada día se preocupa más de la _reproducibilidad de resultados_.\n",
    "* Los últimos años, Python se ha alzado como uno de los lenguajes de programación más populares [(link)](https://insights.stackoverflow.com/survey/2019).\n",
    "* Jupyter Project posee una comunidad que se ha dedicado a adoptar este conjunto de herramientas en la educación: [Teaching and Learning with Jupyter](https://jupyter4edu.github.io/jupyter-edu-book/). "
   ]
  },
  {
   "cell_type": "markdown",
   "metadata": {},
   "source": [
    "### Profe! Yo no sé programar...\n",
    "\n",
    "* ¿Cuántos cursos de programación has tenido? ¿2? ¿3?\n",
    "   * La malla curricular de ICM no está enfocada en la programación, pero resulta una habilidad esencial hoy en día.\n",
    "   * Algunos incluso proponen que no saber Data Science es el nuevo analfabetismo.\n",
    "* Python es multipropósito. \n",
    "   * Les servirá para cualquier trabajo que terminen realizando.\n",
    "* ICM debe saber trabajar con datos. \n",
    "   * Excel y python-pandas son excelentes aliados.\n",
    "* El énfasis del curso es _aplicar_, no en programar desde cero.\n",
    "* Todas las clases serán compartidas y vendrán con código de ejemplo para aprender y extender.\n",
    "* Jupyter Notebooks juegan un rol crucial, no es necesario ser un hackerman para comenzar a ejecutar códigos de python."
   ]
  },
  {
   "cell_type": "markdown",
   "metadata": {},
   "source": [
    "### Datos de vital importancia para el desarrollo del curso:\n",
    "\n",
    "* Semestre corto (15 semanas aproximadamente).\n",
    "* Típicamente los estudiantes tienen una gran carga académica este semestre.\n",
    "* Curso de pocos créditos, 3 UTFSM y 4 SCT."
   ]
  },
  {
   "cell_type": "markdown",
   "metadata": {},
   "source": [
    "## Evaluación"
   ]
  },
  {
   "cell_type": "markdown",
   "metadata": {},
   "source": [
    "### Entregables\n",
    "\n",
    "* 13 laboratorios ($L_i$)\n",
    "    - Semanal.\n",
    "    - Notas 0, 25, 50, 100.\n",
    "    - Plazo: Viernes 23:59:59 hrs.\n",
    "    - Laborotorios fuera del plazo tienen nota cero (0).\n",
    "* 3 tareas ($T_i$)\n",
    "    - Una por cada uno los módulos 2, 3 y 4.\n",
    "    - Plazo: _Por definir_ (típicamente se entrega al finalizar el módulo).\n",
    "    - Entregas fuera de plazo descuentan 25 puntos por día (parte entera). \n",
    "        - Por ejemplo, un retraso de 15 minutos cuenta como un día y descuenta 25 puntos.\n",
    "* 1 proyecto final ($P_i$)\n",
    "    - 2 o 3 entregables (_por definir_).\n",
    "    - Plazo: _Por definir_.\n",
    "    - Entregas fuera de plazo descuentan 25 puntos por día (parte entera). \n",
    "* Factor _Buena Onda_ ($\\omega$)\n",
    "    * Entre 0 y 3 puntos, basados en asistencia a clases, participación, puntualidad y buena disposición.  \n",
    "\n",
    "La calificación será de la siguiente manera:\n",
    "\n",
    "$$\n",
    "\\begin{align*}\n",
    "T &= \\frac{1}{3} \\sum_{i=1}^3 T_i\\\\\n",
    "L &= \\frac{1}{13} \\sum_{i=1}^{13} L_i\\\\\n",
    "P &= \\textrm{Pendiente!} \\\\\n",
    "\\\\\n",
    "NF &= 0.3 T + 0.5 L + 0.2 P + \\omega\\\\\n",
    "\\end{align*}\n",
    "$$\n",
    "\n",
    "**¡Importante!**\n",
    "* Todos los entregables se deben subir a un repositorio personal en GitHub del estudiante y se deben ejecutar con Binder."
   ]
  },
  {
   "cell_type": "markdown",
   "metadata": {},
   "source": [
    "## Misceláneo\n",
    "\n",
    "Reglas de convivencia básicas:\n",
    "\n",
    "- **Respeto**, desde el profesor a los estudiantes y viceversa.\n",
    "- **Cordialidad**, mantengamos un lenguaje y actitud agradable con todos.\n",
    "- **Comunicación**, si algo nos molesta encontrar el momento y la manera adecuada de comunicarlo.\n",
    "- **Feedback constante**, no esperemos a la encuesta docente para mejorar o arreglar cosas."
   ]
  },
  {
   "cell_type": "markdown",
   "metadata": {
    "slideshow": {
     "slide_type": "slide"
    }
   },
   "source": [
    "### Regla de las 10,000 horas\n",
    "\n",
    "Toda habilidad require trabajo:\n",
    "\n",
    " * Matemática\n",
    " * Ingeniería\n",
    " * Programación\n",
    " * Tocar guitarra\n",
    " * Fotografía\n",
    " * Dibujo\n",
    "\n",
    " Este curso desarrollaremos habilidades para poder facilitarles su trabajo en ingeniería: el mundo de los datos reales y de las aproximaciones.\n",
    " \n",
    " ![label](../images/10000_hours.jpg)"
   ]
  },
  {
   "cell_type": "markdown",
   "metadata": {
    "slideshow": {
     "slide_type": "slide"
    }
   },
   "source": [
    "### Resumen\n",
    "* Curso atípico: interactivo y enfásis en vinculación a _\"mundo real\"_.\n",
    "* Trabajo con datos reales: esencial.\n",
    "* _\"El que mucho abarca poco aprieta\"_: Curso introductorio en mucho temas.\n",
    "* Programaremos en python.\n",
    "* Para aprobar: ¡trabajar!\n",
    "* Objetivo: Aprender a aprender.\n",
    "* Mantener la buena onda."
   ]
  }
 ],
 "metadata": {
  "celltoolbar": "Slideshow",
  "kernelspec": {
   "display_name": "Python 3",
   "language": "python",
   "name": "python3"
  },
  "language_info": {
   "codemirror_mode": {
    "name": "ipython",
    "version": 3
   },
   "file_extension": ".py",
   "mimetype": "text/x-python",
   "name": "python",
   "nbconvert_exporter": "python",
   "pygments_lexer": "ipython3",
   "version": "3.7.8"
  }
 },
 "nbformat": 4,
 "nbformat_minor": 4
}
