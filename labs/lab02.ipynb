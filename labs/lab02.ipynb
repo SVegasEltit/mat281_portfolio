{
 "cells": [
  {
   "cell_type": "markdown",
   "metadata": {},
   "source": [
    "# Laboratorio 2"
   ]
  },
  {
   "cell_type": "code",
   "execution_count": null,
   "metadata": {},
   "outputs": [],
   "source": [
    "import numpy as np\n",
    "from scipy import linalg"
   ]
  },
  {
   "cell_type": "markdown",
   "metadata": {},
   "source": [
    "## Ejercicio 1\n",
    "\n",
    "Dados dos NumPy array, `x` e `y` unidimensionales, construye su matriz de Cauchy `C`tal que \n",
    "\n",
    "(1 punto)\n",
    "\n",
    "$$\n",
    "    c_{ij} = \\frac{1}{x_i - y_j}\n",
    "$$"
   ]
  },
  {
   "cell_type": "code",
   "execution_count": null,
   "metadata": {},
   "outputs": [],
   "source": [
    "def cauchy_matrix(x, y):\n",
    "    m = x.shape[0]\n",
    "    n = y.shape[0]\n",
    "    C = np.empty(shape=(m, n))\n",
    "    for i in range (10):\n",
    "        for j in range (5):\n",
    "            C[i , j] = 1 / (x[i]- y[j])\n",
    "    return C"
   ]
  },
  {
   "cell_type": "code",
   "execution_count": null,
   "metadata": {},
   "outputs": [],
   "source": [
    "x = np.arange(10, 101, 10)\n",
    "y = np.arange(5)\n",
    "cauchy_matrix(x, y)"
   ]
  },
  {
   "cell_type": "markdown",
   "metadata": {},
   "source": [
    "## Ejercicio 2\n",
    "\n",
    "(1 punto)\n",
    "\n",
    "Implementa la multiplicación matricial a través de dos ciclos `for`. Verifica que tu implementación está correcta y luego compara los tiempos de tu implementación versus la de NumPy."
   ]
  },
  {
   "cell_type": "code",
   "execution_count": null,
   "metadata": {},
   "outputs": [],
   "source": [
    "def my_mul(A, B):\n",
    "    m, n = A.shape\n",
    "    p, q = B.shape\n",
    "    if n != p:\n",
    "        raise ValueError(\"Las dimensiones de las matrices no calzan!\")\n",
    "    C = np.empty(shape=(m, q))\n",
    "    for i in range(m):\n",
    "        for j in range (q):\n",
    "            C[i, j] = np.sum(A[i] * B[:,j])                                   \n",
    "    return C"
   ]
  },
  {
   "cell_type": "code",
   "execution_count": null,
   "metadata": {},
   "outputs": [],
   "source": [
    "A = np.arange(15).reshape(-1, 5)\n",
    "B = np.arange(20).reshape(5, -1)\n",
    "my_mul(A, B)"
   ]
  },
  {
   "cell_type": "code",
   "execution_count": null,
   "metadata": {},
   "outputs": [],
   "source": [
    "# Validation\n",
    "np.allclose(my_mul(A, B), A @ B)"
   ]
  },
  {
   "cell_type": "code",
   "execution_count": null,
   "metadata": {},
   "outputs": [],
   "source": [
    "%%timeit\n",
    "my_mul(A, B)"
   ]
  },
  {
   "cell_type": "code",
   "execution_count": null,
   "metadata": {},
   "outputs": [],
   "source": [
    "%%timeit\n",
    "A @ B"
   ]
  },
  {
   "cell_type": "markdown",
   "metadata": {},
   "source": [
    "## Ejercicio 3\n",
    "\n",
    "(1 punto)\n",
    "\n",
    "Crea una función que imprima todos los bloques contiguos de tamaño $3 \\times 3$ para una matriz de $5 \\times 5$.\n",
    "Hint: Deben ser 9 bloques!"
   ]
  },
  {
   "cell_type": "code",
   "execution_count": null,
   "metadata": {},
   "outputs": [],
   "source": [
    "def three_times_three_blocks(A):\n",
    "    m, n = A.shape\n",
    "    counter = 1\n",
    "    for i in range(3,m+1):\n",
    "        for j in range(3,n+1):\n",
    "            block = A[i-3:i , j-3:j]\n",
    "            print(f\"Block {counter}:\")\n",
    "            print(block)\n",
    "            print(\"\\n\")\n",
    "            counter += 1"
   ]
  },
  {
   "cell_type": "code",
   "execution_count": null,
   "metadata": {},
   "outputs": [],
   "source": [
    "A = np.arange(1, 26).reshape(5, 5)\n",
    "A"
   ]
  },
  {
   "cell_type": "code",
   "execution_count": null,
   "metadata": {},
   "outputs": [],
   "source": [
    "three_times_three_blocks(A)"
   ]
  },
  {
   "cell_type": "markdown",
   "metadata": {},
   "source": [
    "## Ejercicio 4\n",
    "\n",
    "(1 punto)\n",
    "\n",
    "Has tu propio implementación de la matriz de Hilbert de orden $n$ y luego compara los tiempos de ejecución versus la función [`scipy.linalg.hilbert`](https://docs.scipy.org/doc/scipy/reference/generated/scipy.linalg.hilbert.html#scipy.linalg.hilbert). Finalmente, verifica que la inversa de tu implementación (utilizando `linalg.inv`) es idéntica a la obtenida con la función [`scipy.linalg.invhilbert`](https://docs.scipy.org/doc/scipy/reference/generated/scipy.linalg.invhilbert.html#scipy.linalg.invhilbert)."
   ]
  },
  {
   "cell_type": "code",
   "execution_count": null,
   "metadata": {},
   "outputs": [],
   "source": [
    "def my_hilbert(n):\n",
    "    H = np.empty((n, n))\n",
    "    for i in range(n):\n",
    "        for j in range(n):\n",
    "            H[i, j]= 1 / (i + j +1)    ##=>Originalmente deberia ser (i+j-1) pero como python empieza desde el 0 me parecio conveniente hacer: (i+1 + j+1 - 1)= (i+ j + 1) ##\n",
    "    return H"
   ]
  },
  {
   "cell_type": "code",
   "execution_count": null,
   "metadata": {},
   "outputs": [],
   "source": [
    "n = 5\n",
    "np.allclose(my_hilbert(n), linalg.hilbert(n))"
   ]
  },
  {
   "cell_type": "code",
   "execution_count": null,
   "metadata": {},
   "outputs": [],
   "source": [
    "%timeit my_hilbert(n)"
   ]
  },
  {
   "cell_type": "code",
   "execution_count": null,
   "metadata": {},
   "outputs": [],
   "source": [
    "%timeit linalg.hilbert(n)"
   ]
  },
  {
   "cell_type": "code",
   "execution_count": null,
   "metadata": {},
   "outputs": [],
   "source": [
    "# Verificacion inversas\n",
    "n=10\n",
    "np.allclose(linalg.inv(my_hilbert(n)), linalg.invhilbert(n))"
   ]
  },
  {
   "cell_type": "markdown",
   "metadata": {},
   "source": [
    "Vuelve a probar pero con $n=10$. ¿Cambia algo? ¿Por qué podría ser?"
   ]
  },
  {
   "cell_type": "markdown",
   "metadata": {},
   "source": [
    "__Respuesta:__  Porque al implementar la inversa en my_hilbert se usa un codigo distinto al invihilbert, provocando que los resultados sean distintos por la exactitud de ambos metodos, además se tendrá que en las operaciones realizadas de numeros flotantes generan un error entre el resultado de ambas operaciones."
   ]
  }
 ],
 "metadata": {
  "kernelspec": {
   "display_name": "Python 3",
   "language": "python",
   "name": "python3"
  },
  "language_info": {
   "codemirror_mode": {
    "name": "ipython",
    "version": 3
   },
   "file_extension": ".py",
   "mimetype": "text/x-python",
   "name": "python",
   "nbconvert_exporter": "python",
   "pygments_lexer": "ipython3",
   "version": "3.7.8"
  }
 },
 "nbformat": 4,
 "nbformat_minor": 4
}
