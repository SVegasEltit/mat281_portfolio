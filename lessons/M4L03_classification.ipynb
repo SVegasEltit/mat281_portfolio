{
 "cells": [
  {
   "cell_type": "markdown",
   "metadata": {
    "slideshow": {
     "slide_type": "slide"
    }
   },
   "source": [
    "# Clasificación"
   ]
  },
  {
   "cell_type": "markdown",
   "metadata": {
    "slideshow": {
     "slide_type": "slide"
    }
   },
   "source": [
    "Los modelos de regresión asumen que la variable de respuesta es cuantitativa, sin embargo, en muchas situaciones esta variable es cualitativa/categórica, por ejemplo el color de ojos. La idea de predecir variables categóricas es usualmente nombrada como _Clasificación_. Muchos de los problemas en los que se enfoca el Machine Learning están dentro de esta categoría, por lo mismo existen una serie de algoritmos y modelos con tal de obtener los mejores resultados. En esta clase introduciremos el algoritmo de clasificación más sencillo: _Regresión Logística_."
   ]
  },
  {
   "cell_type": "markdown",
   "metadata": {
    "slideshow": {
     "slide_type": "slide"
    }
   },
   "source": [
    "## Motivación"
   ]
  },
  {
   "cell_type": "markdown",
   "metadata": {},
   "source": [
    "Para comprender mejor los algoritmos de clasificación se comenzará con un ejemplo.\n",
    "\n",
    "**Space Shuttle Challege**\n",
    "\n",
    "28 Junio 1986. A pesar de existir evidencia de funcionamiento defectuoso, se da luz verde al lanzamiento.\n",
    "\n",
    "![challenger1](../images/Challenger1.gif)\n",
    "\n",
    "A los 73 segundos de vuelo, el transbordador espacial explota, matando a los 7 pasajeros.\n",
    "\n",
    "![challenger2](../images/Challenger2.jpg)"
   ]
  },
  {
   "cell_type": "markdown",
   "metadata": {},
   "source": [
    "Como parte del debriefing del accidente, se obtuvieron los siguientes datos"
   ]
  },
  {
   "cell_type": "code",
   "execution_count": 3,
   "metadata": {},
   "outputs": [
    {
     "data": {
      "text/plain": [
       "\u001b[1;34m\"Temp\"\u001b[0m  \u001b[1;34m\"BadRings\"\u001b[0m\u001b[1;33m\n",
       "\u001b[0m\u001b[1;36m53\u001b[0m      \u001b[1;36m3\u001b[0m\u001b[1;33m\n",
       "\u001b[0m\u001b[1;36m56\u001b[0m      \u001b[1;36m1\u001b[0m\u001b[1;33m\n",
       "\u001b[0m\u001b[1;36m57\u001b[0m      \u001b[1;36m1\u001b[0m\u001b[1;33m\n",
       "\u001b[0m\u001b[1;36m63\u001b[0m      \u001b[1;36m0\u001b[0m\u001b[1;33m\n",
       "\u001b[0m\u001b[1;36m66\u001b[0m      \u001b[1;36m0\u001b[0m\u001b[1;33m\n",
       "\u001b[0m\u001b[1;36m67\u001b[0m      \u001b[1;36m0\u001b[0m\u001b[1;33m\n",
       "\u001b[0m\u001b[1;36m67\u001b[0m      \u001b[1;36m0\u001b[0m\u001b[1;33m\n",
       "\u001b[0m\u001b[1;36m67\u001b[0m      \u001b[1;36m0\u001b[0m\u001b[1;33m\n",
       "\u001b[0m\u001b[1;36m68\u001b[0m      \u001b[1;36m0\u001b[0m\u001b[1;33m\n",
       "\u001b[0m\u001b[1;36m69\u001b[0m      \u001b[1;36m0\u001b[0m\u001b[1;33m\n",
       "\u001b[0m\u001b[1;36m70\u001b[0m      \u001b[1;36m0\u001b[0m\u001b[1;33m\n",
       "\u001b[0m\u001b[1;36m70\u001b[0m      \u001b[1;36m1\u001b[0m\u001b[1;33m\n",
       "\u001b[0m\u001b[1;36m70\u001b[0m      \u001b[1;36m1\u001b[0m\u001b[1;33m\n",
       "\u001b[0m\u001b[1;36m70\u001b[0m      \u001b[1;36m1\u001b[0m\u001b[1;33m\n",
       "\u001b[0m\u001b[1;36m72\u001b[0m      \u001b[1;36m0\u001b[0m\u001b[1;33m\n",
       "\u001b[0m\u001b[1;36m73\u001b[0m      \u001b[1;36m0\u001b[0m\u001b[1;33m\n",
       "\u001b[0m\u001b[1;36m75\u001b[0m      \u001b[1;36m0\u001b[0m\u001b[1;33m\n",
       "\u001b[0m\u001b[1;36m75\u001b[0m      \u001b[1;36m2\u001b[0m\u001b[1;33m\n",
       "\u001b[0m\u001b[1;36m76\u001b[0m      \u001b[1;36m0\u001b[0m\u001b[1;33m\n",
       "\u001b[0m\u001b[1;36m76\u001b[0m      \u001b[1;36m0\u001b[0m\u001b[1;33m\n",
       "\u001b[0m\u001b[1;36m78\u001b[0m      \u001b[1;36m0\u001b[0m\u001b[1;33m\n",
       "\u001b[0m\u001b[1;36m79\u001b[0m      \u001b[1;36m0\u001b[0m\u001b[1;33m\n",
       "\u001b[0m\u001b[1;36m80\u001b[0m      \u001b[1;36m0\u001b[0m\u001b[1;33m\n",
       "\u001b[0m\u001b[1;36m81\u001b[0m      \u001b[1;36m0\u001b[0m\u001b[1;33m\u001b[0m\u001b[1;33m\u001b[0m\u001b[0m\n"
      ]
     },
     "metadata": {},
     "output_type": "display_data"
    }
   ],
   "source": [
    "%pycat ../data/Challenger.txt "
   ]
  },
  {
   "cell_type": "markdown",
   "metadata": {},
   "source": [
    "Es posible graficarlos para tener una idea general de estos."
   ]
  },
  {
   "cell_type": "code",
   "execution_count": 4,
   "metadata": {},
   "outputs": [],
   "source": [
    "import numpy as np\n",
    "import pandas as pd\n",
    "import altair as alt\n",
    "import matplotlib.pyplot as plt\n",
    "\n",
    "from pathlib import Path\n",
    "\n",
    "alt.themes.enable('opaque')  # Para quienes utilizan temas oscuros en Jupyter Lab/Notebook\n",
    "\n",
    "%matplotlib inline"
   ]
  },
  {
   "cell_type": "code",
   "execution_count": 6,
   "metadata": {},
   "outputs": [
    {
     "data": {
      "text/html": [
       "<div>\n",
       "<style scoped>\n",
       "    .dataframe tbody tr th:only-of-type {\n",
       "        vertical-align: middle;\n",
       "    }\n",
       "\n",
       "    .dataframe tbody tr th {\n",
       "        vertical-align: top;\n",
       "    }\n",
       "\n",
       "    .dataframe thead th {\n",
       "        text-align: right;\n",
       "    }\n",
       "</style>\n",
       "<table border=\"1\" class=\"dataframe\">\n",
       "  <thead>\n",
       "    <tr style=\"text-align: right;\">\n",
       "      <th></th>\n",
       "      <th>temp_f</th>\n",
       "      <th>nm_bad_rings</th>\n",
       "    </tr>\n",
       "  </thead>\n",
       "  <tbody>\n",
       "    <tr>\n",
       "      <th>0</th>\n",
       "      <td>53</td>\n",
       "      <td>3</td>\n",
       "    </tr>\n",
       "    <tr>\n",
       "      <th>1</th>\n",
       "      <td>56</td>\n",
       "      <td>1</td>\n",
       "    </tr>\n",
       "    <tr>\n",
       "      <th>2</th>\n",
       "      <td>57</td>\n",
       "      <td>1</td>\n",
       "    </tr>\n",
       "    <tr>\n",
       "      <th>3</th>\n",
       "      <td>63</td>\n",
       "      <td>0</td>\n",
       "    </tr>\n",
       "    <tr>\n",
       "      <th>4</th>\n",
       "      <td>66</td>\n",
       "      <td>0</td>\n",
       "    </tr>\n",
       "  </tbody>\n",
       "</table>\n",
       "</div>"
      ],
      "text/plain": [
       "   temp_f  nm_bad_rings\n",
       "0      53             3\n",
       "1      56             1\n",
       "2      57             1\n",
       "3      63             0\n",
       "4      66             0"
      ]
     },
     "execution_count": 6,
     "metadata": {},
     "output_type": "execute_result"
    }
   ],
   "source": [
    "filepath = Path().resolve().parent / \"data\" / \"Challenger.txt\"\n",
    "challenger = pd.DataFrame(\n",
    "    np.loadtxt(filepath, skiprows=1).astype(np.int),\n",
    "    columns=[\"temp_f\", \"nm_bad_rings\"]\n",
    ")\n",
    "challenger.head()"
   ]
  },
  {
   "cell_type": "code",
   "execution_count": 7,
   "metadata": {},
   "outputs": [
    {
     "data": {
      "text/html": [
       "\n",
       "<div id=\"altair-viz-b78cf747253b47c9989b4bf6d4dcd170\"></div>\n",
       "<script type=\"text/javascript\">\n",
       "  (function(spec, embedOpt){\n",
       "    let outputDiv = document.currentScript.previousElementSibling;\n",
       "    if (outputDiv.id !== \"altair-viz-b78cf747253b47c9989b4bf6d4dcd170\") {\n",
       "      outputDiv = document.getElementById(\"altair-viz-b78cf747253b47c9989b4bf6d4dcd170\");\n",
       "    }\n",
       "    const paths = {\n",
       "      \"vega\": \"https://cdn.jsdelivr.net/npm//vega@5?noext\",\n",
       "      \"vega-lib\": \"https://cdn.jsdelivr.net/npm//vega-lib?noext\",\n",
       "      \"vega-lite\": \"https://cdn.jsdelivr.net/npm//vega-lite@4.8.1?noext\",\n",
       "      \"vega-embed\": \"https://cdn.jsdelivr.net/npm//vega-embed@6?noext\",\n",
       "    };\n",
       "\n",
       "    function loadScript(lib) {\n",
       "      return new Promise(function(resolve, reject) {\n",
       "        var s = document.createElement('script');\n",
       "        s.src = paths[lib];\n",
       "        s.async = true;\n",
       "        s.onload = () => resolve(paths[lib]);\n",
       "        s.onerror = () => reject(`Error loading script: ${paths[lib]}`);\n",
       "        document.getElementsByTagName(\"head\")[0].appendChild(s);\n",
       "      });\n",
       "    }\n",
       "\n",
       "    function showError(err) {\n",
       "      outputDiv.innerHTML = `<div class=\"error\" style=\"color:red;\">${err}</div>`;\n",
       "      throw err;\n",
       "    }\n",
       "\n",
       "    function displayChart(vegaEmbed) {\n",
       "      vegaEmbed(outputDiv, spec, embedOpt)\n",
       "        .catch(err => showError(`Javascript Error: ${err.message}<br>This usually means there's a typo in your chart specification. See the javascript console for the full traceback.`));\n",
       "    }\n",
       "\n",
       "    if(typeof define === \"function\" && define.amd) {\n",
       "      requirejs.config({paths});\n",
       "      require([\"vega-embed\"], displayChart, err => showError(`Error loading script: ${err.message}`));\n",
       "    } else if (typeof vegaEmbed === \"function\") {\n",
       "      displayChart(vegaEmbed);\n",
       "    } else {\n",
       "      loadScript(\"vega\")\n",
       "        .then(() => loadScript(\"vega-lite\"))\n",
       "        .then(() => loadScript(\"vega-embed\"))\n",
       "        .catch(showError)\n",
       "        .then(() => displayChart(vegaEmbed));\n",
       "    }\n",
       "  })({\"config\": {\"background\": \"white\", \"view\": {\"continuousWidth\": 400, \"continuousHeight\": 300}}, \"data\": {\"name\": \"data-c79cf2c25bd14165cc6f25652029fa9f\"}, \"mark\": {\"type\": \"circle\", \"size\": 100}, \"encoding\": {\"x\": {\"type\": \"quantitative\", \"field\": \"temp_f\", \"scale\": {\"zero\": false}, \"title\": \"Temperature [F]\"}, \"y\": {\"type\": \"quantitative\", \"field\": \"nm_bad_rings\", \"title\": \"# Bad Rings\"}}, \"height\": 400, \"title\": \"Cantidad de fallas vs temperatura en lanzamiento de Challenger\", \"width\": 600, \"$schema\": \"https://vega.github.io/schema/vega-lite/v4.8.1.json\", \"datasets\": {\"data-c79cf2c25bd14165cc6f25652029fa9f\": [{\"temp_f\": 53, \"nm_bad_rings\": 3}, {\"temp_f\": 56, \"nm_bad_rings\": 1}, {\"temp_f\": 57, \"nm_bad_rings\": 1}, {\"temp_f\": 63, \"nm_bad_rings\": 0}, {\"temp_f\": 66, \"nm_bad_rings\": 0}, {\"temp_f\": 67, \"nm_bad_rings\": 0}, {\"temp_f\": 67, \"nm_bad_rings\": 0}, {\"temp_f\": 67, \"nm_bad_rings\": 0}, {\"temp_f\": 68, \"nm_bad_rings\": 0}, {\"temp_f\": 69, \"nm_bad_rings\": 0}, {\"temp_f\": 70, \"nm_bad_rings\": 0}, {\"temp_f\": 70, \"nm_bad_rings\": 1}, {\"temp_f\": 70, \"nm_bad_rings\": 1}, {\"temp_f\": 70, \"nm_bad_rings\": 1}, {\"temp_f\": 72, \"nm_bad_rings\": 0}, {\"temp_f\": 73, \"nm_bad_rings\": 0}, {\"temp_f\": 75, \"nm_bad_rings\": 0}, {\"temp_f\": 75, \"nm_bad_rings\": 2}, {\"temp_f\": 76, \"nm_bad_rings\": 0}, {\"temp_f\": 76, \"nm_bad_rings\": 0}, {\"temp_f\": 78, \"nm_bad_rings\": 0}, {\"temp_f\": 79, \"nm_bad_rings\": 0}, {\"temp_f\": 80, \"nm_bad_rings\": 0}, {\"temp_f\": 81, \"nm_bad_rings\": 0}]}}, {\"mode\": \"vega-lite\"});\n",
       "</script>"
      ],
      "text/plain": [
       "alt.Chart(...)"
      ]
     },
     "execution_count": 7,
     "metadata": {},
     "output_type": "execute_result"
    }
   ],
   "source": [
    "alt.Chart(challenger).mark_circle(size=100).encode(\n",
    "    x=alt.X(\"temp_f\", scale=alt.Scale(zero=False), title=\"Temperature [F]\"),\n",
    "    y=alt.Y(\"nm_bad_rings\", title=\"# Bad Rings\")\n",
    ").properties(\n",
    "    title=\"Cantidad de fallas vs temperatura en lanzamiento de Challenger\",\n",
    "    width=600,\n",
    "    height=400\n",
    ")"
   ]
  },
  {
   "cell_type": "markdown",
   "metadata": {
    "slideshow": {
     "slide_type": "slide"
    }
   },
   "source": [
    "Nos gustaría saber en qué condiciones se produce accidente. No nos importa el número de fallas, sólo si existe falla o no."
   ]
  },
  {
   "cell_type": "code",
   "execution_count": 8,
   "metadata": {},
   "outputs": [
    {
     "data": {
      "text/html": [
       "<div>\n",
       "<style scoped>\n",
       "    .dataframe tbody tr th:only-of-type {\n",
       "        vertical-align: middle;\n",
       "    }\n",
       "\n",
       "    .dataframe tbody tr th {\n",
       "        vertical-align: top;\n",
       "    }\n",
       "\n",
       "    .dataframe thead th {\n",
       "        text-align: right;\n",
       "    }\n",
       "</style>\n",
       "<table border=\"1\" class=\"dataframe\">\n",
       "  <thead>\n",
       "    <tr style=\"text-align: right;\">\n",
       "      <th></th>\n",
       "      <th>temp_f</th>\n",
       "      <th>nm_bad_rings</th>\n",
       "      <th>temp_c</th>\n",
       "      <th>is_failure</th>\n",
       "      <th>ds_failure</th>\n",
       "    </tr>\n",
       "  </thead>\n",
       "  <tbody>\n",
       "    <tr>\n",
       "      <th>0</th>\n",
       "      <td>53</td>\n",
       "      <td>3</td>\n",
       "      <td>11.67</td>\n",
       "      <td>1</td>\n",
       "      <td>Falla</td>\n",
       "    </tr>\n",
       "    <tr>\n",
       "      <th>1</th>\n",
       "      <td>56</td>\n",
       "      <td>1</td>\n",
       "      <td>13.33</td>\n",
       "      <td>1</td>\n",
       "      <td>Falla</td>\n",
       "    </tr>\n",
       "    <tr>\n",
       "      <th>2</th>\n",
       "      <td>57</td>\n",
       "      <td>1</td>\n",
       "      <td>13.89</td>\n",
       "      <td>1</td>\n",
       "      <td>Falla</td>\n",
       "    </tr>\n",
       "    <tr>\n",
       "      <th>3</th>\n",
       "      <td>63</td>\n",
       "      <td>0</td>\n",
       "      <td>17.22</td>\n",
       "      <td>0</td>\n",
       "      <td>Éxito</td>\n",
       "    </tr>\n",
       "    <tr>\n",
       "      <th>4</th>\n",
       "      <td>66</td>\n",
       "      <td>0</td>\n",
       "      <td>18.89</td>\n",
       "      <td>0</td>\n",
       "      <td>Éxito</td>\n",
       "    </tr>\n",
       "  </tbody>\n",
       "</table>\n",
       "</div>"
      ],
      "text/plain": [
       "   temp_f  nm_bad_rings  temp_c  is_failure ds_failure\n",
       "0      53             3   11.67           1      Falla\n",
       "1      56             1   13.33           1      Falla\n",
       "2      57             1   13.89           1      Falla\n",
       "3      63             0   17.22           0      Éxito\n",
       "4      66             0   18.89           0      Éxito"
      ]
     },
     "execution_count": 8,
     "metadata": {},
     "output_type": "execute_result"
    }
   ],
   "source": [
    "# Un poco de procesamiento de datos\n",
    "challenger = challenger.assign(\n",
    "    temp_c=lambda x: ((x[\"temp_f\"] - 32.) / 1.8).round(2),\n",
    "    is_failure=lambda x: x[\"nm_bad_rings\"].ne(0).astype(np.int),\n",
    "    ds_failure=lambda x: x[\"is_failure\"].map({1: \"Falla\", 0:\"Éxito\"})\n",
    ")\n",
    "challenger.head()"
   ]
  },
  {
   "cell_type": "code",
   "execution_count": 9,
   "metadata": {},
   "outputs": [
    {
     "data": {
      "text/html": [
       "\n",
       "<div id=\"altair-viz-461a9437828042eab25c03a0b3b369fe\"></div>\n",
       "<script type=\"text/javascript\">\n",
       "  (function(spec, embedOpt){\n",
       "    let outputDiv = document.currentScript.previousElementSibling;\n",
       "    if (outputDiv.id !== \"altair-viz-461a9437828042eab25c03a0b3b369fe\") {\n",
       "      outputDiv = document.getElementById(\"altair-viz-461a9437828042eab25c03a0b3b369fe\");\n",
       "    }\n",
       "    const paths = {\n",
       "      \"vega\": \"https://cdn.jsdelivr.net/npm//vega@5?noext\",\n",
       "      \"vega-lib\": \"https://cdn.jsdelivr.net/npm//vega-lib?noext\",\n",
       "      \"vega-lite\": \"https://cdn.jsdelivr.net/npm//vega-lite@4.8.1?noext\",\n",
       "      \"vega-embed\": \"https://cdn.jsdelivr.net/npm//vega-embed@6?noext\",\n",
       "    };\n",
       "\n",
       "    function loadScript(lib) {\n",
       "      return new Promise(function(resolve, reject) {\n",
       "        var s = document.createElement('script');\n",
       "        s.src = paths[lib];\n",
       "        s.async = true;\n",
       "        s.onload = () => resolve(paths[lib]);\n",
       "        s.onerror = () => reject(`Error loading script: ${paths[lib]}`);\n",
       "        document.getElementsByTagName(\"head\")[0].appendChild(s);\n",
       "      });\n",
       "    }\n",
       "\n",
       "    function showError(err) {\n",
       "      outputDiv.innerHTML = `<div class=\"error\" style=\"color:red;\">${err}</div>`;\n",
       "      throw err;\n",
       "    }\n",
       "\n",
       "    function displayChart(vegaEmbed) {\n",
       "      vegaEmbed(outputDiv, spec, embedOpt)\n",
       "        .catch(err => showError(`Javascript Error: ${err.message}<br>This usually means there's a typo in your chart specification. See the javascript console for the full traceback.`));\n",
       "    }\n",
       "\n",
       "    if(typeof define === \"function\" && define.amd) {\n",
       "      requirejs.config({paths});\n",
       "      require([\"vega-embed\"], displayChart, err => showError(`Error loading script: ${err.message}`));\n",
       "    } else if (typeof vegaEmbed === \"function\") {\n",
       "      displayChart(vegaEmbed);\n",
       "    } else {\n",
       "      loadScript(\"vega\")\n",
       "        .then(() => loadScript(\"vega-lite\"))\n",
       "        .then(() => loadScript(\"vega-embed\"))\n",
       "        .catch(showError)\n",
       "        .then(() => displayChart(vegaEmbed));\n",
       "    }\n",
       "  })({\"config\": {\"background\": \"white\", \"view\": {\"continuousWidth\": 400, \"continuousHeight\": 300}}, \"data\": {\"name\": \"data-2fb7a229c8f7d9b13ce371da893c47d0\"}, \"mark\": {\"type\": \"circle\", \"size\": 100}, \"encoding\": {\"color\": {\"type\": \"nominal\", \"field\": \"ds_failure\"}, \"x\": {\"type\": \"quantitative\", \"field\": \"temp_c\", \"scale\": {\"zero\": false}, \"title\": \"Temperature [C]\"}, \"y\": {\"type\": \"quantitative\", \"field\": \"is_failure\", \"scale\": {\"padding\": 0.5}, \"title\": \"Success/Failure\"}}, \"height\": 400, \"title\": \"Exito o Falla en lanzamiento de Challenger\", \"width\": 600, \"$schema\": \"https://vega.github.io/schema/vega-lite/v4.8.1.json\", \"datasets\": {\"data-2fb7a229c8f7d9b13ce371da893c47d0\": [{\"temp_f\": 53, \"nm_bad_rings\": 3, \"temp_c\": 11.67, \"is_failure\": 1, \"ds_failure\": \"Falla\"}, {\"temp_f\": 56, \"nm_bad_rings\": 1, \"temp_c\": 13.33, \"is_failure\": 1, \"ds_failure\": \"Falla\"}, {\"temp_f\": 57, \"nm_bad_rings\": 1, \"temp_c\": 13.89, \"is_failure\": 1, \"ds_failure\": \"Falla\"}, {\"temp_f\": 63, \"nm_bad_rings\": 0, \"temp_c\": 17.22, \"is_failure\": 0, \"ds_failure\": \"\\u00c9xito\"}, {\"temp_f\": 66, \"nm_bad_rings\": 0, \"temp_c\": 18.89, \"is_failure\": 0, \"ds_failure\": \"\\u00c9xito\"}, {\"temp_f\": 67, \"nm_bad_rings\": 0, \"temp_c\": 19.44, \"is_failure\": 0, \"ds_failure\": \"\\u00c9xito\"}, {\"temp_f\": 67, \"nm_bad_rings\": 0, \"temp_c\": 19.44, \"is_failure\": 0, \"ds_failure\": \"\\u00c9xito\"}, {\"temp_f\": 67, \"nm_bad_rings\": 0, \"temp_c\": 19.44, \"is_failure\": 0, \"ds_failure\": \"\\u00c9xito\"}, {\"temp_f\": 68, \"nm_bad_rings\": 0, \"temp_c\": 20.0, \"is_failure\": 0, \"ds_failure\": \"\\u00c9xito\"}, {\"temp_f\": 69, \"nm_bad_rings\": 0, \"temp_c\": 20.56, \"is_failure\": 0, \"ds_failure\": \"\\u00c9xito\"}, {\"temp_f\": 70, \"nm_bad_rings\": 0, \"temp_c\": 21.11, \"is_failure\": 0, \"ds_failure\": \"\\u00c9xito\"}, {\"temp_f\": 70, \"nm_bad_rings\": 1, \"temp_c\": 21.11, \"is_failure\": 1, \"ds_failure\": \"Falla\"}, {\"temp_f\": 70, \"nm_bad_rings\": 1, \"temp_c\": 21.11, \"is_failure\": 1, \"ds_failure\": \"Falla\"}, {\"temp_f\": 70, \"nm_bad_rings\": 1, \"temp_c\": 21.11, \"is_failure\": 1, \"ds_failure\": \"Falla\"}, {\"temp_f\": 72, \"nm_bad_rings\": 0, \"temp_c\": 22.22, \"is_failure\": 0, \"ds_failure\": \"\\u00c9xito\"}, {\"temp_f\": 73, \"nm_bad_rings\": 0, \"temp_c\": 22.78, \"is_failure\": 0, \"ds_failure\": \"\\u00c9xito\"}, {\"temp_f\": 75, \"nm_bad_rings\": 0, \"temp_c\": 23.89, \"is_failure\": 0, \"ds_failure\": \"\\u00c9xito\"}, {\"temp_f\": 75, \"nm_bad_rings\": 2, \"temp_c\": 23.89, \"is_failure\": 1, \"ds_failure\": \"Falla\"}, {\"temp_f\": 76, \"nm_bad_rings\": 0, \"temp_c\": 24.44, \"is_failure\": 0, \"ds_failure\": \"\\u00c9xito\"}, {\"temp_f\": 76, \"nm_bad_rings\": 0, \"temp_c\": 24.44, \"is_failure\": 0, \"ds_failure\": \"\\u00c9xito\"}, {\"temp_f\": 78, \"nm_bad_rings\": 0, \"temp_c\": 25.56, \"is_failure\": 0, \"ds_failure\": \"\\u00c9xito\"}, {\"temp_f\": 79, \"nm_bad_rings\": 0, \"temp_c\": 26.11, \"is_failure\": 0, \"ds_failure\": \"\\u00c9xito\"}, {\"temp_f\": 80, \"nm_bad_rings\": 0, \"temp_c\": 26.67, \"is_failure\": 0, \"ds_failure\": \"\\u00c9xito\"}, {\"temp_f\": 81, \"nm_bad_rings\": 0, \"temp_c\": 27.22, \"is_failure\": 0, \"ds_failure\": \"\\u00c9xito\"}]}}, {\"mode\": \"vega-lite\"});\n",
       "</script>"
      ],
      "text/plain": [
       "alt.Chart(...)"
      ]
     },
     "execution_count": 9,
     "metadata": {},
     "output_type": "execute_result"
    }
   ],
   "source": [
    "failure_chart = alt.Chart(challenger).mark_circle(size=100).encode(\n",
    "    x=alt.X(\"temp_c:Q\", scale=alt.Scale(zero=False), title=\"Temperature [C]\"),\n",
    "    y=alt.Y(\"is_failure:Q\", scale=alt.Scale(padding=0.5), title=\"Success/Failure\"),\n",
    "    color=\"ds_failure:N\"\n",
    ").properties(\n",
    "    title=\"Exito o Falla en lanzamiento de Challenger\",\n",
    "    width=600,\n",
    "    height=400\n",
    ")\n",
    "\n",
    "failure_chart"
   ]
  },
  {
   "cell_type": "markdown",
   "metadata": {
    "slideshow": {
     "slide_type": "slide"
    }
   },
   "source": [
    "## Regresión Logística"
   ]
  },
  {
   "cell_type": "markdown",
   "metadata": {},
   "source": [
    "Recordemos que la **Regresión Lineal** considera un modelo de la siguiente forma:\n",
    "\n",
    "$$ Y \\approx X \\theta $$\n",
    "\n",
    "donde \n",
    "$$\n",
    "Y = \\begin{bmatrix}y^{(1)} \\\\ y^{(2)} \\\\ \\vdots \\\\ y^{(m)}\\end{bmatrix}\n",
    "\\qquad , \\qquad\n",
    "X = \\begin{bmatrix} \n",
    "1 & x^{(1)}_1 & \\dots & x^{(1)}_n \\\\ \n",
    "1 & x^{(2)}_1 & \\dots & x^{(2)}_n \\\\\n",
    "\\vdots & \\vdots & & \\vdots \\\\\n",
    "1 & x^{(m)}_1 & \\dots & x^{(m)}_n\n",
    "\\end{bmatrix}\n",
    "\\qquad y \\qquad\n",
    "\\theta = \\begin{bmatrix}\\theta_1 \\\\ \\theta_2 \\\\ \\vdots \\\\ \\theta_m\\end{bmatrix}\n",
    "$$\n",
    "\n",
    "y que se  entrenar una función lineal\n",
    "\n",
    "$$h_{\\theta}(x) = \\theta_0 + \\theta_1 x_1 + ... + \\theta_n x_n$$\n",
    "\n",
    "deforma que se minimice\n",
    "\n",
    "$$J(\\theta) = \\frac{1}{2} \\sum_{i=1}^{m} \\left( h_{\\theta}(x^{(i)}) - y^{(i)}\\right)^2$$\n",
    "\n",
    "\n",
    "La **Regresión Logística** busca entrenar la función \n",
    "\n",
    "$$h_{\\theta}(x) = \\frac{1}{1 + e^{-(\\theta_0 + \\theta_1 x_1 + ... + \\theta_n x_n)}}$$\n",
    "\n",
    "de forma que se minimice\n",
    "\n",
    "$$J(\\theta) = \\frac{1}{2} \\sum_{i=1}^{m} \\left( h_{\\theta}(x^{(i)}) - y^{(i)}\\right)^2$$\n",
    "\n",
    "Es decir, el objetivo es encontrar un _\"buen\"_ vector $\\theta$ de modo que\n",
    "\n",
    "$$Y \\approx g(X \\theta)$$\n",
    "\n",
    "en donde $g(z)$ es la función sigmoide (_sigmoid function_),\n",
    "\n",
    "$$g(z) = \\frac{1}{1+e^{-z}}$$"
   ]
  },
  {
   "cell_type": "markdown",
   "metadata": {},
   "source": [
    "### Función Sigmoide"
   ]
  },
  {
   "cell_type": "code",
   "execution_count": 10,
   "metadata": {},
   "outputs": [],
   "source": [
    "def sigmoid(z):\n",
    "    return 1 / (1 + np.exp(-z))"
   ]
  },
  {
   "cell_type": "code",
   "execution_count": 11,
   "metadata": {},
   "outputs": [
    {
     "data": {
      "text/html": [
       "<div>\n",
       "<style scoped>\n",
       "    .dataframe tbody tr th:only-of-type {\n",
       "        vertical-align: middle;\n",
       "    }\n",
       "\n",
       "    .dataframe tbody tr th {\n",
       "        vertical-align: top;\n",
       "    }\n",
       "\n",
       "    .dataframe thead th {\n",
       "        text-align: right;\n",
       "    }\n",
       "</style>\n",
       "<table border=\"1\" class=\"dataframe\">\n",
       "  <thead>\n",
       "    <tr style=\"text-align: right;\">\n",
       "      <th></th>\n",
       "      <th>z</th>\n",
       "      <th>sigmoid_function</th>\n",
       "      <th>value</th>\n",
       "    </tr>\n",
       "  </thead>\n",
       "  <tbody>\n",
       "    <tr>\n",
       "      <th>0</th>\n",
       "      <td>-5.00000</td>\n",
       "      <td>sigmoid(z)</td>\n",
       "      <td>0.006693</td>\n",
       "    </tr>\n",
       "    <tr>\n",
       "      <th>1</th>\n",
       "      <td>-4.89899</td>\n",
       "      <td>sigmoid(z)</td>\n",
       "      <td>0.007399</td>\n",
       "    </tr>\n",
       "    <tr>\n",
       "      <th>2</th>\n",
       "      <td>-4.79798</td>\n",
       "      <td>sigmoid(z)</td>\n",
       "      <td>0.008179</td>\n",
       "    </tr>\n",
       "    <tr>\n",
       "      <th>3</th>\n",
       "      <td>-4.69697</td>\n",
       "      <td>sigmoid(z)</td>\n",
       "      <td>0.009040</td>\n",
       "    </tr>\n",
       "    <tr>\n",
       "      <th>4</th>\n",
       "      <td>-4.59596</td>\n",
       "      <td>sigmoid(z)</td>\n",
       "      <td>0.009992</td>\n",
       "    </tr>\n",
       "  </tbody>\n",
       "</table>\n",
       "</div>"
      ],
      "text/plain": [
       "         z sigmoid_function     value\n",
       "0 -5.00000       sigmoid(z)  0.006693\n",
       "1 -4.89899       sigmoid(z)  0.007399\n",
       "2 -4.79798       sigmoid(z)  0.008179\n",
       "3 -4.69697       sigmoid(z)  0.009040\n",
       "4 -4.59596       sigmoid(z)  0.009992"
      ]
     },
     "execution_count": 11,
     "metadata": {},
     "output_type": "execute_result"
    }
   ],
   "source": [
    "z = np.linspace(-5,5,100)\n",
    "sigmoid_df_tmp = pd.DataFrame(\n",
    "    {\n",
    "        \"z\": z,\n",
    "        \"sigmoid(z)\": sigmoid(z),\n",
    "        \"sigmoid(z*2)\": sigmoid(z * 2),\n",
    "        \"sigmoid(z-2)\": sigmoid(z - 2),\n",
    "    }\n",
    ")\n",
    "sigmoid_df = pd.melt(\n",
    "    sigmoid_df_tmp,\n",
    "    id_vars=\"z\",\n",
    "    value_vars=[\"sigmoid(z)\", \"sigmoid(z*2)\", \"sigmoid(z-2)\"],\n",
    "    var_name=\"sigmoid_function\",\n",
    "    value_name=\"value\"\n",
    ")\n",
    "sigmoid_df.head()"
   ]
  },
  {
   "cell_type": "code",
   "execution_count": 12,
   "metadata": {},
   "outputs": [
    {
     "data": {
      "text/html": [
       "\n",
       "<div id=\"altair-viz-d2740d52ea0646a99b22a362eb7e78a6\"></div>\n",
       "<script type=\"text/javascript\">\n",
       "  (function(spec, embedOpt){\n",
       "    let outputDiv = document.currentScript.previousElementSibling;\n",
       "    if (outputDiv.id !== \"altair-viz-d2740d52ea0646a99b22a362eb7e78a6\") {\n",
       "      outputDiv = document.getElementById(\"altair-viz-d2740d52ea0646a99b22a362eb7e78a6\");\n",
       "    }\n",
       "    const paths = {\n",
       "      \"vega\": \"https://cdn.jsdelivr.net/npm//vega@5?noext\",\n",
       "      \"vega-lib\": \"https://cdn.jsdelivr.net/npm//vega-lib?noext\",\n",
       "      \"vega-lite\": \"https://cdn.jsdelivr.net/npm//vega-lite@4.8.1?noext\",\n",
       "      \"vega-embed\": \"https://cdn.jsdelivr.net/npm//vega-embed@6?noext\",\n",
       "    };\n",
       "\n",
       "    function loadScript(lib) {\n",
       "      return new Promise(function(resolve, reject) {\n",
       "        var s = document.createElement('script');\n",
       "        s.src = paths[lib];\n",
       "        s.async = true;\n",
       "        s.onload = () => resolve(paths[lib]);\n",
       "        s.onerror = () => reject(`Error loading script: ${paths[lib]}`);\n",
       "        document.getElementsByTagName(\"head\")[0].appendChild(s);\n",
       "      });\n",
       "    }\n",
       "\n",
       "    function showError(err) {\n",
       "      outputDiv.innerHTML = `<div class=\"error\" style=\"color:red;\">${err}</div>`;\n",
       "      throw err;\n",
       "    }\n",
       "\n",
       "    function displayChart(vegaEmbed) {\n",
       "      vegaEmbed(outputDiv, spec, embedOpt)\n",
       "        .catch(err => showError(`Javascript Error: ${err.message}<br>This usually means there's a typo in your chart specification. See the javascript console for the full traceback.`));\n",
       "    }\n",
       "\n",
       "    if(typeof define === \"function\" && define.amd) {\n",
       "      requirejs.config({paths});\n",
       "      require([\"vega-embed\"], displayChart, err => showError(`Error loading script: ${err.message}`));\n",
       "    } else if (typeof vegaEmbed === \"function\") {\n",
       "      displayChart(vegaEmbed);\n",
       "    } else {\n",
       "      loadScript(\"vega\")\n",
       "        .then(() => loadScript(\"vega-lite\"))\n",
       "        .then(() => loadScript(\"vega-embed\"))\n",
       "        .catch(showError)\n",
       "        .then(() => displayChart(vegaEmbed));\n",
       "    }\n",
       "  })({\"config\": {\"background\": \"white\", \"view\": {\"continuousWidth\": 400, \"continuousHeight\": 300}}, \"data\": {\"name\": \"data-2649995b7caa889141db384fa65b2ea5\"}, \"mark\": \"line\", \"encoding\": {\"color\": {\"type\": \"nominal\", \"field\": \"sigmoid_function\"}, \"x\": {\"type\": \"quantitative\", \"field\": \"z\"}, \"y\": {\"type\": \"quantitative\", \"field\": \"value\"}}, \"height\": 400, \"title\": \"Sigmoid functions\", \"width\": 600, \"$schema\": \"https://vega.github.io/schema/vega-lite/v4.8.1.json\", \"datasets\": {\"data-2649995b7caa889141db384fa65b2ea5\": [{\"z\": -5.0, \"sigmoid_function\": \"sigmoid(z)\", \"value\": 0.0066928509242848554}, {\"z\": -4.898989898989899, \"sigmoid_function\": \"sigmoid(z)\", \"value\": 0.007398956049719674}, {\"z\": -4.797979797979798, \"sigmoid_function\": \"sigmoid(z)\", \"value\": 0.008178942856282161}, {\"z\": -4.696969696969697, \"sigmoid_function\": \"sigmoid(z)\", \"value\": 0.009040405808933128}, {\"z\": -4.595959595959596, \"sigmoid_function\": \"sigmoid(z)\", \"value\": 0.009991689936208048}, {\"z\": -4.494949494949495, \"sigmoid_function\": \"sigmoid(z)\", \"value\": 0.011041958337494755}, {\"z\": -4.393939393939394, \"sigmoid_function\": \"sigmoid(z)\", \"value\": 0.012201264260636085}, {\"z\": -4.292929292929293, \"sigmoid_function\": \"sigmoid(z)\", \"value\": 0.013480627700845831}, {\"z\": -4.191919191919192, \"sigmoid_function\": \"sigmoid(z)\", \"value\": 0.01489211636326034}, {\"z\": -4.090909090909091, \"sigmoid_function\": \"sigmoid(z)\", \"value\": 0.016448930693417962}, {\"z\": -3.9898989898989896, \"sigmoid_function\": \"sigmoid(z)\", \"value\": 0.01816549250715569}, {\"z\": -3.888888888888889, \"sigmoid_function\": \"sigmoid(z)\", \"value\": 0.02005753653785041}, {\"z\": -3.787878787878788, \"sigmoid_function\": \"sigmoid(z)\", \"value\": 0.022142203958132125}, {\"z\": -3.686868686868687, \"sigmoid_function\": \"sigmoid(z)\", \"value\": 0.024438136618332742}, {\"z\": -3.5858585858585856, \"sigmoid_function\": \"sigmoid(z)\", \"value\": 0.026965570368090237}, {\"z\": -3.484848484848485, \"sigmoid_function\": \"sigmoid(z)\", \"value\": 0.029746425384074206}, {\"z\": -3.383838383838384, \"sigmoid_function\": \"sigmoid(z)\", \"value\": 0.03280439090994282}, {\"z\": -3.282828282828283, \"sigmoid_function\": \"sigmoid(z)\", \"value\": 0.03616500122018774}, {\"z\": -3.1818181818181817, \"sigmoid_function\": \"sigmoid(z)\", \"value\": 0.039855698945889695}, {\"z\": -3.080808080808081, \"sigmoid_function\": \"sigmoid(z)\", \"value\": 0.043905881149939006}, {\"z\": -2.9797979797979797, \"sigmoid_function\": \"sigmoid(z)\", \"value\": 0.04834692271989779}, {\"z\": -2.878787878787879, \"sigmoid_function\": \"sigmoid(z)\", \"value\": 0.05321217077391106}, {\"z\": -2.7777777777777777, \"sigmoid_function\": \"sigmoid(z)\", \"value\": 0.0585369028743679}, {\"z\": -2.676767676767677, \"sigmoid_function\": \"sigmoid(z)\", \"value\": 0.06435824095339865}, {\"z\": -2.5757575757575757, \"sigmoid_function\": \"sigmoid(z)\", \"value\": 0.07071501202714367}, {\"z\": -2.474747474747475, \"sigmoid_function\": \"sigmoid(z)\", \"value\": 0.07764754608342478}, {\"z\": -2.3737373737373737, \"sigmoid_function\": \"sigmoid(z)\", \"value\": 0.08519740106158838}, {\"z\": -2.272727272727273, \"sigmoid_function\": \"sigmoid(z)\", \"value\": 0.09340700471683215}, {\"z\": -2.1717171717171717, \"sigmoid_function\": \"sigmoid(z)\", \"value\": 0.10231920350807018}, {\"z\": -2.070707070707071, \"sigmoid_function\": \"sigmoid(z)\", \"value\": 0.11197670961974694}, {\"z\": -1.9696969696969697, \"sigmoid_function\": \"sigmoid(z)\", \"value\": 0.12242143898621305}, {\"z\": -1.868686868686869, \"sigmoid_function\": \"sigmoid(z)\", \"value\": 0.13369373589385355}, {\"z\": -1.7676767676767677, \"sigmoid_function\": \"sigmoid(z)\", \"value\": 0.14583148353491507}, {\"z\": -1.6666666666666665, \"sigmoid_function\": \"sigmoid(z)\", \"value\": 0.15886910488091516}, {\"z\": -1.5656565656565657, \"sigmoid_function\": \"sigmoid(z)\", \"value\": 0.17283646446618905}, {\"z\": -1.4646464646464645, \"sigmoid_function\": \"sigmoid(z)\", \"value\": 0.18775768905482057}, {\"z\": -1.3636363636363638, \"sigmoid_function\": \"sigmoid(z)\", \"value\": 0.20364993350221924}, {\"z\": -1.2626262626262625, \"sigmoid_function\": \"sigmoid(z)\", \"value\": 0.2205221270455694}, {\"z\": -1.1616161616161618, \"sigmoid_function\": \"sigmoid(z)\", \"value\": 0.23837374421039675}, {\"z\": -1.0606060606060606, \"sigmoid_function\": \"sigmoid(z)\", \"value\": 0.2571936527643822}, {\"z\": -0.9595959595959593, \"sigmoid_function\": \"sigmoid(z)\", \"value\": 0.27695909778815886}, {\"z\": -0.858585858585859, \"sigmoid_function\": \"sigmoid(z)\", \"value\": 0.29763488497442225}, {\"z\": -0.7575757575757578, \"sigmoid_function\": \"sigmoid(z)\", \"value\": 0.31917282672147035}, {\"z\": -0.6565656565656566, \"sigmoid_function\": \"sigmoid(z)\", \"value\": 0.34151151059747936}, {\"z\": -0.5555555555555554, \"sigmoid_function\": \"sigmoid(z)\", \"value\": 0.3645764407416393}, {\"z\": -0.45454545454545503, \"sigmoid_function\": \"sigmoid(z)\", \"value\": 0.3882805885928385}, {\"z\": -0.3535353535353538, \"sigmoid_function\": \"sigmoid(z)\", \"value\": 0.4125253704018182}, {\"z\": -0.2525252525252526, \"sigmoid_function\": \"sigmoid(z)\", \"value\": 0.43720204630561754}, {\"z\": -0.15151515151515138, \"sigmoid_function\": \"sigmoid(z)\", \"value\": 0.462193510926849}, {\"z\": -0.050505050505050164, \"sigmoid_function\": \"sigmoid(z)\", \"value\": 0.4873764205699251}, {\"z\": 0.050505050505050164, \"sigmoid_function\": \"sigmoid(z)\", \"value\": 0.512623579430075}, {\"z\": 0.15151515151515138, \"sigmoid_function\": \"sigmoid(z)\", \"value\": 0.537806489073151}, {\"z\": 0.2525252525252526, \"sigmoid_function\": \"sigmoid(z)\", \"value\": 0.5627979536943825}, {\"z\": 0.3535353535353538, \"sigmoid_function\": \"sigmoid(z)\", \"value\": 0.5874746295981818}, {\"z\": 0.45454545454545414, \"sigmoid_function\": \"sigmoid(z)\", \"value\": 0.6117194114071612}, {\"z\": 0.5555555555555554, \"sigmoid_function\": \"sigmoid(z)\", \"value\": 0.6354235592583607}, {\"z\": 0.6565656565656566, \"sigmoid_function\": \"sigmoid(z)\", \"value\": 0.6584884894025207}, {\"z\": 0.7575757575757578, \"sigmoid_function\": \"sigmoid(z)\", \"value\": 0.6808271732785297}, {\"z\": 0.8585858585858581, \"sigmoid_function\": \"sigmoid(z)\", \"value\": 0.7023651150255775}, {\"z\": 0.9595959595959593, \"sigmoid_function\": \"sigmoid(z)\", \"value\": 0.7230409022118411}, {\"z\": 1.0606060606060606, \"sigmoid_function\": \"sigmoid(z)\", \"value\": 0.7428063472356178}, {\"z\": 1.1616161616161618, \"sigmoid_function\": \"sigmoid(z)\", \"value\": 0.7616262557896033}, {\"z\": 1.262626262626262, \"sigmoid_function\": \"sigmoid(z)\", \"value\": 0.7794778729544305}, {\"z\": 1.3636363636363633, \"sigmoid_function\": \"sigmoid(z)\", \"value\": 0.7963500664977807}, {\"z\": 1.4646464646464645, \"sigmoid_function\": \"sigmoid(z)\", \"value\": 0.8122423109451795}, {\"z\": 1.5656565656565657, \"sigmoid_function\": \"sigmoid(z)\", \"value\": 0.8271635355338108}, {\"z\": 1.666666666666667, \"sigmoid_function\": \"sigmoid(z)\", \"value\": 0.8411308951190849}, {\"z\": 1.7676767676767673, \"sigmoid_function\": \"sigmoid(z)\", \"value\": 0.854168516465085}, {\"z\": 1.8686868686868685, \"sigmoid_function\": \"sigmoid(z)\", \"value\": 0.8663062641061464}, {\"z\": 1.9696969696969697, \"sigmoid_function\": \"sigmoid(z)\", \"value\": 0.877578561013787}, {\"z\": 2.070707070707071, \"sigmoid_function\": \"sigmoid(z)\", \"value\": 0.888023290380253}, {\"z\": 2.1717171717171713, \"sigmoid_function\": \"sigmoid(z)\", \"value\": 0.8976807964919297}, {\"z\": 2.2727272727272725, \"sigmoid_function\": \"sigmoid(z)\", \"value\": 0.9065929952831678}, {\"z\": 2.3737373737373737, \"sigmoid_function\": \"sigmoid(z)\", \"value\": 0.9148025989384116}, {\"z\": 2.474747474747475, \"sigmoid_function\": \"sigmoid(z)\", \"value\": 0.9223524539165752}, {\"z\": 2.5757575757575752, \"sigmoid_function\": \"sigmoid(z)\", \"value\": 0.9292849879728562}, {\"z\": 2.6767676767676765, \"sigmoid_function\": \"sigmoid(z)\", \"value\": 0.9356417590466013}, {\"z\": 2.7777777777777777, \"sigmoid_function\": \"sigmoid(z)\", \"value\": 0.941463097125632}, {\"z\": 2.878787878787879, \"sigmoid_function\": \"sigmoid(z)\", \"value\": 0.946787829226089}, {\"z\": 2.9797979797979792, \"sigmoid_function\": \"sigmoid(z)\", \"value\": 0.9516530772801021}, {\"z\": 3.0808080808080813, \"sigmoid_function\": \"sigmoid(z)\", \"value\": 0.9560941188500611}, {\"z\": 3.1818181818181817, \"sigmoid_function\": \"sigmoid(z)\", \"value\": 0.9601443010541102}, {\"z\": 3.282828282828282, \"sigmoid_function\": \"sigmoid(z)\", \"value\": 0.9638349987798124}, {\"z\": 3.383838383838384, \"sigmoid_function\": \"sigmoid(z)\", \"value\": 0.9671956090900572}, {\"z\": 3.4848484848484844, \"sigmoid_function\": \"sigmoid(z)\", \"value\": 0.9702535746159258}, {\"z\": 3.5858585858585865, \"sigmoid_function\": \"sigmoid(z)\", \"value\": 0.9730344296319098}, {\"z\": 3.686868686868687, \"sigmoid_function\": \"sigmoid(z)\", \"value\": 0.9755618633816672}, {\"z\": 3.787878787878787, \"sigmoid_function\": \"sigmoid(z)\", \"value\": 0.977857796041868}, {\"z\": 3.8888888888888893, \"sigmoid_function\": \"sigmoid(z)\", \"value\": 0.9799424634621495}, {\"z\": 3.9898989898989896, \"sigmoid_function\": \"sigmoid(z)\", \"value\": 0.9818345074928443}, {\"z\": 4.09090909090909, \"sigmoid_function\": \"sigmoid(z)\", \"value\": 0.9835510693065821}, {\"z\": 4.191919191919192, \"sigmoid_function\": \"sigmoid(z)\", \"value\": 0.9851078836367397}, {\"z\": 4.292929292929292, \"sigmoid_function\": \"sigmoid(z)\", \"value\": 0.9865193722991542}, {\"z\": 4.3939393939393945, \"sigmoid_function\": \"sigmoid(z)\", \"value\": 0.9877987357393639}, {\"z\": 4.494949494949495, \"sigmoid_function\": \"sigmoid(z)\", \"value\": 0.9889580416625052}, {\"z\": 4.595959595959595, \"sigmoid_function\": \"sigmoid(z)\", \"value\": 0.990008310063792}, {\"z\": 4.696969696969697, \"sigmoid_function\": \"sigmoid(z)\", \"value\": 0.9909595941910669}, {\"z\": 4.797979797979798, \"sigmoid_function\": \"sigmoid(z)\", \"value\": 0.9918210571437178}, {\"z\": 4.8989898989899, \"sigmoid_function\": \"sigmoid(z)\", \"value\": 0.9926010439502804}, {\"z\": 5.0, \"sigmoid_function\": \"sigmoid(z)\", \"value\": 0.9933071490757153}, {\"z\": -5.0, \"sigmoid_function\": \"sigmoid(z*2)\", \"value\": 4.5397868702434395e-05}, {\"z\": -4.898989898989899, \"sigmoid_function\": \"sigmoid(z*2)\", \"value\": 5.556064893935847e-05}, {\"z\": -4.797979797979798, \"sigmoid_function\": \"sigmoid(z*2)\", \"value\": 6.7998317442358e-05}, {\"z\": -4.696969696969697, \"sigmoid_function\": \"sigmoid(z*2)\", \"value\": 8.322001972209245e-05}, {\"z\": -4.595959595959596, \"sigmoid_function\": \"sigmoid(z*2)\", \"value\": 0.00010184881542721271}, {\"z\": -4.494949494949495, \"sigmoid_function\": \"sigmoid(z*2)\", \"value\": 0.00012464714594414533}, {\"z\": -4.393939393939394, \"sigmoid_function\": \"sigmoid(z*2)\", \"value\": 0.00015254798624649647}, {\"z\": -4.292929292929293, \"sigmoid_function\": \"sigmoid(z*2)\", \"value\": 0.00018669294496130814}, {\"z\": -4.191919191919192, \"sigmoid_function\": \"sigmoid(z*2)\", \"value\": 0.00022847885532128418}, {\"z\": -4.090909090909091, \"sigmoid_function\": \"sigmoid(z*2)\", \"value\": 0.0002796147386491923}, {\"z\": -3.9898989898989896, \"sigmoid_function\": \"sigmoid(z*2)\", \"value\": 0.00034219143371662803}, {\"z\": -3.888888888888889, \"sigmoid_function\": \"sigmoid(z*2)\", \"value\": 0.0004187666844443735}, {\"z\": -3.787878787878788, \"sigmoid_function\": \"sigmoid(z*2)\", \"value\": 0.0005124690821944584}, {\"z\": -3.686868686868687, \"sigmoid_function\": \"sigmoid(z*2)\", \"value\": 0.0006271249872756847}, {\"z\": -3.5858585858585856, \"sigmoid_function\": \"sigmoid(z*2)\", \"value\": 0.000767413429918266}, {\"z\": -3.484848484848485, \"sigmoid_function\": \"sigmoid(z*2)\", \"value\": 0.0009390550390618305}, {\"z\": -3.383838383838384, \"sigmoid_function\": \"sigmoid(z*2)\", \"value\": 0.001149042294880872}, {\"z\": -3.282828282828283, \"sigmoid_function\": \"sigmoid(z*2)\", \"value\": 0.0014059198755086322}, {\"z\": -3.1818181818181817, \"sigmoid_function\": \"sigmoid(z*2)\", \"value\": 0.0017201255952192596}, {\"z\": -3.080808080808081, \"sigmoid_function\": \"sigmoid(z*2)\", \"value\": 0.0021044044291184333}, {\"z\": -2.9797979797979797, \"sigmoid_function\": \"sigmoid(z*2)\", \"value\": 0.0025743103931375314}, {\"z\": -2.878787878787879, \"sigmoid_function\": \"sigmoid(z*2)\", \"value\": 0.0031488135776798513}, {\"z\": -2.7777777777777777, \"sigmoid_function\": \"sigmoid(z*2)\", \"value\": 0.003851032355930255}, {\"z\": -2.676767676767677, \"sigmoid_function\": \"sigmoid(z*2)\", \"value\": 0.004709113572114011}, {\"z\": -2.5757575757575757, \"sigmoid_function\": \"sigmoid(z*2)\", \"value\": 0.0057572861219081835}, {\"z\": -2.474747474747475, \"sigmoid_function\": \"sigmoid(z*2)\", \"value\": 0.007037115364564376}, {\"z\": -2.3737373737373737, \"sigmoid_function\": \"sigmoid(z*2)\", \"value\": 0.008598986610189428}, {\"z\": -2.272727272727273, \"sigmoid_function\": \"sigmoid(z*2)\", \"value\": 0.010503844513285416}, {\"z\": -2.1717171717171717, \"sigmoid_function\": \"sigmoid(z*2)\", \"value\": 0.012825210092764685}, {\"z\": -2.070707070707071, \"sigmoid_function\": \"sigmoid(z*2)\", \"value\": 0.015651486142818367}, {\"z\": -1.9696969696969697, \"sigmoid_function\": \"sigmoid(z*2)\", \"value\": 0.019088541989923387}, {\"z\": -1.868686868686869, \"sigmoid_function\": \"sigmoid(z*2)\", \"value\": 0.0232625358308855}, {\"z\": -1.7676767676767677, \"sigmoid_function\": \"sigmoid(z*2)\", \"value\": 0.0283228820443032}, {\"z\": -1.6666666666666665, \"sigmoid_function\": \"sigmoid(z*2)\", \"value\": 0.03444519566621118}, {\"z\": -1.5656565656565657, \"sigmoid_function\": \"sigmoid(z*2)\", \"value\": 0.04183394000551971}, {\"z\": -1.4646464646464645, \"sigmoid_function\": \"sigmoid(z*2)\", \"value\": 0.05072436056205437}, {\"z\": -1.3636363636363638, \"sigmoid_function\": \"sigmoid(z*2)\", \"value\": 0.06138310740349217}, {\"z\": -1.2626262626262625, \"sigmoid_function\": \"sigmoid(z*2)\", \"value\": 0.07410673632504733}, {\"z\": -1.1616161616161618, \"sigmoid_function\": \"sigmoid(z*2)\", \"value\": 0.08921706025119844}, {\"z\": -1.0606060606060606, \"sigmoid_function\": \"sigmoid(z*2)\", \"value\": 0.10705214621417715}, {\"z\": -0.9595959595959593, \"sigmoid_function\": \"sigmoid(z*2)\", \"value\": 0.12795170492445268}, {\"z\": -0.858585858585859, \"sigmoid_function\": \"sigmoid(z*2)\", \"value\": 0.15223582314389053}, {\"z\": -0.7575757575757578, \"sigmoid_function\": \"sigmoid(z*2)\", \"value\": 0.18017659335766972}, {\"z\": -0.6565656565656566, \"sigmoid_function\": \"sigmoid(z*2)\", \"value\": 0.21196333386923713}, {\"z\": -0.5555555555555554, \"sigmoid_function\": \"sigmoid(z*2)\", \"value\": 0.2476638011390717}, {\"z\": -0.45454545454545503, \"sigmoid_function\": \"sigmoid(z*2)\", \"value\": 0.28718590138250244}, {\"z\": -0.3535353535353538, \"sigmoid_function\": \"sigmoid(z*2)\", \"value\": 0.33024642963181144}, {\"z\": -0.2525252525252526, \"sigmoid_function\": \"sigmoid(z*2)\", \"value\": 0.37635451749670706}, {\"z\": -0.15151515151515138, \"sigmoid_function\": \"sigmoid(z*2)\", \"value\": 0.42481686806284763}, {\"z\": -0.050505050505050164, \"sigmoid_function\": \"sigmoid(z*2)\", \"value\": 0.4747689239079115}, {\"z\": 0.050505050505050164, \"sigmoid_function\": \"sigmoid(z*2)\", \"value\": 0.5252310760920885}, {\"z\": 0.15151515151515138, \"sigmoid_function\": \"sigmoid(z*2)\", \"value\": 0.5751831319371523}, {\"z\": 0.2525252525252526, \"sigmoid_function\": \"sigmoid(z*2)\", \"value\": 0.623645482503293}, {\"z\": 0.3535353535353538, \"sigmoid_function\": \"sigmoid(z*2)\", \"value\": 0.6697535703681886}, {\"z\": 0.45454545454545414, \"sigmoid_function\": \"sigmoid(z*2)\", \"value\": 0.7128140986174972}, {\"z\": 0.5555555555555554, \"sigmoid_function\": \"sigmoid(z*2)\", \"value\": 0.7523361988609284}, {\"z\": 0.6565656565656566, \"sigmoid_function\": \"sigmoid(z*2)\", \"value\": 0.7880366661307628}, {\"z\": 0.7575757575757578, \"sigmoid_function\": \"sigmoid(z*2)\", \"value\": 0.8198234066423302}, {\"z\": 0.8585858585858581, \"sigmoid_function\": \"sigmoid(z*2)\", \"value\": 0.8477641768561092}, {\"z\": 0.9595959595959593, \"sigmoid_function\": \"sigmoid(z*2)\", \"value\": 0.8720482950755473}, {\"z\": 1.0606060606060606, \"sigmoid_function\": \"sigmoid(z*2)\", \"value\": 0.8929478537858229}, {\"z\": 1.1616161616161618, \"sigmoid_function\": \"sigmoid(z*2)\", \"value\": 0.9107829397488015}, {\"z\": 1.262626262626262, \"sigmoid_function\": \"sigmoid(z*2)\", \"value\": 0.9258932636749527}, {\"z\": 1.3636363636363633, \"sigmoid_function\": \"sigmoid(z*2)\", \"value\": 0.9386168925965077}, {\"z\": 1.4646464646464645, \"sigmoid_function\": \"sigmoid(z*2)\", \"value\": 0.9492756394379457}, {\"z\": 1.5656565656565657, \"sigmoid_function\": \"sigmoid(z*2)\", \"value\": 0.9581660599944802}, {\"z\": 1.666666666666667, \"sigmoid_function\": \"sigmoid(z*2)\", \"value\": 0.9655548043337889}, {\"z\": 1.7676767676767673, \"sigmoid_function\": \"sigmoid(z*2)\", \"value\": 0.9716771179556968}, {\"z\": 1.8686868686868685, \"sigmoid_function\": \"sigmoid(z*2)\", \"value\": 0.9767374641691144}, {\"z\": 1.9696969696969697, \"sigmoid_function\": \"sigmoid(z*2)\", \"value\": 0.9809114580100765}, {\"z\": 2.070707070707071, \"sigmoid_function\": \"sigmoid(z*2)\", \"value\": 0.9843485138571816}, {\"z\": 2.1717171717171713, \"sigmoid_function\": \"sigmoid(z*2)\", \"value\": 0.9871747899072354}, {\"z\": 2.2727272727272725, \"sigmoid_function\": \"sigmoid(z*2)\", \"value\": 0.9894961554867145}, {\"z\": 2.3737373737373737, \"sigmoid_function\": \"sigmoid(z*2)\", \"value\": 0.9914010133898106}, {\"z\": 2.474747474747475, \"sigmoid_function\": \"sigmoid(z*2)\", \"value\": 0.9929628846354357}, {\"z\": 2.5757575757575752, \"sigmoid_function\": \"sigmoid(z*2)\", \"value\": 0.9942427138780918}, {\"z\": 2.6767676767676765, \"sigmoid_function\": \"sigmoid(z*2)\", \"value\": 0.995290886427886}, {\"z\": 2.7777777777777777, \"sigmoid_function\": \"sigmoid(z*2)\", \"value\": 0.9961489676440697}, {\"z\": 2.878787878787879, \"sigmoid_function\": \"sigmoid(z*2)\", \"value\": 0.9968511864223202}, {\"z\": 2.9797979797979792, \"sigmoid_function\": \"sigmoid(z*2)\", \"value\": 0.9974256896068625}, {\"z\": 3.0808080808080813, \"sigmoid_function\": \"sigmoid(z*2)\", \"value\": 0.9978955955708816}, {\"z\": 3.1818181818181817, \"sigmoid_function\": \"sigmoid(z*2)\", \"value\": 0.9982798744047808}, {\"z\": 3.282828282828282, \"sigmoid_function\": \"sigmoid(z*2)\", \"value\": 0.9985940801244912}, {\"z\": 3.383838383838384, \"sigmoid_function\": \"sigmoid(z*2)\", \"value\": 0.9988509577051191}, {\"z\": 3.4848484848484844, \"sigmoid_function\": \"sigmoid(z*2)\", \"value\": 0.9990609449609381}, {\"z\": 3.5858585858585865, \"sigmoid_function\": \"sigmoid(z*2)\", \"value\": 0.9992325865700818}, {\"z\": 3.686868686868687, \"sigmoid_function\": \"sigmoid(z*2)\", \"value\": 0.9993728750127243}, {\"z\": 3.787878787878787, \"sigmoid_function\": \"sigmoid(z*2)\", \"value\": 0.9994875309178055}, {\"z\": 3.8888888888888893, \"sigmoid_function\": \"sigmoid(z*2)\", \"value\": 0.9995812333155556}, {\"z\": 3.9898989898989896, \"sigmoid_function\": \"sigmoid(z*2)\", \"value\": 0.9996578085662833}, {\"z\": 4.09090909090909, \"sigmoid_function\": \"sigmoid(z*2)\", \"value\": 0.9997203852613508}, {\"z\": 4.191919191919192, \"sigmoid_function\": \"sigmoid(z*2)\", \"value\": 0.9997715211446788}, {\"z\": 4.292929292929292, \"sigmoid_function\": \"sigmoid(z*2)\", \"value\": 0.9998133070550387}, {\"z\": 4.3939393939393945, \"sigmoid_function\": \"sigmoid(z*2)\", \"value\": 0.9998474520137535}, {\"z\": 4.494949494949495, \"sigmoid_function\": \"sigmoid(z*2)\", \"value\": 0.9998753528540559}, {\"z\": 4.595959595959595, \"sigmoid_function\": \"sigmoid(z*2)\", \"value\": 0.9998981511845727}, {\"z\": 4.696969696969697, \"sigmoid_function\": \"sigmoid(z*2)\", \"value\": 0.999916779980278}, {\"z\": 4.797979797979798, \"sigmoid_function\": \"sigmoid(z*2)\", \"value\": 0.9999320016825577}, {\"z\": 4.8989898989899, \"sigmoid_function\": \"sigmoid(z*2)\", \"value\": 0.9999444393510606}, {\"z\": 5.0, \"sigmoid_function\": \"sigmoid(z*2)\", \"value\": 0.9999546021312976}, {\"z\": -5.0, \"sigmoid_function\": \"sigmoid(z-2)\", \"value\": 0.0009110511944006454}, {\"z\": -4.898989898989899, \"sigmoid_function\": \"sigmoid(z-2)\", \"value\": 0.0010077872487099253}, {\"z\": -4.797979797979798, \"sigmoid_function\": \"sigmoid(z-2)\", \"value\": 0.0011147833441199496}, {\"z\": -4.696969696969697, \"sigmoid_function\": \"sigmoid(z-2)\", \"value\": 0.0012331251210586601}, {\"z\": -4.595959595959596, \"sigmoid_function\": \"sigmoid(z-2)\", \"value\": 0.0013640125215336378}, {\"z\": -4.494949494949495, \"sigmoid_function\": \"sigmoid(z-2)\", \"value\": 0.0015087716953255067}, {\"z\": -4.393939393939394, \"sigmoid_function\": \"sigmoid(z-2)\", \"value\": 0.0016688681177159349}, {\"z\": -4.292929292929293, \"sigmoid_function\": \"sigmoid(z-2)\", \"value\": 0.0018459210355774146}, {\"z\": -4.191919191919192, \"sigmoid_function\": \"sigmoid(z-2)\", \"value\": 0.0020417193684422754}, {\"z\": -4.090909090909091, \"sigmoid_function\": \"sigmoid(z-2)\", \"value\": 0.0022582392014275205}, {\"z\": -3.9898989898989896, \"sigmoid_function\": \"sigmoid(z-2)\", \"value\": 0.00249766301754779}, {\"z\": -3.888888888888889, \"sigmoid_function\": \"sigmoid(z-2)\", \"value\": 0.0027624008278954197}, {\"z\": -3.787878787878788, \"sigmoid_function\": \"sigmoid(z-2)\", \"value\": 0.003055113369257324}, {\"z\": -3.686868686868687, \"sigmoid_function\": \"sigmoid(z-2)\", \"value\": 0.003378737549774165}, {\"z\": -3.5858585858585856, \"sigmoid_function\": \"sigmoid(z-2)\", \"value\": 0.0037365143339650794}, {\"z\": -3.484848484848485, \"sigmoid_function\": \"sigmoid(z-2)\", \"value\": 0.004132019268498481}, {\"z\": -3.383838383838384, \"sigmoid_function\": \"sigmoid(z-2)\", \"value\": 0.004569195859047453}, {\"z\": -3.282828282828283, \"sigmoid_function\": \"sigmoid(z-2)\", \"value\": 0.005052392015870149}, {\"z\": -3.1818181818181817, \"sigmoid_function\": \"sigmoid(z-2)\", \"value\": 0.005586399790702615}, {\"z\": -3.080808080808081, \"sigmoid_function\": \"sigmoid(z-2)\", \"value\": 0.006176498629274528}, {\"z\": -2.9797979797979797, \"sigmoid_function\": \"sigmoid(z-2)\", \"value\": 0.006828502361184376}, {\"z\": -2.878787878787879, \"sigmoid_function\": \"sigmoid(z-2)\", \"value\": 0.007548810140686255}, {\"z\": -2.7777777777777777, \"sigmoid_function\": \"sigmoid(z-2)\", \"value\": 0.008344461536550052}, {\"z\": -2.676767676767677, \"sigmoid_function\": \"sigmoid(z-2)\", \"value\": 0.009223195944633751}, {\"z\": -2.5757575757575757, \"sigmoid_function\": \"sigmoid(z-2)\", \"value\": 0.010193516460848633}, {\"z\": -2.474747474747475, \"sigmoid_function\": \"sigmoid(z-2)\", \"value\": 0.011264758302067756}, {\"z\": -2.3737373737373737, \"sigmoid_function\": \"sigmoid(z-2)\", \"value\": 0.012447161795007164}, {\"z\": -2.272727272727273, \"sigmoid_function\": \"sigmoid(z-2)\", \"value\": 0.013751949864444812}, {\"z\": -2.1717171717171717, \"sigmoid_function\": \"sigmoid(z-2)\", \"value\": 0.015191409838007068}, {\"z\": -2.070707070707071, \"sigmoid_function\": \"sigmoid(z-2)\", \"value\": 0.01677897924021968}, {\"z\": -1.9696969696969697, \"sigmoid_function\": \"sigmoid(z-2)\", \"value\": 0.01852933506806215}, {\"z\": -1.868686868686869, \"sigmoid_function\": \"sigmoid(z-2)\", \"value\": 0.020458485817786212}, {\"z\": -1.7676767676767677, \"sigmoid_function\": \"sigmoid(z-2)\", \"value\": 0.022583865261700576}, {\"z\": -1.6666666666666665, \"sigmoid_function\": \"sigmoid(z-2)\", \"value\": 0.02492442664711404}, {\"z\": -1.5656565656565657, \"sigmoid_function\": \"sigmoid(z-2)\", \"value\": 0.027500735600776583}, {\"z\": -1.4646464646464645, \"sigmoid_function\": \"sigmoid(z-2)\", \"value\": 0.030335059564448208}, {\"z\": -1.3636363636363638, \"sigmoid_function\": \"sigmoid(z-2)\", \"value\": 0.03345145105511817}, {\"z\": -1.2626262626262625, \"sigmoid_function\": \"sigmoid(z-2)\", \"value\": 0.03687582143313014}, {\"z\": -1.1616161616161618, \"sigmoid_function\": \"sigmoid(z-2)\", \"value\": 0.04063600117212708}, {\"z\": -1.0606060606060606, \"sigmoid_function\": \"sigmoid(z-2)\", \"value\": 0.044761781859634225}, {\"z\": -0.9595959595959593, \"sigmoid_function\": \"sigmoid(z-2)\", \"value\": 0.04928493432551884}, {\"z\": -0.858585858585859, \"sigmoid_function\": \"sigmoid(z-2)\", \"value\": 0.054239196414809246}, {\"z\": -0.7575757575757578, \"sigmoid_function\": \"sigmoid(z-2)\", \"value\": 0.059660223019174806}, {\"z\": -0.6565656565656566, \"sigmoid_function\": \"sigmoid(z-2)\", \"value\": 0.06558549009863611}, {\"z\": -0.5555555555555554, \"sigmoid_function\": \"sigmoid(z-2)\", \"value\": 0.07205414361856402}, {\"z\": -0.45454545454545503, \"sigmoid_function\": \"sigmoid(z-2)\", \"value\": 0.07910678367200667}, {\"z\": -0.3535353535353538, \"sigmoid_function\": \"sigmoid(z-2)\", \"value\": 0.0867851736496764}, {\"z\": -0.2525252525252526, \"sigmoid_function\": \"sigmoid(z-2)\", \"value\": 0.09513186427677887}, {\"z\": -0.15151515151515138, \"sigmoid_function\": \"sigmoid(z-2)\", \"value\": 0.10418972279494806}, {\"z\": -0.050505050505050164, \"sigmoid_function\": \"sigmoid(z-2)\", \"value\": 0.11400135868312064}, {\"z\": 0.050505050505050164, \"sigmoid_function\": \"sigmoid(z-2)\", \"value\": 0.12460843924642248}, {\"z\": 0.15151515151515138, \"sigmoid_function\": \"sigmoid(z-2)\", \"value\": 0.13605089131658663}, {\"z\": 0.2525252525252526, \"sigmoid_function\": \"sigmoid(z-2)\", \"value\": 0.14836598933874684}, {\"z\": 0.3535353535353538, \"sigmoid_function\": \"sigmoid(z-2)\", \"value\": 0.16158733535923847}, {\"z\": 0.45454545454545414, \"sigmoid_function\": \"sigmoid(z-2)\", \"value\": 0.17574374289308}, {\"z\": 0.5555555555555554, \"sigmoid_function\": \"sigmoid(z-2)\", \"value\": 0.19085804424486544}, {\"z\": 0.6565656565656566, \"sigmoid_function\": \"sigmoid(z-2)\", \"value\": 0.20694584934715762}, {\"z\": 0.7575757575757578, \"sigmoid_function\": \"sigmoid(z-2)\", \"value\": 0.22401429315989183}, {\"z\": 0.8585858585858581, \"sigmoid_function\": \"sigmoid(z-2)\", \"value\": 0.24206081755024075}, {\"z\": 0.9595959595959593, \"sigmoid_function\": \"sigmoid(z-2)\", \"value\": 0.26107204157108393}, {\"z\": 1.0606060606060606, \"sigmoid_function\": \"sigmoid(z-2)\", \"value\": 0.28102278025633637}, {\"z\": 1.1616161616161618, \"sigmoid_function\": \"sigmoid(z-2)\", \"value\": 0.3018752754526367}, {\"z\": 1.262626262626262, \"sigmoid_function\": \"sigmoid(z-2)\", \"value\": 0.3235787018345793}, {\"z\": 1.3636363636363633, \"sigmoid_function\": \"sigmoid(z-2)\", \"value\": 0.346069006291123}, {\"z\": 1.4646464646464645, \"sigmoid_function\": \"sigmoid(z-2)\", \"value\": 0.36926912882296675}, {\"z\": 1.5656565656565657, \"sigmoid_function\": \"sigmoid(z-2)\", \"value\": 0.39308963791176027}, {\"z\": 1.666666666666667, \"sigmoid_function\": \"sigmoid(z-2)\", \"value\": 0.41742979353768545}, {\"z\": 1.7676767676767673, \"sigmoid_function\": \"sigmoid(z-2)\", \"value\": 0.4421790277715518}, {\"z\": 1.8686868686868685, \"sigmoid_function\": \"sigmoid(z-2)\", \"value\": 0.46721880785976294}, {\"z\": 1.9696969696969697, \"sigmoid_function\": \"sigmoid(z-2)\", \"value\": 0.492424822089224}, {\"z\": 2.070707070707071, \"sigmoid_function\": \"sigmoid(z-2)\", \"value\": 0.5176694067884358}, {\"z\": 2.1717171717171713, \"sigmoid_function\": \"sigmoid(z-2)\", \"value\": 0.5428241158086663}, {\"z\": 2.2727272727272725, \"sigmoid_function\": \"sigmoid(z-2)\", \"value\": 0.5677623235383434}, {\"z\": 2.3737373737373737, \"sigmoid_function\": \"sigmoid(z-2)\", \"value\": 0.5923617500568721}, {\"z\": 2.474747474747475, \"sigmoid_function\": \"sigmoid(z-2)\", \"value\": 0.6165068027011174}, {\"z\": 2.5757575757575752, \"sigmoid_function\": \"sigmoid(z-2)\", \"value\": 0.6400906414750341}, {\"z\": 2.6767676767676765, \"sigmoid_function\": \"sigmoid(z-2)\", \"value\": 0.663016894958972}, {\"z\": 2.7777777777777777, \"sigmoid_function\": \"sigmoid(z-2)\", \"value\": 0.6852009766653157}, {\"z\": 2.878787878787879, \"sigmoid_function\": \"sigmoid(z-2)\", \"value\": 0.706570976843413}, {\"z\": 2.9797979797979792, \"sigmoid_function\": \"sigmoid(z-2)\", \"value\": 0.7270681292782007}, {\"z\": 3.0808080808080813, \"sigmoid_function\": \"sigmoid(z-2)\", \"value\": 0.7466468746662198}, {\"z\": 3.1818181818181817, \"sigmoid_function\": \"sigmoid(z-2)\", \"value\": 0.7652745601971698}, {\"z\": 3.282828282828282, \"sigmoid_function\": \"sigmoid(z-2)\", \"value\": 0.7829308281250582}, {\"z\": 3.383838383838384, \"sigmoid_function\": \"sigmoid(z-2)\", \"value\": 0.7996067540917198}, {\"z\": 3.4848484848484844, \"sigmoid_function\": \"sigmoid(z-2)\", \"value\": 0.8153037990090656}, {\"z\": 3.5858585858585865, \"sigmoid_function\": \"sigmoid(z-2)\", \"value\": 0.8300326370593409}, {\"z\": 3.686868686868687, \"sigmoid_function\": \"sigmoid(z-2)\", \"value\": 0.8438119177307318}, {\"z\": 3.787878787878787, \"sigmoid_function\": \"sigmoid(z-2)\", \"value\": 0.8566670127685516}, {\"z\": 3.8888888888888893, \"sigmoid_function\": \"sigmoid(z-2)\", \"value\": 0.8686287904691933}, {\"z\": 3.9898989898989896, \"sigmoid_function\": \"sigmoid(z-2)\", \"value\": 0.8797324507435984}, {\"z\": 4.09090909090909, \"sigmoid_function\": \"sigmoid(z-2)\", \"value\": 0.8900164455326726}, {\"z\": 4.191919191919192, \"sigmoid_function\": \"sigmoid(z-2)\", \"value\": 0.8995215009861548}, {\"z\": 4.292929292929292, \"sigmoid_function\": \"sigmoid(z-2)\", \"value\": 0.908289750654218}, {\"z\": 4.3939393939393945, \"sigmoid_function\": \"sigmoid(z-2)\", \"value\": 0.9163639829624134}, {\"z\": 4.494949494949495, \"sigmoid_function\": \"sigmoid(z-2)\", \"value\": 0.9237870014910294}, {\"z\": 4.595959595959595, \"sigmoid_function\": \"sigmoid(z-2)\", \"value\": 0.9306010930095497}, {\"z\": 4.696969696969697, \"sigmoid_function\": \"sigmoid(z-2)\", \"value\": 0.9368475957123458}, {\"z\": 4.797979797979798, \"sigmoid_function\": \"sigmoid(z-2)\", \"value\": 0.94256655851407}, {\"z\": 4.8989898989899, \"sigmoid_function\": \"sigmoid(z-2)\", \"value\": 0.9477964814295412}, {\"z\": 5.0, \"sigmoid_function\": \"sigmoid(z-2)\", \"value\": 0.9525741268224334}]}}, {\"mode\": \"vega-lite\"});\n",
       "</script>"
      ],
      "text/plain": [
       "alt.Chart(...)"
      ]
     },
     "execution_count": 12,
     "metadata": {},
     "output_type": "execute_result"
    }
   ],
   "source": [
    "alt.Chart(sigmoid_df).mark_line().encode(\n",
    "    x=\"z:Q\",\n",
    "    y=\"value:Q\",\n",
    "    color=\"sigmoid_function:N\"\n",
    ").properties(\n",
    "    title=\"Sigmoid functions\",\n",
    "    width=600,\n",
    "    height=400\n",
    ")"
   ]
  },
  {
   "cell_type": "markdown",
   "metadata": {},
   "source": [
    "La función\n",
    "sigmoide $g(z) = (1+e^{-z})^{-1}$ tiene la siguiente propiedad:\n",
    "\n",
    "$$g'(z) =  g(z)(1-g(z))$$\n",
    "\n",
    "\"Demostración\":\n",
    "\n",
    "$$\\begin{aligned}\n",
    "g'(z) &= \\frac{-1}{(1+e^{-z})^2} (-e^{-z}) \\\\\n",
    "      &= \\frac{e^{-z}}{(1+e^{-z})^2} \\\\\n",
    "      &= \\frac{1}{1+e^{-z}} \\frac{e^{-z}}{1+e^{-z}} \\\\\n",
    "      &= \\frac{1}{1+e^{-z}} \\left(1 - \\frac{1}{1+e^{-z}} \\right) \\\\\n",
    "      &= g(z)(1-g(z))\\end{aligned}$$"
   ]
  },
  {
   "cell_type": "code",
   "execution_count": 13,
   "metadata": {},
   "outputs": [
    {
     "data": {
      "text/html": [
       "<div>\n",
       "<style scoped>\n",
       "    .dataframe tbody tr th:only-of-type {\n",
       "        vertical-align: middle;\n",
       "    }\n",
       "\n",
       "    .dataframe tbody tr th {\n",
       "        vertical-align: top;\n",
       "    }\n",
       "\n",
       "    .dataframe thead th {\n",
       "        text-align: right;\n",
       "    }\n",
       "</style>\n",
       "<table border=\"1\" class=\"dataframe\">\n",
       "  <thead>\n",
       "    <tr style=\"text-align: right;\">\n",
       "      <th></th>\n",
       "      <th>z</th>\n",
       "      <th>function</th>\n",
       "      <th>value</th>\n",
       "    </tr>\n",
       "  </thead>\n",
       "  <tbody>\n",
       "    <tr>\n",
       "      <th>0</th>\n",
       "      <td>-5.00000</td>\n",
       "      <td>sigmoid(z)</td>\n",
       "      <td>0.006693</td>\n",
       "    </tr>\n",
       "    <tr>\n",
       "      <th>1</th>\n",
       "      <td>-4.89899</td>\n",
       "      <td>sigmoid(z)</td>\n",
       "      <td>0.007399</td>\n",
       "    </tr>\n",
       "    <tr>\n",
       "      <th>2</th>\n",
       "      <td>-4.79798</td>\n",
       "      <td>sigmoid(z)</td>\n",
       "      <td>0.008179</td>\n",
       "    </tr>\n",
       "    <tr>\n",
       "      <th>3</th>\n",
       "      <td>-4.69697</td>\n",
       "      <td>sigmoid(z)</td>\n",
       "      <td>0.009040</td>\n",
       "    </tr>\n",
       "    <tr>\n",
       "      <th>4</th>\n",
       "      <td>-4.59596</td>\n",
       "      <td>sigmoid(z)</td>\n",
       "      <td>0.009992</td>\n",
       "    </tr>\n",
       "  </tbody>\n",
       "</table>\n",
       "</div>"
      ],
      "text/plain": [
       "         z    function     value\n",
       "0 -5.00000  sigmoid(z)  0.006693\n",
       "1 -4.89899  sigmoid(z)  0.007399\n",
       "2 -4.79798  sigmoid(z)  0.008179\n",
       "3 -4.69697  sigmoid(z)  0.009040\n",
       "4 -4.59596  sigmoid(z)  0.009992"
      ]
     },
     "execution_count": 13,
     "metadata": {},
     "output_type": "execute_result"
    }
   ],
   "source": [
    "def d_sigmoid(z):\n",
    "    return sigmoid(z) * (1 - sigmoid(z))\n",
    "\n",
    "sigmoid_dz_df = (\n",
    "    pd.DataFrame(\n",
    "        {\n",
    "            \"z\": z,\n",
    "            \"sigmoid(z)\": sigmoid(z),\n",
    "            \"d_sigmoid(z)/dz\": d_sigmoid(z)\n",
    "        }\n",
    "    )\n",
    "    .melt(\n",
    "        id_vars=\"z\",\n",
    "        value_vars=[\"sigmoid(z)\", \"d_sigmoid(z)/dz\"],\n",
    "        var_name=\"function\"\n",
    "    )\n",
    ")\n",
    "\n",
    "\n",
    "sigmoid_dz_df.head()"
   ]
  },
  {
   "cell_type": "code",
   "execution_count": 14,
   "metadata": {},
   "outputs": [
    {
     "data": {
      "text/html": [
       "\n",
       "<div id=\"altair-viz-934109295489402ca01262c7a8a6d9c3\"></div>\n",
       "<script type=\"text/javascript\">\n",
       "  (function(spec, embedOpt){\n",
       "    let outputDiv = document.currentScript.previousElementSibling;\n",
       "    if (outputDiv.id !== \"altair-viz-934109295489402ca01262c7a8a6d9c3\") {\n",
       "      outputDiv = document.getElementById(\"altair-viz-934109295489402ca01262c7a8a6d9c3\");\n",
       "    }\n",
       "    const paths = {\n",
       "      \"vega\": \"https://cdn.jsdelivr.net/npm//vega@5?noext\",\n",
       "      \"vega-lib\": \"https://cdn.jsdelivr.net/npm//vega-lib?noext\",\n",
       "      \"vega-lite\": \"https://cdn.jsdelivr.net/npm//vega-lite@4.8.1?noext\",\n",
       "      \"vega-embed\": \"https://cdn.jsdelivr.net/npm//vega-embed@6?noext\",\n",
       "    };\n",
       "\n",
       "    function loadScript(lib) {\n",
       "      return new Promise(function(resolve, reject) {\n",
       "        var s = document.createElement('script');\n",
       "        s.src = paths[lib];\n",
       "        s.async = true;\n",
       "        s.onload = () => resolve(paths[lib]);\n",
       "        s.onerror = () => reject(`Error loading script: ${paths[lib]}`);\n",
       "        document.getElementsByTagName(\"head\")[0].appendChild(s);\n",
       "      });\n",
       "    }\n",
       "\n",
       "    function showError(err) {\n",
       "      outputDiv.innerHTML = `<div class=\"error\" style=\"color:red;\">${err}</div>`;\n",
       "      throw err;\n",
       "    }\n",
       "\n",
       "    function displayChart(vegaEmbed) {\n",
       "      vegaEmbed(outputDiv, spec, embedOpt)\n",
       "        .catch(err => showError(`Javascript Error: ${err.message}<br>This usually means there's a typo in your chart specification. See the javascript console for the full traceback.`));\n",
       "    }\n",
       "\n",
       "    if(typeof define === \"function\" && define.amd) {\n",
       "      requirejs.config({paths});\n",
       "      require([\"vega-embed\"], displayChart, err => showError(`Error loading script: ${err.message}`));\n",
       "    } else if (typeof vegaEmbed === \"function\") {\n",
       "      displayChart(vegaEmbed);\n",
       "    } else {\n",
       "      loadScript(\"vega\")\n",
       "        .then(() => loadScript(\"vega-lite\"))\n",
       "        .then(() => loadScript(\"vega-embed\"))\n",
       "        .catch(showError)\n",
       "        .then(() => displayChart(vegaEmbed));\n",
       "    }\n",
       "  })({\"config\": {\"background\": \"white\", \"view\": {\"continuousWidth\": 400, \"continuousHeight\": 300}}, \"data\": {\"name\": \"data-74d19d1b308958684d31ff006b7d4240\"}, \"mark\": \"line\", \"encoding\": {\"color\": {\"type\": \"nominal\", \"field\": \"function\"}, \"x\": {\"type\": \"quantitative\", \"field\": \"z\"}, \"y\": {\"type\": \"quantitative\", \"field\": \"value\"}}, \"height\": 400, \"title\": \"Sigmoid and her derivate function\", \"width\": 600, \"$schema\": \"https://vega.github.io/schema/vega-lite/v4.8.1.json\", \"datasets\": {\"data-74d19d1b308958684d31ff006b7d4240\": [{\"z\": -5.0, \"function\": \"sigmoid(z)\", \"value\": 0.0066928509242848554}, {\"z\": -4.898989898989899, \"function\": \"sigmoid(z)\", \"value\": 0.007398956049719674}, {\"z\": -4.797979797979798, \"function\": \"sigmoid(z)\", \"value\": 0.008178942856282161}, {\"z\": -4.696969696969697, \"function\": \"sigmoid(z)\", \"value\": 0.009040405808933128}, {\"z\": -4.595959595959596, \"function\": \"sigmoid(z)\", \"value\": 0.009991689936208048}, {\"z\": -4.494949494949495, \"function\": \"sigmoid(z)\", \"value\": 0.011041958337494755}, {\"z\": -4.393939393939394, \"function\": \"sigmoid(z)\", \"value\": 0.012201264260636085}, {\"z\": -4.292929292929293, \"function\": \"sigmoid(z)\", \"value\": 0.013480627700845831}, {\"z\": -4.191919191919192, \"function\": \"sigmoid(z)\", \"value\": 0.01489211636326034}, {\"z\": -4.090909090909091, \"function\": \"sigmoid(z)\", \"value\": 0.016448930693417962}, {\"z\": -3.9898989898989896, \"function\": \"sigmoid(z)\", \"value\": 0.01816549250715569}, {\"z\": -3.888888888888889, \"function\": \"sigmoid(z)\", \"value\": 0.02005753653785041}, {\"z\": -3.787878787878788, \"function\": \"sigmoid(z)\", \"value\": 0.022142203958132125}, {\"z\": -3.686868686868687, \"function\": \"sigmoid(z)\", \"value\": 0.024438136618332742}, {\"z\": -3.5858585858585856, \"function\": \"sigmoid(z)\", \"value\": 0.026965570368090237}, {\"z\": -3.484848484848485, \"function\": \"sigmoid(z)\", \"value\": 0.029746425384074206}, {\"z\": -3.383838383838384, \"function\": \"sigmoid(z)\", \"value\": 0.03280439090994282}, {\"z\": -3.282828282828283, \"function\": \"sigmoid(z)\", \"value\": 0.03616500122018774}, {\"z\": -3.1818181818181817, \"function\": \"sigmoid(z)\", \"value\": 0.039855698945889695}, {\"z\": -3.080808080808081, \"function\": \"sigmoid(z)\", \"value\": 0.043905881149939006}, {\"z\": -2.9797979797979797, \"function\": \"sigmoid(z)\", \"value\": 0.04834692271989779}, {\"z\": -2.878787878787879, \"function\": \"sigmoid(z)\", \"value\": 0.05321217077391106}, {\"z\": -2.7777777777777777, \"function\": \"sigmoid(z)\", \"value\": 0.0585369028743679}, {\"z\": -2.676767676767677, \"function\": \"sigmoid(z)\", \"value\": 0.06435824095339865}, {\"z\": -2.5757575757575757, \"function\": \"sigmoid(z)\", \"value\": 0.07071501202714367}, {\"z\": -2.474747474747475, \"function\": \"sigmoid(z)\", \"value\": 0.07764754608342478}, {\"z\": -2.3737373737373737, \"function\": \"sigmoid(z)\", \"value\": 0.08519740106158838}, {\"z\": -2.272727272727273, \"function\": \"sigmoid(z)\", \"value\": 0.09340700471683215}, {\"z\": -2.1717171717171717, \"function\": \"sigmoid(z)\", \"value\": 0.10231920350807018}, {\"z\": -2.070707070707071, \"function\": \"sigmoid(z)\", \"value\": 0.11197670961974694}, {\"z\": -1.9696969696969697, \"function\": \"sigmoid(z)\", \"value\": 0.12242143898621305}, {\"z\": -1.868686868686869, \"function\": \"sigmoid(z)\", \"value\": 0.13369373589385355}, {\"z\": -1.7676767676767677, \"function\": \"sigmoid(z)\", \"value\": 0.14583148353491507}, {\"z\": -1.6666666666666665, \"function\": \"sigmoid(z)\", \"value\": 0.15886910488091516}, {\"z\": -1.5656565656565657, \"function\": \"sigmoid(z)\", \"value\": 0.17283646446618905}, {\"z\": -1.4646464646464645, \"function\": \"sigmoid(z)\", \"value\": 0.18775768905482057}, {\"z\": -1.3636363636363638, \"function\": \"sigmoid(z)\", \"value\": 0.20364993350221924}, {\"z\": -1.2626262626262625, \"function\": \"sigmoid(z)\", \"value\": 0.2205221270455694}, {\"z\": -1.1616161616161618, \"function\": \"sigmoid(z)\", \"value\": 0.23837374421039675}, {\"z\": -1.0606060606060606, \"function\": \"sigmoid(z)\", \"value\": 0.2571936527643822}, {\"z\": -0.9595959595959593, \"function\": \"sigmoid(z)\", \"value\": 0.27695909778815886}, {\"z\": -0.858585858585859, \"function\": \"sigmoid(z)\", \"value\": 0.29763488497442225}, {\"z\": -0.7575757575757578, \"function\": \"sigmoid(z)\", \"value\": 0.31917282672147035}, {\"z\": -0.6565656565656566, \"function\": \"sigmoid(z)\", \"value\": 0.34151151059747936}, {\"z\": -0.5555555555555554, \"function\": \"sigmoid(z)\", \"value\": 0.3645764407416393}, {\"z\": -0.45454545454545503, \"function\": \"sigmoid(z)\", \"value\": 0.3882805885928385}, {\"z\": -0.3535353535353538, \"function\": \"sigmoid(z)\", \"value\": 0.4125253704018182}, {\"z\": -0.2525252525252526, \"function\": \"sigmoid(z)\", \"value\": 0.43720204630561754}, {\"z\": -0.15151515151515138, \"function\": \"sigmoid(z)\", \"value\": 0.462193510926849}, {\"z\": -0.050505050505050164, \"function\": \"sigmoid(z)\", \"value\": 0.4873764205699251}, {\"z\": 0.050505050505050164, \"function\": \"sigmoid(z)\", \"value\": 0.512623579430075}, {\"z\": 0.15151515151515138, \"function\": \"sigmoid(z)\", \"value\": 0.537806489073151}, {\"z\": 0.2525252525252526, \"function\": \"sigmoid(z)\", \"value\": 0.5627979536943825}, {\"z\": 0.3535353535353538, \"function\": \"sigmoid(z)\", \"value\": 0.5874746295981818}, {\"z\": 0.45454545454545414, \"function\": \"sigmoid(z)\", \"value\": 0.6117194114071612}, {\"z\": 0.5555555555555554, \"function\": \"sigmoid(z)\", \"value\": 0.6354235592583607}, {\"z\": 0.6565656565656566, \"function\": \"sigmoid(z)\", \"value\": 0.6584884894025207}, {\"z\": 0.7575757575757578, \"function\": \"sigmoid(z)\", \"value\": 0.6808271732785297}, {\"z\": 0.8585858585858581, \"function\": \"sigmoid(z)\", \"value\": 0.7023651150255775}, {\"z\": 0.9595959595959593, \"function\": \"sigmoid(z)\", \"value\": 0.7230409022118411}, {\"z\": 1.0606060606060606, \"function\": \"sigmoid(z)\", \"value\": 0.7428063472356178}, {\"z\": 1.1616161616161618, \"function\": \"sigmoid(z)\", \"value\": 0.7616262557896033}, {\"z\": 1.262626262626262, \"function\": \"sigmoid(z)\", \"value\": 0.7794778729544305}, {\"z\": 1.3636363636363633, \"function\": \"sigmoid(z)\", \"value\": 0.7963500664977807}, {\"z\": 1.4646464646464645, \"function\": \"sigmoid(z)\", \"value\": 0.8122423109451795}, {\"z\": 1.5656565656565657, \"function\": \"sigmoid(z)\", \"value\": 0.8271635355338108}, {\"z\": 1.666666666666667, \"function\": \"sigmoid(z)\", \"value\": 0.8411308951190849}, {\"z\": 1.7676767676767673, \"function\": \"sigmoid(z)\", \"value\": 0.854168516465085}, {\"z\": 1.8686868686868685, \"function\": \"sigmoid(z)\", \"value\": 0.8663062641061464}, {\"z\": 1.9696969696969697, \"function\": \"sigmoid(z)\", \"value\": 0.877578561013787}, {\"z\": 2.070707070707071, \"function\": \"sigmoid(z)\", \"value\": 0.888023290380253}, {\"z\": 2.1717171717171713, \"function\": \"sigmoid(z)\", \"value\": 0.8976807964919297}, {\"z\": 2.2727272727272725, \"function\": \"sigmoid(z)\", \"value\": 0.9065929952831678}, {\"z\": 2.3737373737373737, \"function\": \"sigmoid(z)\", \"value\": 0.9148025989384116}, {\"z\": 2.474747474747475, \"function\": \"sigmoid(z)\", \"value\": 0.9223524539165752}, {\"z\": 2.5757575757575752, \"function\": \"sigmoid(z)\", \"value\": 0.9292849879728562}, {\"z\": 2.6767676767676765, \"function\": \"sigmoid(z)\", \"value\": 0.9356417590466013}, {\"z\": 2.7777777777777777, \"function\": \"sigmoid(z)\", \"value\": 0.941463097125632}, {\"z\": 2.878787878787879, \"function\": \"sigmoid(z)\", \"value\": 0.946787829226089}, {\"z\": 2.9797979797979792, \"function\": \"sigmoid(z)\", \"value\": 0.9516530772801021}, {\"z\": 3.0808080808080813, \"function\": \"sigmoid(z)\", \"value\": 0.9560941188500611}, {\"z\": 3.1818181818181817, \"function\": \"sigmoid(z)\", \"value\": 0.9601443010541102}, {\"z\": 3.282828282828282, \"function\": \"sigmoid(z)\", \"value\": 0.9638349987798124}, {\"z\": 3.383838383838384, \"function\": \"sigmoid(z)\", \"value\": 0.9671956090900572}, {\"z\": 3.4848484848484844, \"function\": \"sigmoid(z)\", \"value\": 0.9702535746159258}, {\"z\": 3.5858585858585865, \"function\": \"sigmoid(z)\", \"value\": 0.9730344296319098}, {\"z\": 3.686868686868687, \"function\": \"sigmoid(z)\", \"value\": 0.9755618633816672}, {\"z\": 3.787878787878787, \"function\": \"sigmoid(z)\", \"value\": 0.977857796041868}, {\"z\": 3.8888888888888893, \"function\": \"sigmoid(z)\", \"value\": 0.9799424634621495}, {\"z\": 3.9898989898989896, \"function\": \"sigmoid(z)\", \"value\": 0.9818345074928443}, {\"z\": 4.09090909090909, \"function\": \"sigmoid(z)\", \"value\": 0.9835510693065821}, {\"z\": 4.191919191919192, \"function\": \"sigmoid(z)\", \"value\": 0.9851078836367397}, {\"z\": 4.292929292929292, \"function\": \"sigmoid(z)\", \"value\": 0.9865193722991542}, {\"z\": 4.3939393939393945, \"function\": \"sigmoid(z)\", \"value\": 0.9877987357393639}, {\"z\": 4.494949494949495, \"function\": \"sigmoid(z)\", \"value\": 0.9889580416625052}, {\"z\": 4.595959595959595, \"function\": \"sigmoid(z)\", \"value\": 0.990008310063792}, {\"z\": 4.696969696969697, \"function\": \"sigmoid(z)\", \"value\": 0.9909595941910669}, {\"z\": 4.797979797979798, \"function\": \"sigmoid(z)\", \"value\": 0.9918210571437178}, {\"z\": 4.8989898989899, \"function\": \"sigmoid(z)\", \"value\": 0.9926010439502804}, {\"z\": 5.0, \"function\": \"sigmoid(z)\", \"value\": 0.9933071490757153}, {\"z\": -5.0, \"function\": \"d_sigmoid(z)/dz\", \"value\": 0.006648056670790155}, {\"z\": -4.898989898989899, \"function\": \"d_sigmoid(z)/dz\", \"value\": 0.007344211499093991}, {\"z\": -4.797979797979798, \"function\": \"d_sigmoid(z)/dz\", \"value\": 0.008112047750035833}, {\"z\": -4.696969696969697, \"function\": \"d_sigmoid(z)/dz\", \"value\": 0.008958676871742937}, {\"z\": -4.595959595959596, \"function\": \"d_sigmoid(z)/dz\", \"value\": 0.009891856068426727}, {\"z\": -4.494949494949495, \"function\": \"d_sigmoid(z)/dz\", \"value\": 0.010920033493567785}, {\"z\": -4.393939393939394, \"function\": \"d_sigmoid(z)/dz\", \"value\": 0.012052393411078211}, {\"z\": -4.292929292929293, \"function\": \"d_sigmoid(z)/dz\", \"value\": 0.01329890037763702}, {\"z\": -4.191919191919192, \"function\": \"d_sigmoid(z)/dz\", \"value\": 0.014670341233483453}, {\"z\": -4.090909090909091, \"function\": \"d_sigmoid(z)/dz\", \"value\": 0.016178363372461094}, {\"z\": -3.9898989898989896, \"function\": \"d_sigmoid(z)/dz\", \"value\": 0.01783550738912816}, {\"z\": -3.888888888888889, \"function\": \"d_sigmoid(z)/dz\", \"value\": 0.019655231765883206}, {\"z\": -3.787878787878788, \"function\": \"d_sigmoid(z)/dz\", \"value\": 0.021651926762008604}, {\"z\": -3.686868686868687, \"function\": \"d_sigmoid(z)/dz\", \"value\": 0.023840914096956448}, {\"z\": -3.5858585858585856, \"function\": \"d_sigmoid(z)/dz\", \"value\": 0.02623842838281381}, {\"z\": -3.484848484848485, \"function\": \"d_sigmoid(z)/dz\", \"value\": 0.02886157556094391}, {\"z\": -3.383838383838384, \"function\": \"d_sigmoid(z)/dz\", \"value\": 0.03172826284697048}, {\"z\": -3.282828282828283, \"function\": \"d_sigmoid(z)/dz\", \"value\": 0.034857093906931556}, {\"z\": -3.1818181818181817, \"function\": \"d_sigmoid(z)/dz\", \"value\": 0.038267222207424303}, {\"z\": -3.080808080808081, \"function\": \"d_sigmoid(z)/dz\", \"value\": 0.04197815475038644}, {\"z\": -2.9797979797979797, \"function\": \"d_sigmoid(z)/dz\", \"value\": 0.04600949778341402}, {\"z\": -2.878787878787879, \"function\": \"d_sigmoid(z)/dz\", \"value\": 0.05038063565543919}, {\"z\": -2.7777777777777777, \"function\": \"d_sigmoid(z)/dz\", \"value\": 0.05511033387624472}, {\"z\": -2.676767676767677, \"function\": \"d_sigmoid(z)/dz\", \"value\": 0.06021625777478293}, {\"z\": -2.5757575757575757, \"function\": \"d_sigmoid(z)/dz\", \"value\": 0.0657143991011446}, {\"z\": -2.474747474747475, \"function\": \"d_sigmoid(z)/dz\", \"value\": 0.07161840467064721}, {\"z\": -2.3737373737373737, \"function\": \"d_sigmoid(z)/dz\", \"value\": 0.07793880391393924}, {\"z\": -2.272727272727273, \"function\": \"d_sigmoid(z)/dz\", \"value\": 0.08468213618666184}, {\"z\": -2.1717171717171717, \"function\": \"d_sigmoid(z)/dz\", \"value\": 0.0918499841015443}, {\"z\": -2.070707070707071, \"function\": \"d_sigmoid(z)/dz\", \"value\": 0.09943792612248181}, {\"z\": -1.9696969696969697, \"function\": \"d_sigmoid(z)/dz\", \"value\": 0.10743443026275797}, {\"z\": -1.868686868686869, \"function\": \"d_sigmoid(z)/dz\", \"value\": 0.11581972087659809}, {\"z\": -1.7676767676767677, \"function\": \"d_sigmoid(z)/dz\", \"value\": 0.12456466194492087}, {\"z\": -1.6666666666666665, \"function\": \"d_sigmoid(z)/dz\", \"value\": 0.13362971239525193}, {\"z\": -1.5656565656565657, \"function\": \"d_sigmoid(z)/dz\", \"value\": 0.14296402101701683}, {\"z\": -1.4646464646464645, \"function\": \"d_sigmoid(z)/dz\", \"value\": 0.15250473925561386}, {\"z\": -1.3636363636363638, \"function\": \"d_sigmoid(z)/dz\", \"value\": 0.16217663808676092}, {\"z\": -1.2626262626262625, \"function\": \"d_sigmoid(z)/dz\", \"value\": 0.17189211852886715}, {\"z\": -1.1616161616161618, \"function\": \"d_sigmoid(z)/dz\", \"value\": 0.18155170228151307}, {\"z\": -1.0606060606060606, \"function\": \"d_sigmoid(z)/dz\", \"value\": 0.19104507774209661}, {\"z\": -0.9595959595959593, \"function\": \"d_sigmoid(z)/dz\", \"value\": 0.2002527559405279}, {\"z\": -0.858585858585859, \"function\": \"d_sigmoid(z)/dz\", \"value\": 0.20904836022068468}, {\"z\": -0.7575757575757578, \"function\": \"d_sigmoid(z)/dz\", \"value\": 0.21730153340409658}, {\"z\": -0.6565656565656566, \"function\": \"d_sigmoid(z)/dz\", \"value\": 0.22488139872690713}, {\"z\": -0.5555555555555554, \"function\": \"d_sigmoid(z)/dz\", \"value\": 0.23166045959779727}, {\"z\": -0.45454545454545503, \"function\": \"d_sigmoid(z)/dz\", \"value\": 0.2375187731148374}, {\"z\": -0.3535353535353538, \"function\": \"d_sigmoid(z)/dz\", \"value\": 0.24234818917666093}, {\"z\": -0.2525252525252526, \"function\": \"d_sigmoid(z)/dz\", \"value\": 0.2460564170117982}, {\"z\": -0.15151515151515138, \"function\": \"d_sigmoid(z)/dz\", \"value\": 0.24857066938396172}, {\"z\": -0.050505050505050164, \"function\": \"d_sigmoid(z)/dz\", \"value\": 0.24984064524237257}, {\"z\": 0.050505050505050164, \"function\": \"d_sigmoid(z)/dz\", \"value\": 0.2498406452423726}, {\"z\": 0.15151515151515138, \"function\": \"d_sigmoid(z)/dz\", \"value\": 0.24857066938396172}, {\"z\": 0.2525252525252526, \"function\": \"d_sigmoid(z)/dz\", \"value\": 0.2460564170117982}, {\"z\": 0.3535353535353538, \"function\": \"d_sigmoid(z)/dz\", \"value\": 0.2423481891766609}, {\"z\": 0.45454545454545414, \"function\": \"d_sigmoid(z)/dz\", \"value\": 0.23751877311483746}, {\"z\": 0.5555555555555554, \"function\": \"d_sigmoid(z)/dz\", \"value\": 0.23166045959779727}, {\"z\": 0.6565656565656566, \"function\": \"d_sigmoid(z)/dz\", \"value\": 0.22488139872690707}, {\"z\": 0.7575757575757578, \"function\": \"d_sigmoid(z)/dz\", \"value\": 0.21730153340409658}, {\"z\": 0.8585858585858581, \"function\": \"d_sigmoid(z)/dz\", \"value\": 0.20904836022068476}, {\"z\": 0.9595959595959593, \"function\": \"d_sigmoid(z)/dz\", \"value\": 0.2002527559405279}, {\"z\": 1.0606060606060606, \"function\": \"d_sigmoid(z)/dz\", \"value\": 0.19104507774209661}, {\"z\": 1.1616161616161618, \"function\": \"d_sigmoid(z)/dz\", \"value\": 0.18155170228151307}, {\"z\": 1.262626262626262, \"function\": \"d_sigmoid(z)/dz\", \"value\": 0.1718921185288672}, {\"z\": 1.3636363636363633, \"function\": \"d_sigmoid(z)/dz\", \"value\": 0.16217663808676094}, {\"z\": 1.4646464646464645, \"function\": \"d_sigmoid(z)/dz\", \"value\": 0.15250473925561384}, {\"z\": 1.5656565656565657, \"function\": \"d_sigmoid(z)/dz\", \"value\": 0.14296402101701688}, {\"z\": 1.666666666666667, \"function\": \"d_sigmoid(z)/dz\", \"value\": 0.1336297123952519}, {\"z\": 1.7676767676767673, \"function\": \"d_sigmoid(z)/dz\", \"value\": 0.12456466194492084}, {\"z\": 1.8686868686868685, \"function\": \"d_sigmoid(z)/dz\", \"value\": 0.11581972087659811}, {\"z\": 1.9696969696969697, \"function\": \"d_sigmoid(z)/dz\", \"value\": 0.10743443026275797}, {\"z\": 2.070707070707071, \"function\": \"d_sigmoid(z)/dz\", \"value\": 0.0994379261224819}, {\"z\": 2.1717171717171713, \"function\": \"d_sigmoid(z)/dz\", \"value\": 0.09184998410154442}, {\"z\": 2.2727272727272725, \"function\": \"d_sigmoid(z)/dz\", \"value\": 0.08468213618666186}, {\"z\": 2.3737373737373737, \"function\": \"d_sigmoid(z)/dz\", \"value\": 0.07793880391393922}, {\"z\": 2.474747474747475, \"function\": \"d_sigmoid(z)/dz\", \"value\": 0.07161840467064726}, {\"z\": 2.5757575757575752, \"function\": \"d_sigmoid(z)/dz\", \"value\": 0.06571439910114471}, {\"z\": 2.6767676767676765, \"function\": \"d_sigmoid(z)/dz\", \"value\": 0.060216257774782976}, {\"z\": 2.7777777777777777, \"function\": \"d_sigmoid(z)/dz\", \"value\": 0.05511033387624478}, {\"z\": 2.878787878787879, \"function\": \"d_sigmoid(z)/dz\", \"value\": 0.050380635655439175}, {\"z\": 2.9797979797979792, \"function\": \"d_sigmoid(z)/dz\", \"value\": 0.04600949778341415}, {\"z\": 3.0808080808080813, \"function\": \"d_sigmoid(z)/dz\", \"value\": 0.04197815475038632}, {\"z\": 3.1818181818181817, \"function\": \"d_sigmoid(z)/dz\", \"value\": 0.03826722220742441}, {\"z\": 3.282828282828282, \"function\": \"d_sigmoid(z)/dz\", \"value\": 0.034857093906931445}, {\"z\": 3.383838383838384, \"function\": \"d_sigmoid(z)/dz\", \"value\": 0.031728262846970466}, {\"z\": 3.4848484848484844, \"function\": \"d_sigmoid(z)/dz\", \"value\": 0.02886157556094394}, {\"z\": 3.5858585858585865, \"function\": \"d_sigmoid(z)/dz\", \"value\": 0.026238428382813792}, {\"z\": 3.686868686868687, \"function\": \"d_sigmoid(z)/dz\", \"value\": 0.023840914096956527}, {\"z\": 3.787878787878787, \"function\": \"d_sigmoid(z)/dz\", \"value\": 0.021651926762008528}, {\"z\": 3.8888888888888893, \"function\": \"d_sigmoid(z)/dz\", \"value\": 0.019655231765883265}, {\"z\": 3.9898989898989896, \"function\": \"d_sigmoid(z)/dz\", \"value\": 0.01783550738912818}, {\"z\": 4.09090909090909, \"function\": \"d_sigmoid(z)/dz\", \"value\": 0.016178363372461042}, {\"z\": 4.191919191919192, \"function\": \"d_sigmoid(z)/dz\", \"value\": 0.014670341233483382}, {\"z\": 4.292929292929292, \"function\": \"d_sigmoid(z)/dz\", \"value\": 0.013298900377636981}, {\"z\": 4.3939393939393945, \"function\": \"d_sigmoid(z)/dz\", \"value\": 0.012052393411078183}, {\"z\": 4.494949494949495, \"function\": \"d_sigmoid(z)/dz\", \"value\": 0.010920033493567802}, {\"z\": 4.595959595959595, \"function\": \"d_sigmoid(z)/dz\", \"value\": 0.009891856068426704}, {\"z\": 4.696969696969697, \"function\": \"d_sigmoid(z)/dz\", \"value\": 0.00895867687174287}, {\"z\": 4.797979797979798, \"function\": \"d_sigmoid(z)/dz\", \"value\": 0.00811204775003585}, {\"z\": 4.8989898989899, \"function\": \"d_sigmoid(z)/dz\", \"value\": 0.0073442114990939465}, {\"z\": 5.0, \"function\": \"d_sigmoid(z)/dz\", \"value\": 0.006648056670790033}]}}, {\"mode\": \"vega-lite\"});\n",
       "</script>"
      ],
      "text/plain": [
       "alt.Chart(...)"
      ]
     },
     "execution_count": 14,
     "metadata": {},
     "output_type": "execute_result"
    }
   ],
   "source": [
    "alt.Chart(sigmoid_dz_df).mark_line().encode(\n",
    "    x=\"z:Q\",\n",
    "    y=\"value:Q\",\n",
    "    color=\"function:N\"\n",
    ").properties(\n",
    "    title=\"Sigmoid and her derivate function\",\n",
    "    width=600,\n",
    "    height=400\n",
    ")"
   ]
  },
  {
   "cell_type": "markdown",
   "metadata": {},
   "source": [
    "¡Es perfecta para encontrar un punto de corte y clasificar de manera binaria!"
   ]
  },
  {
   "cell_type": "markdown",
   "metadata": {},
   "source": [
    "<a id='implementation'></a>"
   ]
  },
  {
   "cell_type": "markdown",
   "metadata": {},
   "source": [
    "## Implementación"
   ]
  },
  {
   "cell_type": "markdown",
   "metadata": {
    "slideshow": {
     "slide_type": "slide"
    }
   },
   "source": [
    "### Aproximación Ingenieril\n",
    "\n",
    "¿Cómo podemos reutilizar lo que conocemos de regresión lineal?\n",
    "\n",
    "Si buscamos minimizar\n",
    "$$J(\\theta) = \\frac{1}{2} \\sum_{i=1}^{m} \\left( h_{\\theta}(x^{(i)}) - y^{(i)}\\right)^2$$\n",
    "Podemos calcular el gradiente y luego utilizar el método del máximo\n",
    "descenso para obtener $\\theta$.\n",
    "\n"
   ]
  },
  {
   "cell_type": "markdown",
   "metadata": {
    "slideshow": {
     "slide_type": "slide"
    }
   },
   "source": [
    "El cálculo del gradiente es directo:\n",
    "\n",
    "$$\\begin{aligned}\n",
    "\\frac{\\partial J(\\theta)}{\\partial \\theta_k}\n",
    "&= \\sum_{i=1}^{m} \\left( h_{\\theta}(x^{(i)}) - y^{(i)}\\right) \\frac{\\partial}{\\partial \\theta_k} h_{\\theta}(x^{(i)}) \\\\\n",
    "&= \\sum_{i=1}^{m} \\left( h_{\\theta}(x^{(i)}) - y^{(i)}\\right) \\frac{\\partial}{\\partial \\theta_k} g(\\theta^T x^{(i)}) \\\\\n",
    "&= \\sum_{i=1}^{m} \\left( h_{\\theta}(x^{(i)}) - y^{(i)}\\right) h_{\\theta}(x^{(i)}) \\left(1-h_{\\theta}(x^{(i)})\\right) \\frac{\\partial}{\\partial \\theta_k} (\\theta^T x^{(i)}) \\\\\n",
    "&= \\sum_{i=1}^{m} \\left( h_{\\theta}(x^{(i)}) - y^{(i)}\\right) h_{\\theta}(x^{(i)}) \\left(1-h_{\\theta}(x^{(i)})\\right) x^{(i)}_k\\end{aligned}$$\n"
   ]
  },
  {
   "cell_type": "markdown",
   "metadata": {
    "slideshow": {
     "slide_type": "slide"
    }
   },
   "source": [
    "¿Hay alguna forma de escribir todo esto de manera matricial? Recordemos\n",
    "que si las componentes eran\n",
    "\n",
    "$$\\begin{aligned}\n",
    "\\sum_{i=1}^{m} \\left( h_{\\theta}(x^{(i)}) - y^{(i)}\\right) x^{(i)}_k = \\sum_{i=1}^{m}  x^{(i)}_k \\left( h_{\\theta}(x^{(i)}) - y^{(i)}\\right)\\end{aligned}$$\n",
    "\n",
    "podíamos escribirlo vectorialmente como $$X^T (X\\theta - Y)$$\n",
    "\n"
   ]
  },
  {
   "cell_type": "markdown",
   "metadata": {
    "slideshow": {
     "slide_type": "slide"
    }
   },
   "source": [
    "Luego, para\n",
    "\n",
    "$$\\begin{aligned}\n",
    "\\frac{\\partial J(\\theta)}{\\partial \\theta_k}\n",
    "&= \\sum_{i=1}^{m} \\left( h_{\\theta}(x^{(i)}) - y^{(i)}\\right) h_{\\theta}(x^{(i)}) \\left(1-h_{\\theta}(x^{(i)})\\right) x^{(i)}_k \\\\\n",
    "&= \\sum_{i=1}^{m}  x^{(i)}_k \\left( h_{\\theta}(x^{(i)}) - y^{(i)}\\right) h_{\\theta}(x^{(i)}) \\left(1-h_{\\theta}(x^{(i)})\\right)\\end{aligned}$$\n",
    "\n",
    "podemos escribirlo vectorialmente como\n",
    "$$\\nabla_{\\theta} J(\\theta) = X^T  \\Big[ (g(X\\theta) - Y) \\odot g(X\\theta) \\odot (1-g(X\\theta)) \\Big]$$\n",
    "donde $\\odot$ es la multiplicación elemento a elemento (element-wise) o producto Hadamard."
   ]
  },
  {
   "cell_type": "markdown",
   "metadata": {
    "slideshow": {
     "slide_type": "slide"
    }
   },
   "source": [
    "**Observación crucial:**\n",
    "$$\\nabla_{\\theta} J(\\theta) = X^T  \\Big[ (g(X\\theta) - Y) \\odot g(X\\theta) \\odot (1-g(X\\theta)) \\Big]$$\n",
    "no permite construir un sistema lineal para $\\theta$, por lo cual sólo\n",
    "podemos resolver iterativamente.\n"
   ]
  },
  {
   "cell_type": "markdown",
   "metadata": {
    "slideshow": {
     "slide_type": "slide"
    }
   },
   "source": [
    "Por\n",
    "lo tanto tenemos el algoritmo\n",
    "\n",
    "$$\\begin{aligned}\n",
    "\\theta^{(n+1)} & = \\theta^{(n)} - \\alpha \\nabla_{\\theta} J(\\theta^{(n)}) \\\\\n",
    "\\nabla_{\\theta} J(\\theta) &= X^T  \\Big[ (g(X\\theta) - Y) \\odot g(X\\theta) \\odot (1-g(X\\theta)) \\Big]\\end{aligned}$$\n",
    "\n"
   ]
  },
  {
   "cell_type": "markdown",
   "metadata": {
    "slideshow": {
     "slide_type": "slide"
    }
   },
   "source": [
    "El código sería el siguiente:"
   ]
  },
  {
   "cell_type": "code",
   "execution_count": 15,
   "metadata": {},
   "outputs": [],
   "source": [
    "def norm2_error_logistic_regression(X, Y, theta0, tol=1E-6):\n",
    "    converged = False\n",
    "    alpha = 0.01 / len(Y)\n",
    "    theta = theta0\n",
    "    while not converged:\n",
    "        H = sigmoid(np.dot(X, theta))\n",
    "        gradient = np.dot(X.T, (H - Y) * H * (1 - H))\n",
    "        new_theta = theta - alpha * gradient\n",
    "        converged = np.linalg.norm(theta - new_theta) < tol * np.linalg.norm(theta) \n",
    "        theta = new_theta\n",
    "    return theta"
   ]
  },
  {
   "cell_type": "markdown",
   "metadata": {
    "slideshow": {
     "slide_type": "slide"
    }
   },
   "source": [
    "### Interpretación Probabilística\n",
    "\n",
    "¿Es la derivación anterior\n",
    "probabilísticamente correcta?\n",
    "\n",
    "Asumamos que la pertenencia a los grupos está dado por\n",
    "\n",
    "$$\\begin{aligned}\n",
    "\\mathbb{P}[y = 1| \\ x ; \\theta ] & = h_\\theta(x) \\\\\n",
    "\\mathbb{P}[y = 0| \\ x ; \\theta ] & = 1 - h_\\theta(x)\\end{aligned}$$\n",
    "\n",
    "Esto es, una distribución de Bernoulli con $p=h_\\theta(x)$.\\\n",
    "Las expresiones anteriores pueden escribirse de manera más compacta como\n",
    "\n",
    "$$\\begin{aligned}\n",
    "\\mathbb{P}[y | \\ x ; \\theta ] & = (h_\\theta(x))^y (1 - h_\\theta(x))^{(1-y)} \\\\\\end{aligned}$$\n"
   ]
  },
  {
   "cell_type": "markdown",
   "metadata": {
    "slideshow": {
     "slide_type": "slide"
    }
   },
   "source": [
    "La función de verosimilitud $L(\\theta)$ nos\n",
    "permite entender que tan probable es encontrar los datos observados,\n",
    "para una elección del parámetro $\\theta$.\n",
    "\n",
    "$$\\begin{aligned}\n",
    "L(\\theta) \n",
    "&= \\prod_{i=1}^{m} \\mathbb{P}[y^{(i)}| x^{(i)}; \\theta ] \\\\\n",
    "&= \\prod_{i=1}^{m} \\Big(h_{\\theta}(x^{(i)})\\Big)^{y^{(i)}} \\Big(1 - h_\\theta(x^{(i)})\\Big)^{(1-y^{(i)})}\\end{aligned}$$\n",
    "\n",
    "Nos gustaría encontrar el parámetro $\\theta$ que más probablemente haya\n",
    "generado los datos observados, es decir, el parámetro $\\theta$ que\n",
    "maximiza la función de verosimilitud.\n"
   ]
  },
  {
   "cell_type": "markdown",
   "metadata": {
    "slideshow": {
     "slide_type": "slide"
    }
   },
   "source": [
    "Calculamos la log-verosimilitud:\n",
    "\n",
    "$$\\begin{aligned}\n",
    "l(\\theta) \n",
    "&= \\log L(\\theta) \\\\\n",
    "&= \\log \\prod_{i=1}^{m} (h_\\theta(x^{(i)}))^{y^{(i)}} (1 - h_\\theta(x^{(i)}))^{(1-y^{(i)})} \\\\\n",
    "&= \\sum_{i=1}^{m} y^{(i)}\\log (h_\\theta(x^{(i)})) + (1-y^{(i)}) \\log (1 - h_\\theta(x^{(i)}))\\end{aligned}$$\n",
    "\n",
    "No existe una fórmula cerrada que nos permita obtener el máximo de la\n",
    "log-verosimitud. Pero podemos utilizar nuevamente el método del\n",
    "gradiente máximo.\n"
   ]
  },
  {
   "cell_type": "markdown",
   "metadata": {
    "slideshow": {
     "slide_type": "slide"
    }
   },
   "source": [
    "Recordemos que si\n",
    "\n",
    "$$\\begin{aligned}\n",
    "g(z) = \\frac{1}{1+e^{-z}}\\end{aligned}$$\n",
    "\n",
    "Entonces\n",
    "\n",
    "$$\\begin{aligned}\n",
    "g'(z) &= g(z)(1-g(z))\\end{aligned}$$\n",
    "\n",
    "y luego tenemos que\n",
    "\n",
    "$$\\begin{aligned}\n",
    "\\frac{\\partial}{\\partial \\theta_k} h_\\theta(x) &= h_\\theta(x) (1-h_\\theta(x)) x_k\\end{aligned}$$\n"
   ]
  },
  {
   "cell_type": "markdown",
   "metadata": {
    "slideshow": {
     "slide_type": "slide"
    }
   },
   "source": [
    "$$\\begin{aligned}\n",
    "\\frac{\\partial}{\\partial \\theta_k} l(\\theta) &=\n",
    "\\frac{\\partial}{\\partial \\theta_k}  \\sum_{i=1}^{m} y^{(i)}\\log (h_\\theta(x^{(i)})) + (1-y^{(i)}) \\log (1 - h_\\theta(x^{(i)})) \\\\\n",
    "&= \\sum_{i=1}^{m} y^{(i)}\\frac{\\partial}{\\partial \\theta_k}   \\log (h_\\theta(x^{(i)})) + (1-y^{(i)}) \\frac{\\partial}{\\partial \\theta_k}  \\log (1 - h_\\theta(x^{(i)})) \\\\\n",
    "&= \\sum_{i=1}^{m} y^{(i)}\\frac{1}{h_\\theta(x^{(i)})}\\frac{\\partial h_\\theta(x^{(i)})}{\\partial \\theta_k} \n",
    "+ (1-y^{(i)}) \\frac{1}{1 - h_\\theta(x^{(i)})} \\frac{\\partial (1-h_\\theta(x^{(i)}))}{\\partial \\theta_k} \\\\\n",
    "&= \\sum_{i=1}^{m} y^{(i)}(1-h_\\theta(x^{(i)})) x^{(i)}- (1-y^{(i)}) h_\\theta(x^{(i)}) x^{(i)}\\\\\n",
    "&= \\sum_{i=1}^{m} y^{(i)}x^{(i)}- y^{(i)}h_\\theta(x^{(i)}) x^{(i)}- h_\\theta(x^{(i)}) x^{(i)}+ y^{(i)}h_\\theta(x^{(i)}) x^{(i)}\\\\\n",
    "&= \\sum_{i=1}^{m} (y^{(i)}-h_\\theta(x^{(i)})) x^{(i)}\\end{aligned}$$\n"
   ]
  },
  {
   "cell_type": "markdown",
   "metadata": {
    "slideshow": {
     "slide_type": "slide"
    }
   },
   "source": [
    "Es decir, para maximizar la log-verosimilitud\n",
    "obtenemos igual que para la regresión lineal:\n",
    "\n",
    "$$\\begin{aligned}\n",
    "\\theta^{(n+1)} & = \\theta^{(n)} - \\alpha \\nabla_{\\theta} l(\\theta^{(n)}) \\\\\n",
    "\\frac{\\partial l(\\theta)}{\\partial \\theta_k}\n",
    "&= \\sum_{i=1}^{m} \\left( h_{\\theta}(x^{(i)}) - y^{(i)}\\right) x^{(i)}_k\\end{aligned}$$\n",
    "\n",
    "Aunque, en el caso de regresión logística, se tiene\n",
    "$h_\\theta(x)=1/(1+e^{-x^T\\theta})$"
   ]
  },
  {
   "cell_type": "code",
   "execution_count": 16,
   "metadata": {},
   "outputs": [],
   "source": [
    "def likelihood_logistic_regression(X, Y, theta0, tol=1E-6):\n",
    "    converged = False\n",
    "    alpha = 0.01 / len(Y)\n",
    "    theta = theta0\n",
    "    while not converged:\n",
    "        H = sigmoid(np.dot(X, theta))\n",
    "        gradient = np.dot(X.T, H - Y)\n",
    "        new_theta = theta - alpha * gradient\n",
    "        converged = np.linalg.norm(theta - new_theta) < tol * np.linalg.norm(theta) \n",
    "        theta = new_theta\n",
    "    return theta"
   ]
  },
  {
   "cell_type": "markdown",
   "metadata": {},
   "source": [
    "## Aplicación"
   ]
  },
  {
   "cell_type": "markdown",
   "metadata": {},
   "source": [
    "Recordemos que los datos son:"
   ]
  },
  {
   "cell_type": "code",
   "execution_count": 17,
   "metadata": {},
   "outputs": [
    {
     "data": {
      "text/html": [
       "<div>\n",
       "<style scoped>\n",
       "    .dataframe tbody tr th:only-of-type {\n",
       "        vertical-align: middle;\n",
       "    }\n",
       "\n",
       "    .dataframe tbody tr th {\n",
       "        vertical-align: top;\n",
       "    }\n",
       "\n",
       "    .dataframe thead th {\n",
       "        text-align: right;\n",
       "    }\n",
       "</style>\n",
       "<table border=\"1\" class=\"dataframe\">\n",
       "  <thead>\n",
       "    <tr style=\"text-align: right;\">\n",
       "      <th></th>\n",
       "      <th>temp_f</th>\n",
       "      <th>nm_bad_rings</th>\n",
       "      <th>temp_c</th>\n",
       "      <th>is_failure</th>\n",
       "      <th>ds_failure</th>\n",
       "    </tr>\n",
       "  </thead>\n",
       "  <tbody>\n",
       "    <tr>\n",
       "      <th>0</th>\n",
       "      <td>53</td>\n",
       "      <td>3</td>\n",
       "      <td>11.67</td>\n",
       "      <td>1</td>\n",
       "      <td>Falla</td>\n",
       "    </tr>\n",
       "    <tr>\n",
       "      <th>1</th>\n",
       "      <td>56</td>\n",
       "      <td>1</td>\n",
       "      <td>13.33</td>\n",
       "      <td>1</td>\n",
       "      <td>Falla</td>\n",
       "    </tr>\n",
       "    <tr>\n",
       "      <th>2</th>\n",
       "      <td>57</td>\n",
       "      <td>1</td>\n",
       "      <td>13.89</td>\n",
       "      <td>1</td>\n",
       "      <td>Falla</td>\n",
       "    </tr>\n",
       "    <tr>\n",
       "      <th>3</th>\n",
       "      <td>63</td>\n",
       "      <td>0</td>\n",
       "      <td>17.22</td>\n",
       "      <td>0</td>\n",
       "      <td>Éxito</td>\n",
       "    </tr>\n",
       "    <tr>\n",
       "      <th>4</th>\n",
       "      <td>66</td>\n",
       "      <td>0</td>\n",
       "      <td>18.89</td>\n",
       "      <td>0</td>\n",
       "      <td>Éxito</td>\n",
       "    </tr>\n",
       "  </tbody>\n",
       "</table>\n",
       "</div>"
      ],
      "text/plain": [
       "   temp_f  nm_bad_rings  temp_c  is_failure ds_failure\n",
       "0      53             3   11.67           1      Falla\n",
       "1      56             1   13.33           1      Falla\n",
       "2      57             1   13.89           1      Falla\n",
       "3      63             0   17.22           0      Éxito\n",
       "4      66             0   18.89           0      Éxito"
      ]
     },
     "execution_count": 17,
     "metadata": {},
     "output_type": "execute_result"
    }
   ],
   "source": [
    "challenger.head()"
   ]
  },
  {
   "cell_type": "markdown",
   "metadata": {},
   "source": [
    "Generamos la matriz de diseño $X$ y el vector de respuestas $Y$ a partir del dataframe anterior."
   ]
  },
  {
   "cell_type": "code",
   "execution_count": 46,
   "metadata": {},
   "outputs": [
    {
     "data": {
      "text/plain": [
       "array([[ 1.  , 11.67],\n",
       "       [ 1.  , 13.33],\n",
       "       [ 1.  , 13.89],\n",
       "       [ 1.  , 17.22],\n",
       "       [ 1.  , 18.89],\n",
       "       [ 1.  , 19.44],\n",
       "       [ 1.  , 19.44],\n",
       "       [ 1.  , 19.44],\n",
       "       [ 1.  , 20.  ],\n",
       "       [ 1.  , 20.56],\n",
       "       [ 1.  , 21.11],\n",
       "       [ 1.  , 21.11],\n",
       "       [ 1.  , 21.11],\n",
       "       [ 1.  , 21.11],\n",
       "       [ 1.  , 22.22],\n",
       "       [ 1.  , 22.78],\n",
       "       [ 1.  , 23.89],\n",
       "       [ 1.  , 23.89],\n",
       "       [ 1.  , 24.44],\n",
       "       [ 1.  , 24.44],\n",
       "       [ 1.  , 25.56],\n",
       "       [ 1.  , 26.11],\n",
       "       [ 1.  , 26.67],\n",
       "       [ 1.  , 27.22]])"
      ]
     },
     "execution_count": 46,
     "metadata": {},
     "output_type": "execute_result"
    }
   ],
   "source": [
    "X = challenger.assign(in|tercept=1).loc[:, [\"intercept\", \"temp_c\"]].values\n",
    "y = challenger.loc[:, [\"is_failure\"]].values\n",
    "theta_0 = (y.mean() / X.mean(axis=0)).reshape(2, 1)\n"
   ]
  },
  {
   "cell_type": "code",
   "execution_count": 19,
   "metadata": {},
   "outputs": [
    {
     "name": "stdout",
     "output_type": "stream",
     "text": [
      "theta_0 =\n",
      " [[0.29166667]\n",
      " [0.01384658]]\n",
      "\n",
      "theta_J =\n",
      " [[ 4.47224507]\n",
      " [-0.26847216]]\n",
      "\n",
      "theta_l = \n",
      "[[ 5.27415368]\n",
      " [-0.30262323]]\n"
     ]
    }
   ],
   "source": [
    "print(f\"theta_0 =\\n {theta_0}\\n\")\n",
    "theta_J = norm2_error_logistic_regression(X, y, theta_0)\n",
    "print(f\"theta_J =\\n {theta_J}\\n\")\n",
    "theta_l = likelihood_logistic_regression(X, y, theta_0)\n",
    "print(f\"theta_l = \\n{theta_l}\")"
   ]
  },
  {
   "cell_type": "code",
   "execution_count": 20,
   "metadata": {},
   "outputs": [
    {
     "data": {
      "text/html": [
       "<div>\n",
       "<style scoped>\n",
       "    .dataframe tbody tr th:only-of-type {\n",
       "        vertical-align: middle;\n",
       "    }\n",
       "\n",
       "    .dataframe tbody tr th {\n",
       "        vertical-align: top;\n",
       "    }\n",
       "\n",
       "    .dataframe thead th {\n",
       "        text-align: right;\n",
       "    }\n",
       "</style>\n",
       "<table border=\"1\" class=\"dataframe\">\n",
       "  <thead>\n",
       "    <tr style=\"text-align: right;\">\n",
       "      <th></th>\n",
       "      <th>temp_c</th>\n",
       "      <th>prediction</th>\n",
       "      <th>value</th>\n",
       "    </tr>\n",
       "  </thead>\n",
       "  <tbody>\n",
       "    <tr>\n",
       "      <th>0</th>\n",
       "      <td>11.67</td>\n",
       "      <td>norm_2_error_prediction</td>\n",
       "      <td>0.792354</td>\n",
       "    </tr>\n",
       "    <tr>\n",
       "      <th>1</th>\n",
       "      <td>13.33</td>\n",
       "      <td>norm_2_error_prediction</td>\n",
       "      <td>0.709614</td>\n",
       "    </tr>\n",
       "    <tr>\n",
       "      <th>2</th>\n",
       "      <td>13.89</td>\n",
       "      <td>norm_2_error_prediction</td>\n",
       "      <td>0.677688</td>\n",
       "    </tr>\n",
       "    <tr>\n",
       "      <th>3</th>\n",
       "      <td>17.22</td>\n",
       "      <td>norm_2_error_prediction</td>\n",
       "      <td>0.462360</td>\n",
       "    </tr>\n",
       "    <tr>\n",
       "      <th>4</th>\n",
       "      <td>18.89</td>\n",
       "      <td>norm_2_error_prediction</td>\n",
       "      <td>0.354528</td>\n",
       "    </tr>\n",
       "  </tbody>\n",
       "</table>\n",
       "</div>"
      ],
      "text/plain": [
       "   temp_c               prediction     value\n",
       "0   11.67  norm_2_error_prediction  0.792354\n",
       "1   13.33  norm_2_error_prediction  0.709614\n",
       "2   13.89  norm_2_error_prediction  0.677688\n",
       "3   17.22  norm_2_error_prediction  0.462360\n",
       "4   18.89  norm_2_error_prediction  0.354528"
      ]
     },
     "execution_count": 20,
     "metadata": {},
     "output_type": "execute_result"
    }
   ],
   "source": [
    "predict_df = (\n",
    "    pd.DataFrame(\n",
    "        {\n",
    "            \"temp_c\": X[:, 1],\n",
    "            \"norm_2_error_prediction\": sigmoid(np.dot(X, theta_J)).ravel(),\n",
    "            \"likelihood_prediction\": sigmoid(np.dot(X, theta_l)).ravel()\n",
    "        }\n",
    "    )\n",
    "    .melt(\n",
    "        id_vars=\"temp_c\",\n",
    "        value_vars=[\"norm_2_error_prediction\", \"likelihood_prediction\"],\n",
    "        var_name=\"prediction\"\n",
    "    )\n",
    ")\n",
    "predict_df.head()"
   ]
  },
  {
   "cell_type": "code",
   "execution_count": 21,
   "metadata": {},
   "outputs": [
    {
     "data": {
      "text/html": [
       "\n",
       "<div id=\"altair-viz-7a0cc5f861104860915a9a058a8235b9\"></div>\n",
       "<script type=\"text/javascript\">\n",
       "  (function(spec, embedOpt){\n",
       "    let outputDiv = document.currentScript.previousElementSibling;\n",
       "    if (outputDiv.id !== \"altair-viz-7a0cc5f861104860915a9a058a8235b9\") {\n",
       "      outputDiv = document.getElementById(\"altair-viz-7a0cc5f861104860915a9a058a8235b9\");\n",
       "    }\n",
       "    const paths = {\n",
       "      \"vega\": \"https://cdn.jsdelivr.net/npm//vega@5?noext\",\n",
       "      \"vega-lib\": \"https://cdn.jsdelivr.net/npm//vega-lib?noext\",\n",
       "      \"vega-lite\": \"https://cdn.jsdelivr.net/npm//vega-lite@4.8.1?noext\",\n",
       "      \"vega-embed\": \"https://cdn.jsdelivr.net/npm//vega-embed@6?noext\",\n",
       "    };\n",
       "\n",
       "    function loadScript(lib) {\n",
       "      return new Promise(function(resolve, reject) {\n",
       "        var s = document.createElement('script');\n",
       "        s.src = paths[lib];\n",
       "        s.async = true;\n",
       "        s.onload = () => resolve(paths[lib]);\n",
       "        s.onerror = () => reject(`Error loading script: ${paths[lib]}`);\n",
       "        document.getElementsByTagName(\"head\")[0].appendChild(s);\n",
       "      });\n",
       "    }\n",
       "\n",
       "    function showError(err) {\n",
       "      outputDiv.innerHTML = `<div class=\"error\" style=\"color:red;\">${err}</div>`;\n",
       "      throw err;\n",
       "    }\n",
       "\n",
       "    function displayChart(vegaEmbed) {\n",
       "      vegaEmbed(outputDiv, spec, embedOpt)\n",
       "        .catch(err => showError(`Javascript Error: ${err.message}<br>This usually means there's a typo in your chart specification. See the javascript console for the full traceback.`));\n",
       "    }\n",
       "\n",
       "    if(typeof define === \"function\" && define.amd) {\n",
       "      requirejs.config({paths});\n",
       "      require([\"vega-embed\"], displayChart, err => showError(`Error loading script: ${err.message}`));\n",
       "    } else if (typeof vegaEmbed === \"function\") {\n",
       "      displayChart(vegaEmbed);\n",
       "    } else {\n",
       "      loadScript(\"vega\")\n",
       "        .then(() => loadScript(\"vega-lite\"))\n",
       "        .then(() => loadScript(\"vega-embed\"))\n",
       "        .catch(showError)\n",
       "        .then(() => displayChart(vegaEmbed));\n",
       "    }\n",
       "  })({\"config\": {\"background\": \"white\", \"view\": {\"continuousWidth\": 400, \"continuousHeight\": 300}}, \"layer\": [{\"data\": {\"name\": \"data-5ce80f53007801999a37b611b1a43830\"}, \"mark\": \"line\", \"encoding\": {\"color\": {\"type\": \"nominal\", \"field\": \"prediction\"}, \"x\": {\"type\": \"quantitative\", \"field\": \"temp_c\", \"scale\": {\"zero\": false}, \"title\": \"Temperature [C]\"}, \"y\": {\"type\": \"quantitative\", \"field\": \"value\", \"scale\": {\"padding\": 0.5}}}}, {\"data\": {\"name\": \"data-2fb7a229c8f7d9b13ce371da893c47d0\"}, \"mark\": {\"type\": \"circle\", \"size\": 100}, \"encoding\": {\"color\": {\"type\": \"nominal\", \"field\": \"ds_failure\"}, \"x\": {\"type\": \"quantitative\", \"field\": \"temp_c\", \"scale\": {\"zero\": false}, \"title\": \"Temperature [C]\"}, \"y\": {\"type\": \"quantitative\", \"field\": \"is_failure\", \"scale\": {\"padding\": 0.5}, \"title\": \"Success/Failure\"}}, \"height\": 400, \"title\": \"Exito o Falla en lanzamiento de Challenger\", \"width\": 600}, {\"data\": {\"name\": \"data-13d9e1290c4369dbfdef9c3df0e2f780\"}, \"mark\": \"rule\", \"encoding\": {\"y\": {\"type\": \"quantitative\", \"field\": \"decision_boundary\"}}}], \"title\": \"Data and Prediction Failure\", \"$schema\": \"https://vega.github.io/schema/vega-lite/v4.8.1.json\", \"datasets\": {\"data-5ce80f53007801999a37b611b1a43830\": [{\"temp_c\": 11.67, \"prediction\": \"norm_2_error_prediction\", \"value\": 0.7923542360384577}, {\"temp_c\": 13.33, \"prediction\": \"norm_2_error_prediction\", \"value\": 0.7096142307176428}, {\"temp_c\": 13.89, \"prediction\": \"norm_2_error_prediction\", \"value\": 0.6776879594852155}, {\"temp_c\": 17.22, \"prediction\": \"norm_2_error_prediction\", \"value\": 0.46235997414579544}, {\"temp_c\": 18.89, \"prediction\": \"norm_2_error_prediction\", \"value\": 0.35452811769161985}, {\"temp_c\": 19.44, \"prediction\": \"norm_2_error_prediction\", \"value\": 0.32150725492763105}, {\"temp_c\": 19.44, \"prediction\": \"norm_2_error_prediction\", \"value\": 0.32150725492763105}, {\"temp_c\": 19.44, \"prediction\": \"norm_2_error_prediction\", \"value\": 0.32150725492763105}, {\"temp_c\": 20.0, \"prediction\": \"norm_2_error_prediction\", \"value\": 0.2896266317688506}, {\"temp_c\": 20.56, \"prediction\": \"norm_2_error_prediction\", \"value\": 0.25969728854807134}, {\"temp_c\": 21.11, \"prediction\": \"norm_2_error_prediction\", \"value\": 0.2323298212007703}, {\"temp_c\": 21.11, \"prediction\": \"norm_2_error_prediction\", \"value\": 0.2323298212007703}, {\"temp_c\": 21.11, \"prediction\": \"norm_2_error_prediction\", \"value\": 0.2323298212007703}, {\"temp_c\": 21.11, \"prediction\": \"norm_2_error_prediction\", \"value\": 0.2323298212007703}, {\"temp_c\": 22.22, \"prediction\": \"norm_2_error_prediction\", \"value\": 0.18344097052771421}, {\"temp_c\": 22.78, \"prediction\": \"norm_2_error_prediction\", \"value\": 0.1619824991712567}, {\"temp_c\": 23.89, \"prediction\": \"norm_2_error_prediction\", \"value\": 0.12547714704413018}, {\"temp_c\": 23.89, \"prediction\": \"norm_2_error_prediction\", \"value\": 0.12547714704413018}, {\"temp_c\": 24.44, \"prediction\": \"norm_2_error_prediction\", \"value\": 0.11014954609519079}, {\"temp_c\": 24.44, \"prediction\": \"norm_2_error_prediction\", \"value\": 0.11014954609519079}, {\"temp_c\": 25.56, \"prediction\": \"norm_2_error_prediction\", \"value\": 0.08394586898228021}, {\"temp_c\": 26.11, \"prediction\": \"norm_2_error_prediction\", \"value\": 0.07326647207216815}, {\"temp_c\": 26.67, \"prediction\": \"norm_2_error_prediction\", \"value\": 0.06369069621878767}, {\"temp_c\": 27.22, \"prediction\": \"norm_2_error_prediction\", \"value\": 0.055432186922286006}, {\"temp_c\": 11.67, \"prediction\": \"likelihood_prediction\", \"value\": 0.8510094786632211}, {\"temp_c\": 13.33, \"prediction\": \"likelihood_prediction\", \"value\": 0.7755963912539553}, {\"temp_c\": 13.89, \"prediction\": \"likelihood_prediction\", \"value\": 0.7447332466462059}, {\"temp_c\": 17.22, \"prediction\": \"likelihood_prediction\", \"value\": 0.5157402093478763}, {\"temp_c\": 18.89, \"prediction\": \"likelihood_prediction\", \"value\": 0.39116944928039915}, {\"temp_c\": 19.44, \"prediction\": \"likelihood_prediction\", \"value\": 0.3523234160034029}, {\"temp_c\": 19.44, \"prediction\": \"likelihood_prediction\", \"value\": 0.3523234160034029}, {\"temp_c\": 19.44, \"prediction\": \"likelihood_prediction\", \"value\": 0.3523234160034029}, {\"temp_c\": 20.0, \"prediction\": \"likelihood_prediction\", \"value\": 0.31468403281255597}, {\"temp_c\": 20.56, \"prediction\": \"likelihood_prediction\", \"value\": 0.27933151265838174}, {\"temp_c\": 21.11, \"prediction\": \"likelihood_prediction\", \"value\": 0.24708448166589816}, {\"temp_c\": 21.11, \"prediction\": \"likelihood_prediction\", \"value\": 0.24708448166589816}, {\"temp_c\": 21.11, \"prediction\": \"likelihood_prediction\", \"value\": 0.24708448166589816}, {\"temp_c\": 21.11, \"prediction\": \"likelihood_prediction\", \"value\": 0.24708448166589816}, {\"temp_c\": 22.22, \"prediction\": \"likelihood_prediction\", \"value\": 0.18998086645206838}, {\"temp_c\": 22.78, \"prediction\": \"likelihood_prediction\", \"value\": 0.16525955771615336}, {\"temp_c\": 23.89, \"prediction\": \"likelihood_prediction\", \"value\": 0.1239532151155677}, {\"temp_c\": 23.89, \"prediction\": \"likelihood_prediction\", \"value\": 0.1239532151155677}, {\"temp_c\": 24.44, \"prediction\": \"likelihood_prediction\", \"value\": 0.10698085973924108}, {\"temp_c\": 24.44, \"prediction\": \"likelihood_prediction\", \"value\": 0.10698085973924108}, {\"temp_c\": 25.56, \"prediction\": \"likelihood_prediction\", \"value\": 0.078645381344901}, {\"temp_c\": 26.11, \"prediction\": \"likelihood_prediction\", \"value\": 0.0673995282299259}, {\"temp_c\": 26.67, \"prediction\": \"likelihood_prediction\", \"value\": 0.057496915937256476}, {\"temp_c\": 27.22, \"prediction\": \"likelihood_prediction\", \"value\": 0.04911397184479541}], \"data-2fb7a229c8f7d9b13ce371da893c47d0\": [{\"temp_f\": 53, \"nm_bad_rings\": 3, \"temp_c\": 11.67, \"is_failure\": 1, \"ds_failure\": \"Falla\"}, {\"temp_f\": 56, \"nm_bad_rings\": 1, \"temp_c\": 13.33, \"is_failure\": 1, \"ds_failure\": \"Falla\"}, {\"temp_f\": 57, \"nm_bad_rings\": 1, \"temp_c\": 13.89, \"is_failure\": 1, \"ds_failure\": \"Falla\"}, {\"temp_f\": 63, \"nm_bad_rings\": 0, \"temp_c\": 17.22, \"is_failure\": 0, \"ds_failure\": \"\\u00c9xito\"}, {\"temp_f\": 66, \"nm_bad_rings\": 0, \"temp_c\": 18.89, \"is_failure\": 0, \"ds_failure\": \"\\u00c9xito\"}, {\"temp_f\": 67, \"nm_bad_rings\": 0, \"temp_c\": 19.44, \"is_failure\": 0, \"ds_failure\": \"\\u00c9xito\"}, {\"temp_f\": 67, \"nm_bad_rings\": 0, \"temp_c\": 19.44, \"is_failure\": 0, \"ds_failure\": \"\\u00c9xito\"}, {\"temp_f\": 67, \"nm_bad_rings\": 0, \"temp_c\": 19.44, \"is_failure\": 0, \"ds_failure\": \"\\u00c9xito\"}, {\"temp_f\": 68, \"nm_bad_rings\": 0, \"temp_c\": 20.0, \"is_failure\": 0, \"ds_failure\": \"\\u00c9xito\"}, {\"temp_f\": 69, \"nm_bad_rings\": 0, \"temp_c\": 20.56, \"is_failure\": 0, \"ds_failure\": \"\\u00c9xito\"}, {\"temp_f\": 70, \"nm_bad_rings\": 0, \"temp_c\": 21.11, \"is_failure\": 0, \"ds_failure\": \"\\u00c9xito\"}, {\"temp_f\": 70, \"nm_bad_rings\": 1, \"temp_c\": 21.11, \"is_failure\": 1, \"ds_failure\": \"Falla\"}, {\"temp_f\": 70, \"nm_bad_rings\": 1, \"temp_c\": 21.11, \"is_failure\": 1, \"ds_failure\": \"Falla\"}, {\"temp_f\": 70, \"nm_bad_rings\": 1, \"temp_c\": 21.11, \"is_failure\": 1, \"ds_failure\": \"Falla\"}, {\"temp_f\": 72, \"nm_bad_rings\": 0, \"temp_c\": 22.22, \"is_failure\": 0, \"ds_failure\": \"\\u00c9xito\"}, {\"temp_f\": 73, \"nm_bad_rings\": 0, \"temp_c\": 22.78, \"is_failure\": 0, \"ds_failure\": \"\\u00c9xito\"}, {\"temp_f\": 75, \"nm_bad_rings\": 0, \"temp_c\": 23.89, \"is_failure\": 0, \"ds_failure\": \"\\u00c9xito\"}, {\"temp_f\": 75, \"nm_bad_rings\": 2, \"temp_c\": 23.89, \"is_failure\": 1, \"ds_failure\": \"Falla\"}, {\"temp_f\": 76, \"nm_bad_rings\": 0, \"temp_c\": 24.44, \"is_failure\": 0, \"ds_failure\": \"\\u00c9xito\"}, {\"temp_f\": 76, \"nm_bad_rings\": 0, \"temp_c\": 24.44, \"is_failure\": 0, \"ds_failure\": \"\\u00c9xito\"}, {\"temp_f\": 78, \"nm_bad_rings\": 0, \"temp_c\": 25.56, \"is_failure\": 0, \"ds_failure\": \"\\u00c9xito\"}, {\"temp_f\": 79, \"nm_bad_rings\": 0, \"temp_c\": 26.11, \"is_failure\": 0, \"ds_failure\": \"\\u00c9xito\"}, {\"temp_f\": 80, \"nm_bad_rings\": 0, \"temp_c\": 26.67, \"is_failure\": 0, \"ds_failure\": \"\\u00c9xito\"}, {\"temp_f\": 81, \"nm_bad_rings\": 0, \"temp_c\": 27.22, \"is_failure\": 0, \"ds_failure\": \"\\u00c9xito\"}], \"data-13d9e1290c4369dbfdef9c3df0e2f780\": [{\"decision_boundary\": 0.5}]}}, {\"mode\": \"vega-lite\"});\n",
       "</script>"
      ],
      "text/plain": [
       "alt.LayerChart(...)"
      ]
     },
     "execution_count": 21,
     "metadata": {},
     "output_type": "execute_result"
    }
   ],
   "source": [
    "prediction_chart = alt.Chart(predict_df).mark_line().encode(\n",
    "    x=alt.X(\"temp_c:Q\", scale=alt.Scale(zero=False), title=\"Temperature [C]\"),\n",
    "    y=alt.Y(\"value:Q\", scale=alt.Scale(padding=0.5)),\n",
    "    color=\"prediction:N\"\n",
    ")\n",
    "\n",
    "rule = alt.Chart(pd.DataFrame({\"decision_boundary\": [0.5]})).mark_rule().encode(y='decision_boundary')\n",
    "\n",
    "(prediction_chart + failure_chart + rule).properties(title=\"Data and Prediction Failure\")"
   ]
  },
  {
   "cell_type": "markdown",
   "metadata": {},
   "source": [
    "### scikit-learn"
   ]
  },
  {
   "cell_type": "markdown",
   "metadata": {},
   "source": [
    "Scikit-learn tiene su propia implementación de Regresión Logística al igual que la Regresión Lineal. A medida que vayas leyendo e interiorizándote en la librería verás que tratan de mantener una sintaxis y API consistente en los distintos objetos y métodos."
   ]
  },
  {
   "cell_type": "code",
   "execution_count": 22,
   "metadata": {},
   "outputs": [],
   "source": [
    "from sklearn.linear_model import LogisticRegression"
   ]
  },
  {
   "cell_type": "code",
   "execution_count": 28,
   "metadata": {},
   "outputs": [
    {
     "data": {
      "text/plain": [
       "LogisticRegression()"
      ]
     },
     "execution_count": 28,
     "metadata": {},
     "output_type": "execute_result"
    }
   ],
   "source": [
    "X = challenger[[\"temp_c\"]].values\n",
    "y = challenger[\"is_failure\"].values\n",
    "\n",
    "# Fitting the model\n",
    "Logit = LogisticRegression(solver=\"lbfgs\")\n",
    "Logit.fit(X, y)"
   ]
  },
  {
   "cell_type": "code",
   "execution_count": 29,
   "metadata": {},
   "outputs": [
    {
     "name": "stdout",
     "output_type": "stream",
     "text": [
      "[5.25668668] [[-0.30158355]]\n"
     ]
    }
   ],
   "source": [
    "# Obtain the coefficients\n",
    "print(Logit.intercept_, Logit.coef_ )\n",
    "\n",
    "# Predicting values\n",
    "y_pred = Logit.predict(X)"
   ]
  },
  {
   "cell_type": "markdown",
   "metadata": {},
   "source": [
    "Procedamos a calcular la matriz de confusión.\n",
    "\n",
    "Por definición, la matriz de confusión $C$ es tal que  $C_{i, j}$ es igual al número de observaciones conocidas en el grupo $i$ y predecidas en el grupo $j$."
   ]
  },
  {
   "cell_type": "code",
   "execution_count": 30,
   "metadata": {},
   "outputs": [
    {
     "name": "stdout",
     "output_type": "stream",
     "text": [
      "[[16  1]\n",
      " [ 4  3]]\n"
     ]
    }
   ],
   "source": [
    "from sklearn.metrics import confusion_matrix\n",
    "\n",
    "cm = confusion_matrix(y, y_pred, labels=[0, 1])\n",
    "print(cm)"
   ]
  },
  {
   "cell_type": "code",
   "execution_count": 53,
   "metadata": {},
   "outputs": [
    {
     "data": {
      "text/html": [
       "<div>\n",
       "<style scoped>\n",
       "    .dataframe tbody tr th:only-of-type {\n",
       "        vertical-align: middle;\n",
       "    }\n",
       "\n",
       "    .dataframe tbody tr th {\n",
       "        vertical-align: top;\n",
       "    }\n",
       "\n",
       "    .dataframe thead th {\n",
       "        text-align: right;\n",
       "    }\n",
       "</style>\n",
       "<table border=\"1\" class=\"dataframe\">\n",
       "  <thead>\n",
       "    <tr style=\"text-align: right;\">\n",
       "      <th></th>\n",
       "      <th>0</th>\n",
       "      <th>1</th>\n",
       "    </tr>\n",
       "  </thead>\n",
       "  <tbody>\n",
       "    <tr>\n",
       "      <th>0</th>\n",
       "      <td>16</td>\n",
       "      <td>1</td>\n",
       "    </tr>\n",
       "    <tr>\n",
       "      <th>1</th>\n",
       "      <td>4</td>\n",
       "      <td>3</td>\n",
       "    </tr>\n",
       "  </tbody>\n",
       "</table>\n",
       "</div>"
      ],
      "text/plain": [
       "    0  1\n",
       "0  16  1\n",
       "1   4  3"
      ]
     },
     "execution_count": 53,
     "metadata": {},
     "output_type": "execute_result"
    }
   ],
   "source": [
    "pd.DataFrame(cm, index=[0, 1], columns=[0, 1])"
   ]
  },
  {
   "cell_type": "code",
   "execution_count": 52,
   "metadata": {},
   "outputs": [
    {
     "data": {
      "text/plain": [
       "LogisticRegression()"
      ]
     },
     "execution_count": 52,
     "metadata": {},
     "output_type": "execute_result"
    }
   ],
   "source": [
    "Logit"
   ]
  },
  {
   "cell_type": "code",
   "execution_count": 32,
   "metadata": {},
   "outputs": [
    {
     "data": {
      "image/png": "[encoded data removed]",
      "text/plain": [
       "<Figure size 432x288 with 2 Axes>"
      ]
     },
     "metadata": {
      "needs_background": "light"
     },
     "output_type": "display_data"
    }
   ],
   "source": [
    "from sklearn.metrics import plot_confusion_matrix  # New in scikit-learn 0.22\n",
    "\n",
    "plot_confusion_matrix(Logit, X, y);"
   ]
  },
  {
   "cell_type": "markdown",
   "metadata": {},
   "source": [
    "### Otro ejemplo: Iris Dataset"
   ]
  },
  {
   "cell_type": "code",
   "execution_count": 33,
   "metadata": {},
   "outputs": [],
   "source": [
    "from sklearn import datasets \n",
    "\n",
    "iris = datasets.load_iris()\n",
    "# print(iris.DESCR)"
   ]
  },
  {
   "cell_type": "code",
   "execution_count": 34,
   "metadata": {},
   "outputs": [
    {
     "data": {
      "text/html": [
       "<div>\n",
       "<style scoped>\n",
       "    .dataframe tbody tr th:only-of-type {\n",
       "        vertical-align: middle;\n",
       "    }\n",
       "\n",
       "    .dataframe tbody tr th {\n",
       "        vertical-align: top;\n",
       "    }\n",
       "\n",
       "    .dataframe thead th {\n",
       "        text-align: right;\n",
       "    }\n",
       "</style>\n",
       "<table border=\"1\" class=\"dataframe\">\n",
       "  <thead>\n",
       "    <tr style=\"text-align: right;\">\n",
       "      <th></th>\n",
       "      <th>sepal length (cm)</th>\n",
       "      <th>sepal width (cm)</th>\n",
       "      <th>petal length (cm)</th>\n",
       "      <th>petal width (cm)</th>\n",
       "      <th>target</th>\n",
       "      <th>target_names</th>\n",
       "    </tr>\n",
       "  </thead>\n",
       "  <tbody>\n",
       "    <tr>\n",
       "      <th>0</th>\n",
       "      <td>5.1</td>\n",
       "      <td>3.5</td>\n",
       "      <td>1.4</td>\n",
       "      <td>0.2</td>\n",
       "      <td>0</td>\n",
       "      <td>setosa</td>\n",
       "    </tr>\n",
       "    <tr>\n",
       "      <th>1</th>\n",
       "      <td>4.9</td>\n",
       "      <td>3.0</td>\n",
       "      <td>1.4</td>\n",
       "      <td>0.2</td>\n",
       "      <td>0</td>\n",
       "      <td>setosa</td>\n",
       "    </tr>\n",
       "    <tr>\n",
       "      <th>2</th>\n",
       "      <td>4.7</td>\n",
       "      <td>3.2</td>\n",
       "      <td>1.3</td>\n",
       "      <td>0.2</td>\n",
       "      <td>0</td>\n",
       "      <td>setosa</td>\n",
       "    </tr>\n",
       "    <tr>\n",
       "      <th>3</th>\n",
       "      <td>4.6</td>\n",
       "      <td>3.1</td>\n",
       "      <td>1.5</td>\n",
       "      <td>0.2</td>\n",
       "      <td>0</td>\n",
       "      <td>setosa</td>\n",
       "    </tr>\n",
       "    <tr>\n",
       "      <th>4</th>\n",
       "      <td>5.0</td>\n",
       "      <td>3.6</td>\n",
       "      <td>1.4</td>\n",
       "      <td>0.2</td>\n",
       "      <td>0</td>\n",
       "      <td>setosa</td>\n",
       "    </tr>\n",
       "  </tbody>\n",
       "</table>\n",
       "</div>"
      ],
      "text/plain": [
       "   sepal length (cm)  sepal width (cm)  petal length (cm)  petal width (cm)  \\\n",
       "0                5.1               3.5                1.4               0.2   \n",
       "1                4.9               3.0                1.4               0.2   \n",
       "2                4.7               3.2                1.3               0.2   \n",
       "3                4.6               3.1                1.5               0.2   \n",
       "4                5.0               3.6                1.4               0.2   \n",
       "\n",
       "   target target_names  \n",
       "0       0       setosa  \n",
       "1       0       setosa  \n",
       "2       0       setosa  \n",
       "3       0       setosa  \n",
       "4       0       setosa  "
      ]
     },
     "execution_count": 34,
     "metadata": {},
     "output_type": "execute_result"
    }
   ],
   "source": [
    "iris_df = (\n",
    "    pd.DataFrame(iris.data, columns=iris.feature_names)\n",
    "    .assign(\n",
    "        target=iris.target,\n",
    "        target_names=lambda x: x.target.map(dict(zip(range(3), iris.target_names)))\n",
    "    )\n",
    ")\n",
    "\n",
    "iris_df.head()"
   ]
  },
  {
   "cell_type": "code",
   "execution_count": 35,
   "metadata": {},
   "outputs": [],
   "source": [
    "from sklearn.model_selection import train_test_split"
   ]
  },
  {
   "cell_type": "code",
   "execution_count": 36,
   "metadata": {},
   "outputs": [
    {
     "data": {
      "text/plain": [
       "LogisticRegression()"
      ]
     },
     "execution_count": 36,
     "metadata": {},
     "output_type": "execute_result"
    }
   ],
   "source": [
    "X = iris.data[:,  :2] # we only take the first two features.\n",
    "y = iris.target\n",
    "\n",
    "# split dataset\n",
    "X_train, X_test, y_train, y_test = train_test_split(X, y, test_size=0.2, random_state = 42) \n",
    "\n",
    "# model\n",
    "iris_lclf = LogisticRegression()\n",
    "iris_lclf.fit(X_train, y_train)"
   ]
  },
  {
   "cell_type": "code",
   "execution_count": 37,
   "metadata": {},
   "outputs": [
    {
     "data": {
      "image/png": "[encoded data removed]",
      "text/plain": [
       "<Figure size 1008x576 with 1 Axes>"
      ]
     },
     "metadata": {
      "needs_background": "light"
     },
     "output_type": "display_data"
    }
   ],
   "source": [
    "## Inspirado en https://scikit-learn.org/stable/auto_examples/linear_model/plot_iris_logistic.html#sphx-glr-auto-examples-linear-model-plot-iris-logistic-py\n",
    "\n",
    "plt.figure(figsize=(14, 8))\n",
    "\n",
    "x_min, x_max = X[:, 0].min() - .5, X[:, 0].max() + .5\n",
    "y_min, y_max = X[:, 1].min() - .5, X[:, 1].max() + .5\n",
    "\n",
    "h = .01  # step size in the mesh\n",
    "xx, yy = np.meshgrid(\n",
    "    np.arange(x_min, x_max, h),\n",
    "    np.arange(y_min, y_max, h)\n",
    ")\n",
    "Z = iris_lclf.predict(np.c_[xx.ravel(), yy.ravel()])\n",
    "\n",
    "# Put the result into a color plot\n",
    "Z = Z.reshape(xx.shape)\n",
    "plt.pcolormesh(xx, yy, Z, cmap=plt.cm.Paired, shading=\"auto\")\n",
    "\n",
    "# Plot also the real points\n",
    "plt.scatter(X[:, 0], X[:, 1], c=y, edgecolors='k', cmap=plt.cm.Paired)\n",
    "plt.xlabel('Sepal length')\n",
    "plt.ylabel('Sepal width')\n",
    "plt.show()"
   ]
  },
  {
   "cell_type": "markdown",
   "metadata": {},
   "source": [
    "Por otro lado, la predicción debe hacerse con el set de test"
   ]
  },
  {
   "cell_type": "code",
   "execution_count": 38,
   "metadata": {},
   "outputs": [
    {
     "data": {
      "image/png": "[encoded data removed]",
      "text/plain": [
       "<Figure size 432x288 with 2 Axes>"
      ]
     },
     "metadata": {
      "needs_background": "light"
     },
     "output_type": "display_data"
    }
   ],
   "source": [
    "y_pred = iris_lclf.predict(X_test)\n",
    "plot_confusion_matrix(iris_lclf, X_test, y_test);"
   ]
  },
  {
   "cell_type": "code",
   "execution_count": 39,
   "metadata": {},
   "outputs": [
    {
     "data": {
      "image/png": "[encoded data removed]",
      "text/plain": [
       "<Figure size 432x288 with 2 Axes>"
      ]
     },
     "metadata": {
      "needs_background": "light"
     },
     "output_type": "display_data"
    }
   ],
   "source": [
    "plot_confusion_matrix(iris_lclf, X_train, y_train);"
   ]
  },
  {
   "cell_type": "code",
   "execution_count": 40,
   "metadata": {},
   "outputs": [
    {
     "data": {
      "image/png": "[encoded data removed]",
      "text/plain": [
       "<Figure size 432x288 with 2 Axes>"
      ]
     },
     "metadata": {
      "needs_background": "light"
     },
     "output_type": "display_data"
    }
   ],
   "source": [
    "plot_confusion_matrix(iris_lclf, X, y);"
   ]
  },
  {
   "cell_type": "code",
   "execution_count": null,
   "metadata": {},
   "outputs": [],
   "source": []
  },
  {
   "cell_type": "code",
   "execution_count": null,
   "metadata": {},
   "outputs": [],
   "source": []
  },
  {
   "cell_type": "code",
   "execution_count": null,
   "metadata": {},
   "outputs": [],
   "source": []
  },
  {
   "cell_type": "code",
   "execution_count": null,
   "metadata": {},
   "outputs": [],
   "source": []
  }
 ],
 "metadata": {
  "kernelspec": {
   "display_name": "Python 3",
   "language": "python",
   "name": "python3"
  },
  "language_info": {
   "codemirror_mode": {
    "name": "ipython",
    "version": 3
   },
   "file_extension": ".py",
   "mimetype": "text/x-python",
   "name": "python",
   "nbconvert_exporter": "python",
   "pygments_lexer": "ipython3",
   "version": "3.7.8"
  }
 },
 "nbformat": 4,
 "nbformat_minor": 4
}
